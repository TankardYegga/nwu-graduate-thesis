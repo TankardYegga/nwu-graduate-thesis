{
 "metadata": {
  "orig_nbformat": 2,
  "kernelspec": {
   "name": "python3",
   "display_name": "Python 3",
   "language": "python"
  }
 },
 "nbformat": 4,
 "nbformat_minor": 2,
 "cells": [
  {
   "cell_type": "code",
   "execution_count": 2,
   "metadata": {},
   "outputs": [],
   "source": [
    "from matplotlib import pyplot\n",
    "import matplotlib.pyplot as plt\n",
    "from matplotlib.font_manager import FontProperties\n",
    "from matplotlib.ticker import MultipleLocator, FormatStrFormatter \n",
    "font_set = FontProperties(fname=r\"c:\\windows\\fonts\\simsun.ttc\", size=15)\n",
    "import matplotlib"
   ]
  },
  {
   "cell_type": "code",
   "execution_count": 3,
   "metadata": {},
   "outputs": [
    {
     "output_type": "execute_result",
     "data": {
      "text/plain": [
       "<matplotlib.font_manager.FontProperties at 0x7fe57f27f400>"
      ]
     },
     "metadata": {},
     "execution_count": 3
    }
   ],
   "source": [
    "font_set"
   ]
  },
  {
   "cell_type": "code",
   "execution_count": 4,
   "metadata": {},
   "outputs": [
    {
     "output_type": "display_data",
     "data": {
      "text/plain": "<Figure size 864x576 with 0 Axes>"
     },
     "metadata": {}
    }
   ],
   "source": [
    "plt.rcParams['figure.figsize'] = (12.0, 8.0) # set default size of plots\n",
    "plt.rcParams['image.interpolation'] = 'nearest'\n",
    "plt.rcParams['image.cmap'] = 'gray'\n",
    "plt.rcParams['font.sans-serif']=['SimHei']\n",
    "plt.rcParams['axes.unicode_minus']=False     \n",
    "# 设置标题大小\n",
    "plt.rcParams['font.size'] = '16'\n",
    "#解决画多幅图时出现图形部分重叠\n",
    "fig = plt.figure()"
   ]
  },
  {
   "cell_type": "code",
   "execution_count": 5,
   "metadata": {},
   "outputs": [],
   "source": [
    "matplotlib.rcParams.update(\n",
    "{\n",
    "'text.usetex': False,\n",
    "'font.family': 'stixgeneral',\n",
    "'mathtext.fontset': 'stix',\n",
    "}\n",
    ")\n",
    "myfont = FontProperties(fname='/home/linuxidc/.local/share/fonts/文泉驿正黑.ttf')"
   ]
  },
  {
   "cell_type": "code",
   "execution_count": 6,
   "metadata": {},
   "outputs": [
    {
     "output_type": "execute_result",
     "data": {
      "text/plain": [
       "<matplotlib.font_manager.FontProperties at 0x7fe575f3d3c8>"
      ]
     },
     "metadata": {},
     "execution_count": 6
    }
   ],
   "source": [
    "font_set = FontProperties(fname=r\"/System/Library/Fonts/PingFang.ttc\", size=15)\n",
    "font_set\n"
   ]
  },
  {
   "cell_type": "code",
   "execution_count": 7,
   "metadata": {},
   "outputs": [],
   "source": [
    "font_set2 = FontProperties(fname='/usr/share/fonts/STKAITI.TTF',size=15)"
   ]
  },
  {
   "cell_type": "code",
   "execution_count": 8,
   "metadata": {},
   "outputs": [
    {
     "output_type": "stream",
     "name": "stdout",
     "text": [
      "['0', '1', '2', '3', '4', '5', '6', '7', '8', '9', '10', '11', '12', '13', '14', '15', '16', '17', '18', '19']\n"
     ]
    },
    {
     "output_type": "display_data",
     "data": {
      "text/plain": "<Figure size 864x576 with 1 Axes>",
      "image/svg+xml": "<?xml version=\"1.0\" encoding=\"utf-8\" standalone=\"no\"?>\n<!DOCTYPE svg PUBLIC \"-//W3C//DTD SVG 1.1//EN\"\n  \"http://www.w3.org/Graphics/SVG/1.1/DTD/svg11.dtd\">\n<!-- Created with matplotlib (https://matplotlib.org/) -->\n<svg height=\"566.090696pt\" version=\"1.1\" viewBox=\"0 0 739.243056 566.090696\" width=\"739.243056pt\" xmlns=\"http://www.w3.org/2000/svg\" xmlns:xlink=\"http://www.w3.org/1999/xlink\">\n <metadata>\n  <rdf:RDF xmlns:cc=\"http://creativecommons.org/ns#\" xmlns:dc=\"http://purl.org/dc/elements/1.1/\" xmlns:rdf=\"http://www.w3.org/1999/02/22-rdf-syntax-ns#\">\n   <cc:Work>\n    <dc:type rdf:resource=\"http://purl.org/dc/dcmitype/StillImage\"/>\n    <dc:date>2021-04-16T17:09:39.083261</dc:date>\n    <dc:format>image/svg+xml</dc:format>\n    <dc:creator>\n     <cc:Agent>\n      <dc:title>Matplotlib v3.3.4, https://matplotlib.org/</dc:title>\n     </cc:Agent>\n    </dc:creator>\n   </cc:Work>\n  </rdf:RDF>\n </metadata>\n <defs>\n  <style type=\"text/css\">*{stroke-linecap:butt;stroke-linejoin:round;}</style>\n </defs>\n <g id=\"figure_1\">\n  <g id=\"patch_1\">\n   <path d=\"M 0 566.090696 \nL 739.243056 566.090696 \nL 739.243056 0 \nL 0 0 \nz\n\" style=\"fill:none;\"/>\n  </g>\n  <g id=\"axes_1\">\n   <g id=\"patch_2\">\n    <path d=\"M 51.955469 513.78375 \nL 721.555469 513.78375 \nL 721.555469 12.66375 \nL 51.955469 12.66375 \nz\n\" style=\"fill:#ffffff;\"/>\n   </g>\n   <g id=\"matplotlib.axis_1\">\n    <g id=\"xtick_1\">\n     <g id=\"line2d_1\">\n      <path clip-path=\"url(#p17f9a87f12)\" d=\"M 51.955469 513.78375 \nL 51.955469 12.66375 \n\" style=\"fill:none;stroke:#b0b0b0;stroke-dasharray:2.96,1.28;stroke-dashoffset:0;stroke-width:0.8;\"/>\n     </g>\n     <g id=\"line2d_2\">\n      <defs>\n       <path d=\"M 0 0 \nL 0 3.5 \n\" id=\"mfb7c233696\" style=\"stroke:#000000;stroke-width:0.8;\"/>\n      </defs>\n      <g>\n       <use style=\"stroke:#000000;stroke-width:0.8;\" x=\"51.955469\" xlink:href=\"#mfb7c233696\" y=\"513.78375\"/>\n      </g>\n     </g>\n     <g id=\"text_1\">\n      <!-- 0 -->\n      <g transform=\"translate(50.264118 534.219634)rotate(-29)scale(0.16 -0.16)\">\n       <defs>\n        <path d=\"M 47.59375 33 \nQ 47.59375 26.296875 46.296875 20.34375 \nQ 45 14.40625 42.453125 9.40625 \nQ 39.90625 4.40625 35.40625 1.5 \nQ 30.90625 -1.40625 25 -1.40625 \nQ 18.90625 -1.40625 14.296875 1.6875 \nQ 9.703125 4.796875 7.203125 10 \nQ 4.703125 15.203125 3.546875 21.09375 \nQ 2.40625 27 2.40625 33.59375 \nQ 2.40625 42.90625 4.703125 50.34375 \nQ 7 57.796875 12.34375 62.6875 \nQ 17.703125 67.59375 25.40625 67.59375 \nQ 35.203125 67.59375 41.390625 58 \nQ 47.59375 48.40625 47.59375 33 \nz\nM 38 32.5 \nQ 38 48.296875 34.640625 56.640625 \nQ 31.296875 65 24.796875 65 \nQ 18.59375 65 15.296875 56.59375 \nQ 12 48.203125 12 32.90625 \nQ 12 17.5 15.296875 9.34375 \nQ 18.59375 1.203125 25 1.203125 \nQ 31.296875 1.203125 34.640625 9.34375 \nQ 38 17.5 38 32.5 \nz\n\" id=\"STIXGeneral-Regular-48\"/>\n       </defs>\n       <use xlink:href=\"#STIXGeneral-Regular-48\"/>\n      </g>\n     </g>\n    </g>\n    <g id=\"xtick_2\">\n     <g id=\"line2d_3\">\n      <path clip-path=\"url(#p17f9a87f12)\" d=\"M 87.197574 513.78375 \nL 87.197574 12.66375 \n\" style=\"fill:none;stroke:#b0b0b0;stroke-dasharray:2.96,1.28;stroke-dashoffset:0;stroke-width:0.8;\"/>\n     </g>\n     <g id=\"line2d_4\">\n      <g>\n       <use style=\"stroke:#000000;stroke-width:0.8;\" x=\"87.197574\" xlink:href=\"#mfb7c233696\" y=\"513.78375\"/>\n      </g>\n     </g>\n     <g id=\"text_2\">\n      <!-- 1 -->\n      <g transform=\"translate(85.506223 534.219634)rotate(-29)scale(0.16 -0.16)\">\n       <defs>\n        <path d=\"M 39.40625 0 \nL 11.796875 0 \nL 11.796875 1.5 \nQ 17.296875 1.796875 19.296875 3.546875 \nQ 21.296875 5.296875 21.296875 9.5 \nL 21.296875 54.40625 \nQ 21.296875 59.296875 18.296875 59.296875 \nQ 16.90625 59.296875 13.796875 58.09375 \nL 11.09375 57.09375 \nL 11.09375 58.5 \nL 29 67.59375 \nL 29.90625 67.296875 \nL 29.90625 7.59375 \nQ 29.90625 4.296875 31.90625 2.890625 \nQ 33.90625 1.5 39.40625 1.5 \nz\n\" id=\"STIXGeneral-Regular-49\"/>\n       </defs>\n       <use xlink:href=\"#STIXGeneral-Regular-49\"/>\n      </g>\n     </g>\n    </g>\n    <g id=\"xtick_3\">\n     <g id=\"line2d_5\">\n      <path clip-path=\"url(#p17f9a87f12)\" d=\"M 122.439679 513.78375 \nL 122.439679 12.66375 \n\" style=\"fill:none;stroke:#b0b0b0;stroke-dasharray:2.96,1.28;stroke-dashoffset:0;stroke-width:0.8;\"/>\n     </g>\n     <g id=\"line2d_6\">\n      <g>\n       <use style=\"stroke:#000000;stroke-width:0.8;\" x=\"122.439679\" xlink:href=\"#mfb7c233696\" y=\"513.78375\"/>\n      </g>\n     </g>\n     <g id=\"text_3\">\n      <!-- 2 -->\n      <g transform=\"translate(120.748328 534.219634)rotate(-29)scale(0.16 -0.16)\">\n       <defs>\n        <path d=\"M 47.40625 13.703125 \nL 42 0 \nL 2.90625 0 \nL 2.90625 1.203125 \nL 20.703125 20.09375 \nQ 27.703125 27.40625 30.703125 33.5 \nQ 33.703125 39.59375 33.703125 46.09375 \nQ 33.703125 52.796875 30 56.5 \nQ 26.296875 60.203125 19.796875 60.203125 \nQ 14.40625 60.203125 11.25 57.390625 \nQ 8.09375 54.59375 5.09375 47.203125 \nL 3 47.703125 \nQ 4.703125 57 9.84375 62.296875 \nQ 15 67.59375 23.796875 67.59375 \nQ 32.09375 67.59375 37.1875 62.59375 \nQ 42.296875 57.59375 42.296875 50 \nQ 42.296875 38.703125 29.5 25.203125 \nL 13 7.59375 \nL 36.40625 7.59375 \nQ 39.703125 7.59375 41.640625 8.890625 \nQ 43.59375 10.203125 46 14.296875 \nz\n\" id=\"STIXGeneral-Regular-50\"/>\n       </defs>\n       <use xlink:href=\"#STIXGeneral-Regular-50\"/>\n      </g>\n     </g>\n    </g>\n    <g id=\"xtick_4\">\n     <g id=\"line2d_7\">\n      <path clip-path=\"url(#p17f9a87f12)\" d=\"M 157.681785 513.78375 \nL 157.681785 12.66375 \n\" style=\"fill:none;stroke:#b0b0b0;stroke-dasharray:2.96,1.28;stroke-dashoffset:0;stroke-width:0.8;\"/>\n     </g>\n     <g id=\"line2d_8\">\n      <g>\n       <use style=\"stroke:#000000;stroke-width:0.8;\" x=\"157.681785\" xlink:href=\"#mfb7c233696\" y=\"513.78375\"/>\n      </g>\n     </g>\n     <g id=\"text_4\">\n      <!-- 3 -->\n      <g transform=\"translate(155.990434 534.219634)rotate(-29)scale(0.16 -0.16)\">\n       <defs>\n        <path d=\"M 6.09375 51 \nL 4.5 51.40625 \nQ 6.796875 58.90625 11.6875 63.25 \nQ 16.59375 67.59375 24.09375 67.59375 \nQ 31.09375 67.59375 35.390625 63.796875 \nQ 39.703125 60 39.703125 53.90625 \nQ 39.703125 45.703125 30.40625 40.09375 \nQ 35.90625 37.703125 38.703125 34.796875 \nQ 43.09375 29.90625 43.09375 21.90625 \nQ 43.09375 13.90625 38.5 7.90625 \nQ 35.09375 3.296875 28.75 0.9375 \nQ 22.40625 -1.40625 15.296875 -1.40625 \nQ 4.09375 -1.40625 4.09375 4.296875 \nQ 4.09375 5.90625 5.296875 6.90625 \nQ 6.5 7.90625 8.203125 7.90625 \nQ 10.703125 7.90625 14.296875 5.296875 \nQ 18.703125 2.203125 22.90625 2.203125 \nQ 28.40625 2.203125 32.15625 6.640625 \nQ 35.90625 11.09375 35.90625 17.5 \nQ 35.90625 29 25.5 32 \nQ 22.40625 33 15.296875 33 \nL 15.296875 34.40625 \nQ 20.90625 36.296875 23.703125 38 \nQ 31.796875 42.59375 31.796875 51.40625 \nQ 31.796875 56.40625 28.9375 59 \nQ 26.09375 61.59375 21 61.59375 \nQ 12 61.59375 6.09375 51 \nz\n\" id=\"STIXGeneral-Regular-51\"/>\n       </defs>\n       <use xlink:href=\"#STIXGeneral-Regular-51\"/>\n      </g>\n     </g>\n    </g>\n    <g id=\"xtick_5\">\n     <g id=\"line2d_9\">\n      <path clip-path=\"url(#p17f9a87f12)\" d=\"M 192.92389 513.78375 \nL 192.92389 12.66375 \n\" style=\"fill:none;stroke:#b0b0b0;stroke-dasharray:2.96,1.28;stroke-dashoffset:0;stroke-width:0.8;\"/>\n     </g>\n     <g id=\"line2d_10\">\n      <g>\n       <use style=\"stroke:#000000;stroke-width:0.8;\" x=\"192.92389\" xlink:href=\"#mfb7c233696\" y=\"513.78375\"/>\n      </g>\n     </g>\n     <g id=\"text_5\">\n      <!-- 4 -->\n      <g transform=\"translate(191.232539 534.219634)rotate(-29)scale(0.16 -0.16)\">\n       <defs>\n        <path d=\"M 47.296875 16.703125 \nL 37 16.703125 \nL 37 0 \nL 29.203125 0 \nL 29.203125 16.703125 \nL 1.203125 16.703125 \nL 1.203125 23.09375 \nL 32.59375 67.59375 \nL 37 67.59375 \nL 37 23.09375 \nL 47.296875 23.09375 \nz\nM 29.203125 23.09375 \nL 29.203125 57.40625 \nL 5.203125 23.09375 \nz\n\" id=\"STIXGeneral-Regular-52\"/>\n       </defs>\n       <use xlink:href=\"#STIXGeneral-Regular-52\"/>\n      </g>\n     </g>\n    </g>\n    <g id=\"xtick_6\">\n     <g id=\"line2d_11\">\n      <path clip-path=\"url(#p17f9a87f12)\" d=\"M 228.165995 513.78375 \nL 228.165995 12.66375 \n\" style=\"fill:none;stroke:#b0b0b0;stroke-dasharray:2.96,1.28;stroke-dashoffset:0;stroke-width:0.8;\"/>\n     </g>\n     <g id=\"line2d_12\">\n      <g>\n       <use style=\"stroke:#000000;stroke-width:0.8;\" x=\"228.165995\" xlink:href=\"#mfb7c233696\" y=\"513.78375\"/>\n      </g>\n     </g>\n     <g id=\"text_6\">\n      <!-- 5 -->\n      <g transform=\"translate(226.474644 534.219634)rotate(-29)scale(0.16 -0.16)\">\n       <defs>\n        <path d=\"M 43.796875 68.09375 \nL 40.203125 59.59375 \nQ 39.59375 58.296875 37.5 58.296875 \nL 18.09375 58.296875 \nL 14.09375 49.796875 \nQ 25.09375 47.703125 30 45.25 \nQ 34.90625 42.796875 39.09375 37 \nQ 42.59375 32.203125 42.59375 24.296875 \nQ 42.59375 17.09375 40.25 12.1875 \nQ 37.90625 7.296875 32.796875 3.5 \nQ 26 -1.40625 15.796875 -1.40625 \nQ 10.09375 -1.40625 6.59375 0.296875 \nQ 3.09375 2 3.09375 4.796875 \nQ 3.09375 8.59375 7.59375 8.59375 \nQ 11.203125 8.59375 15 5.5 \nQ 18.90625 2.296875 22.09375 2.296875 \nQ 27.296875 2.296875 31.4375 7.5 \nQ 35.59375 12.703125 35.59375 19.203125 \nQ 35.59375 28.796875 28.90625 34.203125 \nQ 20.203125 41.203125 7.59375 41.203125 \nQ 6.40625 41.203125 6.40625 42 \nL 6.5 42.5 \nL 17.40625 66.203125 \nL 38.09375 66.203125 \nQ 39.796875 66.203125 40.75 66.703125 \nQ 41.703125 67.203125 42.90625 68.796875 \nz\n\" id=\"STIXGeneral-Regular-53\"/>\n       </defs>\n       <use xlink:href=\"#STIXGeneral-Regular-53\"/>\n      </g>\n     </g>\n    </g>\n    <g id=\"xtick_7\">\n     <g id=\"line2d_13\">\n      <path clip-path=\"url(#p17f9a87f12)\" d=\"M 263.4081 513.78375 \nL 263.4081 12.66375 \n\" style=\"fill:none;stroke:#b0b0b0;stroke-dasharray:2.96,1.28;stroke-dashoffset:0;stroke-width:0.8;\"/>\n     </g>\n     <g id=\"line2d_14\">\n      <g>\n       <use style=\"stroke:#000000;stroke-width:0.8;\" x=\"263.4081\" xlink:href=\"#mfb7c233696\" y=\"513.78375\"/>\n      </g>\n     </g>\n     <g id=\"text_7\">\n      <!-- 6 -->\n      <g transform=\"translate(261.716749 534.219634)rotate(-29)scale(0.16 -0.16)\">\n       <defs>\n        <path d=\"M 44.59375 68.40625 \nL 44.796875 66.796875 \nQ 33 64.90625 25.09375 57.25 \nQ 17.203125 49.59375 15.203125 38.296875 \nQ 21 42.796875 27.90625 42.796875 \nQ 36.703125 42.796875 41.75 37.1875 \nQ 46.796875 31.59375 46.796875 21.90625 \nQ 46.796875 12.09375 41.703125 5.90625 \nQ 35.796875 -1.40625 25.796875 -1.40625 \nQ 13.59375 -1.40625 8.09375 8.703125 \nQ 3.40625 17.296875 3.40625 27.90625 \nQ 3.40625 44.296875 14.296875 55.5 \nQ 20.5 61.90625 27.046875 64.546875 \nQ 33.59375 67.203125 44.59375 68.40625 \nz\nM 37.796875 18.796875 \nQ 37.796875 38.203125 24.296875 38.203125 \nQ 19.296875 38.203125 16 35.546875 \nQ 12.703125 32.90625 12.703125 26.59375 \nQ 12.703125 14.90625 16.34375 8.15625 \nQ 20 1.40625 26.90625 1.40625 \nQ 32.203125 1.40625 35 6.15625 \nQ 37.796875 10.90625 37.796875 18.796875 \nz\n\" id=\"STIXGeneral-Regular-54\"/>\n       </defs>\n       <use xlink:href=\"#STIXGeneral-Regular-54\"/>\n      </g>\n     </g>\n    </g>\n    <g id=\"xtick_8\">\n     <g id=\"line2d_15\">\n      <path clip-path=\"url(#p17f9a87f12)\" d=\"M 298.650206 513.78375 \nL 298.650206 12.66375 \n\" style=\"fill:none;stroke:#b0b0b0;stroke-dasharray:2.96,1.28;stroke-dashoffset:0;stroke-width:0.8;\"/>\n     </g>\n     <g id=\"line2d_16\">\n      <g>\n       <use style=\"stroke:#000000;stroke-width:0.8;\" x=\"298.650206\" xlink:href=\"#mfb7c233696\" y=\"513.78375\"/>\n      </g>\n     </g>\n     <g id=\"text_8\">\n      <!-- 7 -->\n      <g transform=\"translate(296.958855 534.219634)rotate(-29)scale(0.16 -0.16)\">\n       <defs>\n        <path d=\"M 44.90625 64.59375 \nL 23.703125 -0.796875 \nL 17.203125 -0.796875 \nL 37 58.796875 \nL 15.5 58.796875 \nQ 11.203125 58.796875 9.09375 57.296875 \nQ 7 55.796875 3.796875 50.59375 \nL 2 51.5 \nL 8 66.203125 \nL 44.90625 66.203125 \nz\n\" id=\"STIXGeneral-Regular-55\"/>\n       </defs>\n       <use xlink:href=\"#STIXGeneral-Regular-55\"/>\n      </g>\n     </g>\n    </g>\n    <g id=\"xtick_9\">\n     <g id=\"line2d_17\">\n      <path clip-path=\"url(#p17f9a87f12)\" d=\"M 333.892311 513.78375 \nL 333.892311 12.66375 \n\" style=\"fill:none;stroke:#b0b0b0;stroke-dasharray:2.96,1.28;stroke-dashoffset:0;stroke-width:0.8;\"/>\n     </g>\n     <g id=\"line2d_18\">\n      <g>\n       <use style=\"stroke:#000000;stroke-width:0.8;\" x=\"333.892311\" xlink:href=\"#mfb7c233696\" y=\"513.78375\"/>\n      </g>\n     </g>\n     <g id=\"text_9\">\n      <!-- 8 -->\n      <g transform=\"translate(332.20096 534.219634)rotate(-29)scale(0.16 -0.16)\">\n       <defs>\n        <path d=\"M 44.5 15.5 \nQ 44.5 7.796875 39.140625 3.1875 \nQ 33.796875 -1.40625 24.796875 -1.40625 \nQ 16.40625 -1.40625 11 3.1875 \nQ 5.59375 7.796875 5.59375 14.90625 \nQ 5.59375 20.203125 8.1875 23.953125 \nQ 10.796875 27.703125 18.59375 33.203125 \nQ 11.09375 39.40625 8.640625 43.203125 \nQ 6.203125 47 6.203125 52 \nQ 6.203125 59.09375 11.640625 63.34375 \nQ 17.09375 67.59375 25.59375 67.59375 \nQ 32.90625 67.59375 37.65625 63.4375 \nQ 42.40625 59.296875 42.40625 53.296875 \nQ 42.40625 47.796875 39.546875 44.5 \nQ 36.703125 41.203125 29 37.09375 \nQ 38 31.09375 41.25 26.390625 \nQ 44.5 21.703125 44.5 15.5 \nz\nM 35.5 53.296875 \nQ 35.5 58.5 32.59375 61.640625 \nQ 29.703125 64.796875 24.59375 64.796875 \nQ 19.5 64.796875 16.546875 62.140625 \nQ 13.59375 59.5 13.59375 54.890625 \nQ 13.59375 50.296875 16.546875 46.546875 \nQ 19.5 42.796875 26.09375 38.90625 \nQ 31.203125 41.90625 33.34375 45.25 \nQ 35.5 48.59375 35.5 53.296875 \nz\nM 27.09375 27.203125 \nL 21.203125 31.203125 \nQ 16.796875 27.59375 15 24.140625 \nQ 13.203125 20.703125 13.203125 15.796875 \nQ 13.203125 9 16.640625 5.203125 \nQ 20.09375 1.40625 25.90625 1.40625 \nQ 30.796875 1.40625 33.84375 4.453125 \nQ 36.90625 7.5 36.90625 12.40625 \nQ 36.90625 16.90625 34.59375 20.296875 \nQ 32.296875 23.703125 27.09375 27.203125 \nz\n\" id=\"STIXGeneral-Regular-56\"/>\n       </defs>\n       <use xlink:href=\"#STIXGeneral-Regular-56\"/>\n      </g>\n     </g>\n    </g>\n    <g id=\"xtick_10\">\n     <g id=\"line2d_19\">\n      <path clip-path=\"url(#p17f9a87f12)\" d=\"M 369.134416 513.78375 \nL 369.134416 12.66375 \n\" style=\"fill:none;stroke:#b0b0b0;stroke-dasharray:2.96,1.28;stroke-dashoffset:0;stroke-width:0.8;\"/>\n     </g>\n     <g id=\"line2d_20\">\n      <g>\n       <use style=\"stroke:#000000;stroke-width:0.8;\" x=\"369.134416\" xlink:href=\"#mfb7c233696\" y=\"513.78375\"/>\n      </g>\n     </g>\n     <g id=\"text_10\">\n      <!-- 9 -->\n      <g transform=\"translate(367.443065 534.219634)rotate(-29)scale(0.16 -0.16)\">\n       <defs>\n        <path d=\"M 5.90625 -2.203125 \nL 5.59375 -0.203125 \nQ 17.09375 1.796875 25.046875 9.5 \nQ 33 17.203125 36 29.40625 \nQ 30.203125 23.703125 21 23.703125 \nQ 12.90625 23.703125 7.953125 29.296875 \nQ 3 34.90625 3 44 \nQ 3 54.09375 8.953125 60.84375 \nQ 14.90625 67.59375 23.796875 67.59375 \nQ 33.296875 67.59375 39.5 60 \nQ 45.90625 52 45.90625 39.40625 \nQ 45.90625 30.59375 42.84375 22.84375 \nQ 39.796875 15.09375 33.90625 9.703125 \nQ 27.703125 4.09375 21.796875 1.640625 \nQ 15.90625 -0.796875 5.90625 -2.203125 \nz\nM 36.203125 35.5 \nL 36.203125 39.40625 \nQ 36.203125 64.796875 23 64.796875 \nQ 18.296875 64.796875 15.703125 61.40625 \nQ 14.203125 59.40625 13.203125 55.40625 \nQ 12.203125 51.40625 12.203125 47.40625 \nQ 12.203125 38.5 15.546875 33.25 \nQ 18.90625 28 24.5 28 \nQ 28.5 28 32.34375 29.953125 \nQ 36.203125 31.90625 36.203125 35.5 \nz\n\" id=\"STIXGeneral-Regular-57\"/>\n       </defs>\n       <use xlink:href=\"#STIXGeneral-Regular-57\"/>\n      </g>\n     </g>\n    </g>\n    <g id=\"xtick_11\">\n     <g id=\"line2d_21\">\n      <path clip-path=\"url(#p17f9a87f12)\" d=\"M 404.376521 513.78375 \nL 404.376521 12.66375 \n\" style=\"fill:none;stroke:#b0b0b0;stroke-dasharray:2.96,1.28;stroke-dashoffset:0;stroke-width:0.8;\"/>\n     </g>\n     <g id=\"line2d_22\">\n      <g>\n       <use style=\"stroke:#000000;stroke-width:0.8;\" x=\"404.376521\" xlink:href=\"#mfb7c233696\" y=\"513.78375\"/>\n      </g>\n     </g>\n     <g id=\"text_11\">\n      <!-- 10 -->\n      <g transform=\"translate(399.186692 538.098111)rotate(-29)scale(0.16 -0.16)\">\n       <use xlink:href=\"#STIXGeneral-Regular-49\"/>\n       <use x=\"49.999985\" xlink:href=\"#STIXGeneral-Regular-48\"/>\n      </g>\n     </g>\n    </g>\n    <g id=\"xtick_12\">\n     <g id=\"line2d_23\">\n      <path clip-path=\"url(#p17f9a87f12)\" d=\"M 439.618627 513.78375 \nL 439.618627 12.66375 \n\" style=\"fill:none;stroke:#b0b0b0;stroke-dasharray:2.96,1.28;stroke-dashoffset:0;stroke-width:0.8;\"/>\n     </g>\n     <g id=\"line2d_24\">\n      <g>\n       <use style=\"stroke:#000000;stroke-width:0.8;\" x=\"439.618627\" xlink:href=\"#mfb7c233696\" y=\"513.78375\"/>\n      </g>\n     </g>\n     <g id=\"text_12\">\n      <!-- 11 -->\n      <g transform=\"translate(434.428797 538.098111)rotate(-29)scale(0.16 -0.16)\">\n       <use xlink:href=\"#STIXGeneral-Regular-49\"/>\n       <use x=\"49.999985\" xlink:href=\"#STIXGeneral-Regular-49\"/>\n      </g>\n     </g>\n    </g>\n    <g id=\"xtick_13\">\n     <g id=\"line2d_25\">\n      <path clip-path=\"url(#p17f9a87f12)\" d=\"M 474.860732 513.78375 \nL 474.860732 12.66375 \n\" style=\"fill:none;stroke:#b0b0b0;stroke-dasharray:2.96,1.28;stroke-dashoffset:0;stroke-width:0.8;\"/>\n     </g>\n     <g id=\"line2d_26\">\n      <g>\n       <use style=\"stroke:#000000;stroke-width:0.8;\" x=\"474.860732\" xlink:href=\"#mfb7c233696\" y=\"513.78375\"/>\n      </g>\n     </g>\n     <g id=\"text_13\">\n      <!-- 12 -->\n      <g transform=\"translate(469.670902 538.098111)rotate(-29)scale(0.16 -0.16)\">\n       <use xlink:href=\"#STIXGeneral-Regular-49\"/>\n       <use x=\"49.999985\" xlink:href=\"#STIXGeneral-Regular-50\"/>\n      </g>\n     </g>\n    </g>\n    <g id=\"xtick_14\">\n     <g id=\"line2d_27\">\n      <path clip-path=\"url(#p17f9a87f12)\" d=\"M 510.102837 513.78375 \nL 510.102837 12.66375 \n\" style=\"fill:none;stroke:#b0b0b0;stroke-dasharray:2.96,1.28;stroke-dashoffset:0;stroke-width:0.8;\"/>\n     </g>\n     <g id=\"line2d_28\">\n      <g>\n       <use style=\"stroke:#000000;stroke-width:0.8;\" x=\"510.102837\" xlink:href=\"#mfb7c233696\" y=\"513.78375\"/>\n      </g>\n     </g>\n     <g id=\"text_14\">\n      <!-- 13 -->\n      <g transform=\"translate(504.913007 538.098111)rotate(-29)scale(0.16 -0.16)\">\n       <use xlink:href=\"#STIXGeneral-Regular-49\"/>\n       <use x=\"49.999985\" xlink:href=\"#STIXGeneral-Regular-51\"/>\n      </g>\n     </g>\n    </g>\n    <g id=\"xtick_15\">\n     <g id=\"line2d_29\">\n      <path clip-path=\"url(#p17f9a87f12)\" d=\"M 545.344942 513.78375 \nL 545.344942 12.66375 \n\" style=\"fill:none;stroke:#b0b0b0;stroke-dasharray:2.96,1.28;stroke-dashoffset:0;stroke-width:0.8;\"/>\n     </g>\n     <g id=\"line2d_30\">\n      <g>\n       <use style=\"stroke:#000000;stroke-width:0.8;\" x=\"545.344942\" xlink:href=\"#mfb7c233696\" y=\"513.78375\"/>\n      </g>\n     </g>\n     <g id=\"text_15\">\n      <!-- 14 -->\n      <g transform=\"translate(540.155113 538.098111)rotate(-29)scale(0.16 -0.16)\">\n       <use xlink:href=\"#STIXGeneral-Regular-49\"/>\n       <use x=\"49.999985\" xlink:href=\"#STIXGeneral-Regular-52\"/>\n      </g>\n     </g>\n    </g>\n    <g id=\"xtick_16\">\n     <g id=\"line2d_31\">\n      <path clip-path=\"url(#p17f9a87f12)\" d=\"M 580.587048 513.78375 \nL 580.587048 12.66375 \n\" style=\"fill:none;stroke:#b0b0b0;stroke-dasharray:2.96,1.28;stroke-dashoffset:0;stroke-width:0.8;\"/>\n     </g>\n     <g id=\"line2d_32\">\n      <g>\n       <use style=\"stroke:#000000;stroke-width:0.8;\" x=\"580.587048\" xlink:href=\"#mfb7c233696\" y=\"513.78375\"/>\n      </g>\n     </g>\n     <g id=\"text_16\">\n      <!-- 15 -->\n      <g transform=\"translate(575.397218 538.098111)rotate(-29)scale(0.16 -0.16)\">\n       <use xlink:href=\"#STIXGeneral-Regular-49\"/>\n       <use x=\"49.999985\" xlink:href=\"#STIXGeneral-Regular-53\"/>\n      </g>\n     </g>\n    </g>\n    <g id=\"xtick_17\">\n     <g id=\"line2d_33\">\n      <path clip-path=\"url(#p17f9a87f12)\" d=\"M 615.829153 513.78375 \nL 615.829153 12.66375 \n\" style=\"fill:none;stroke:#b0b0b0;stroke-dasharray:2.96,1.28;stroke-dashoffset:0;stroke-width:0.8;\"/>\n     </g>\n     <g id=\"line2d_34\">\n      <g>\n       <use style=\"stroke:#000000;stroke-width:0.8;\" x=\"615.829153\" xlink:href=\"#mfb7c233696\" y=\"513.78375\"/>\n      </g>\n     </g>\n     <g id=\"text_17\">\n      <!-- 16 -->\n      <g transform=\"translate(610.639323 538.098111)rotate(-29)scale(0.16 -0.16)\">\n       <use xlink:href=\"#STIXGeneral-Regular-49\"/>\n       <use x=\"49.999985\" xlink:href=\"#STIXGeneral-Regular-54\"/>\n      </g>\n     </g>\n    </g>\n    <g id=\"xtick_18\">\n     <g id=\"line2d_35\">\n      <path clip-path=\"url(#p17f9a87f12)\" d=\"M 651.071258 513.78375 \nL 651.071258 12.66375 \n\" style=\"fill:none;stroke:#b0b0b0;stroke-dasharray:2.96,1.28;stroke-dashoffset:0;stroke-width:0.8;\"/>\n     </g>\n     <g id=\"line2d_36\">\n      <g>\n       <use style=\"stroke:#000000;stroke-width:0.8;\" x=\"651.071258\" xlink:href=\"#mfb7c233696\" y=\"513.78375\"/>\n      </g>\n     </g>\n     <g id=\"text_18\">\n      <!-- 17 -->\n      <g transform=\"translate(645.881428 538.098111)rotate(-29)scale(0.16 -0.16)\">\n       <use xlink:href=\"#STIXGeneral-Regular-49\"/>\n       <use x=\"49.999985\" xlink:href=\"#STIXGeneral-Regular-55\"/>\n      </g>\n     </g>\n    </g>\n    <g id=\"xtick_19\">\n     <g id=\"line2d_37\">\n      <path clip-path=\"url(#p17f9a87f12)\" d=\"M 686.313363 513.78375 \nL 686.313363 12.66375 \n\" style=\"fill:none;stroke:#b0b0b0;stroke-dasharray:2.96,1.28;stroke-dashoffset:0;stroke-width:0.8;\"/>\n     </g>\n     <g id=\"line2d_38\">\n      <g>\n       <use style=\"stroke:#000000;stroke-width:0.8;\" x=\"686.313363\" xlink:href=\"#mfb7c233696\" y=\"513.78375\"/>\n      </g>\n     </g>\n     <g id=\"text_19\">\n      <!-- 18 -->\n      <g transform=\"translate(681.123534 538.098111)rotate(-29)scale(0.16 -0.16)\">\n       <use xlink:href=\"#STIXGeneral-Regular-49\"/>\n       <use x=\"49.999985\" xlink:href=\"#STIXGeneral-Regular-56\"/>\n      </g>\n     </g>\n    </g>\n    <g id=\"xtick_20\">\n     <g id=\"line2d_39\">\n      <path clip-path=\"url(#p17f9a87f12)\" d=\"M 721.555469 513.78375 \nL 721.555469 12.66375 \n\" style=\"fill:none;stroke:#b0b0b0;stroke-dasharray:2.96,1.28;stroke-dashoffset:0;stroke-width:0.8;\"/>\n     </g>\n     <g id=\"line2d_40\">\n      <g>\n       <use style=\"stroke:#000000;stroke-width:0.8;\" x=\"721.555469\" xlink:href=\"#mfb7c233696\" y=\"513.78375\"/>\n      </g>\n     </g>\n     <g id=\"text_20\">\n      <!-- 19 -->\n      <g transform=\"translate(716.365639 538.098111)rotate(-29)scale(0.16 -0.16)\">\n       <use xlink:href=\"#STIXGeneral-Regular-49\"/>\n       <use x=\"49.999985\" xlink:href=\"#STIXGeneral-Regular-57\"/>\n      </g>\n     </g>\n    </g>\n    <g id=\"text_21\">\n     <!-- 年龄1 -->\n     <g transform=\"translate(368.2375 555.035228)scale(0.15 -0.15)\">\n      <defs>\n       <path d=\"M 59 25.59375 \nQ 82 28.5 85.5 28.5 \nQ 88.59375 28.5 91.796875 26.390625 \nQ 95 24.296875 95 22.796875 \nQ 95 20.90625 90.90625 20.90625 \nQ 88.796875 20.90625 86.203125 21.5 \nQ 82.5 22.5 73.703125 22.5 \nQ 64.90625 22.5 59 22 \nQ 59.09375 8.59375 58.890625 0.1875 \nQ 58.703125 -8.203125 57.5 -12.390625 \nQ 56.296875 -16.59375 55.796875 -17.5 \nQ 55.296875 -18.40625 54.75 -18.40625 \nQ 54.203125 -18.40625 53.59375 -16.546875 \nQ 53 -14.703125 53 -7.40625 \nL 53.703125 21.40625 \nQ 38.296875 19.40625 33.390625 18.5 \nQ 28.5 17.59375 22.84375 16 \nQ 17.203125 14.40625 15.546875 14.40625 \nQ 13.90625 14.40625 11.25 16.09375 \nQ 8.59375 17.796875 8.59375 18.5 \nQ 8.59375 19.5 10.75 19.546875 \nQ 12.90625 19.59375 20.796875 20.59375 \nL 35.09375 22.40625 \nQ 33.09375 34.40625 30.90625 36.703125 \nQ 29.40625 38.203125 29.40625 39.203125 \nQ 29.40625 40.203125 30.953125 40.203125 \nQ 32.5 40.203125 35.59375 38.90625 \nQ 43.59375 40.09375 53.59375 42 \nQ 53.5 49.796875 52.59375 53.796875 \nQ 49.40625 53.40625 45.40625 53.40625 \nQ 41.40625 53.40625 39.09375 53.703125 \nQ 33.796875 47.796875 29.84375 44.5 \nQ 25.90625 41.203125 24.40625 41.203125 \nQ 23.796875 41.203125 23.796875 41.796875 \nQ 23.796875 42.40625 24.796875 43.40625 \nQ 33 52.09375 36.796875 59.25 \nQ 40.59375 66.40625 40.09375 68.5 \nQ 39.796875 69.59375 39.796875 70.640625 \nQ 39.796875 71.703125 41.140625 71.703125 \nQ 42.5 71.703125 45.890625 70.140625 \nQ 49.296875 68.59375 49.296875 67.34375 \nQ 49.296875 66.09375 48 65.1875 \nQ 46.703125 64.296875 43.796875 59.90625 \nQ 42.796875 58.296875 41.40625 56.59375 \nQ 51.796875 58.09375 61.296875 61.296875 \nQ 66.5 63.09375 69 63.09375 \nQ 71.5 63.09375 73.046875 62.640625 \nQ 74.59375 62.203125 74.59375 61.09375 \nQ 74.59375 59.40625 71.59375 58.34375 \nQ 68.59375 57.296875 56.796875 54.5 \nQ 59.796875 53.09375 59.796875 51.296875 \nQ 59.796875 50.5 59.5 49.546875 \nQ 59.203125 48.59375 59 43.09375 \nQ 62.09375 43.796875 65.640625 44.75 \nQ 69.203125 45.703125 71.34375 45.703125 \nQ 73.5 45.703125 75.796875 44.59375 \nQ 78.09375 43.5 78.09375 42.59375 \nQ 78.09375 41.296875 74 40.796875 \nQ 66.09375 40 59 38.796875 \nz\nM 53.703125 24.796875 \nQ 53.90625 32.796875 53.703125 38 \nQ 44.296875 36.296875 41.59375 36.296875 \nQ 38.90625 36.296875 37.296875 36.59375 \nQ 38.5 31.296875 38.90625 22.90625 \nz\n\" id=\"STKaiti-24180\"/>\n       <path d=\"M 65.703125 54.59375 \nQ 71.296875 48.796875 79 43.140625 \nQ 86.703125 37.5 98.203125 34 \nQ 101 33.09375 101 32.203125 \nQ 101 31.796875 100.203125 31.4375 \nQ 99.40625 31.09375 94.75 30.6875 \nQ 90.09375 30.296875 87.640625 30.296875 \nQ 85.203125 30.296875 83.640625 30.890625 \nQ 82.09375 31.5 80.84375 32.796875 \nQ 79.59375 34.09375 73.4375 41.546875 \nQ 67.296875 49 64.59375 52.09375 \nQ 58.796875 39.09375 53.25 33.25 \nQ 47.703125 27.40625 45.796875 27.40625 \nQ 45.40625 27.40625 45.40625 27.953125 \nQ 45.40625 28.5 46.796875 30.09375 \nQ 53.59375 38.296875 57.75 48.6875 \nQ 61.90625 59.09375 61.90625 64.59375 \nQ 61.90625 65.59375 61.59375 66.5 \nQ 61.296875 67.40625 61.296875 68.296875 \nQ 61.296875 70 62.6875 70 \nQ 64.09375 70 67.34375 68.140625 \nQ 70.59375 66.296875 70.59375 64.703125 \nQ 70.59375 63.90625 69.90625 62.90625 \nQ 68 60 65.703125 54.59375 \nz\nM 35.203125 40.296875 \nQ 45.296875 42.703125 47.296875 42.703125 \nQ 49.296875 42.703125 50.546875 42.09375 \nQ 51.796875 41.5 51.796875 40.703125 \nQ 51.796875 39.90625 50.640625 39.296875 \nQ 49.5 38.703125 47.59375 38.59375 \nQ 40.796875 38.203125 30.296875 36.59375 \nQ 34.59375 34 34.59375 33 \nQ 34.59375 32 33.84375 31.25 \nQ 33.09375 30.5 32 27.390625 \nQ 30.90625 24.296875 30.296875 23.203125 \nQ 36.40625 21.296875 37.84375 19 \nQ 39.296875 16.703125 39.296875 15.640625 \nQ 39.296875 14.59375 38.796875 13.9375 \nQ 38.296875 13.296875 37.640625 13.296875 \nQ 37 13.296875 36.453125 13.640625 \nQ 35.90625 14 33.90625 16.296875 \nQ 31.90625 18.59375 29.59375 21.703125 \nQ 26.5 15.796875 23.890625 13.140625 \nQ 21.296875 10.5 20.203125 10.5 \nQ 19.90625 10.5 19.90625 10.953125 \nQ 19.90625 11.40625 20.59375 12.5 \nQ 24.40625 18.796875 26.5 24.640625 \nQ 28.59375 30.5 28.59375 34.296875 \nQ 28.59375 35.40625 28.40625 36.296875 \nQ 21.703125 35.09375 14.296875 32.796875 \nQ 12.203125 32.203125 10.703125 32.203125 \nQ 9.203125 32.203125 7.640625 33.75 \nQ 6.09375 35.296875 6.09375 35.890625 \nQ 6.09375 36.5 6.84375 36.640625 \nQ 7.59375 36.796875 8.6875 36.75 \nQ 9.796875 36.703125 10.203125 36.703125 \nQ 12.703125 36.703125 19.5 37.703125 \nQ 19 46.09375 18.5 48.9375 \nQ 18 51.796875 16.40625 54.296875 \nQ 15.796875 55.296875 15.796875 55.9375 \nQ 15.796875 56.59375 17.09375 56.59375 \nQ 18.40625 56.59375 21 55.640625 \nQ 23.59375 54.703125 23.59375 52.40625 \nQ 23.59375 51.5 23.1875 49.640625 \nQ 22.796875 47.796875 22.796875 44.546875 \nQ 22.796875 41.296875 23 38.203125 \nL 31.203125 39.5 \nQ 31.296875 54.59375 31 59.59375 \nQ 30.703125 64.59375 29.546875 66.140625 \nQ 28.40625 67.703125 28.40625 68.59375 \nQ 28.40625 69.5 29.65625 69.5 \nQ 30.90625 69.5 34.15625 68.203125 \nQ 37.40625 66.90625 37.40625 65.09375 \nQ 37.40625 64.40625 36.84375 62.5 \nQ 36.296875 60.59375 35.796875 54.40625 \nQ 42.40625 57.40625 46 57.40625 \nQ 49.59375 57.40625 49.59375 55.953125 \nQ 49.59375 54.5 46.84375 53.390625 \nQ 44.09375 52.296875 40.9375 52.296875 \nQ 37.796875 52.296875 35.796875 53.296875 \nz\nM 63.203125 34.296875 \nQ 67.296875 34.296875 69.09375 32.046875 \nQ 70.90625 29.796875 70.90625 28.5 \nQ 70.90625 27.203125 70.203125 26.390625 \nQ 69.5 25.59375 68.296875 25.59375 \nQ 67.09375 25.59375 63.796875 28.890625 \nQ 60.5 32.203125 60.5 33.25 \nQ 60.5 34.296875 63.203125 34.296875 \nz\nM 41.703125 8.59375 \nQ 42.59375 14.796875 42.59375 19.546875 \nQ 42.59375 24.296875 41.703125 26.203125 \nQ 41.40625 26.796875 41.40625 27.5 \nQ 41.40625 28.203125 42.546875 28.203125 \nQ 43.703125 28.203125 46.140625 26.75 \nQ 48.59375 25.296875 48.59375 24.140625 \nQ 48.59375 23 48.046875 21.796875 \nQ 47.5 20.59375 46.890625 16.796875 \nQ 46.296875 13 46 9.09375 \nQ 45 -2 42.203125 -2 \nQ 40.90625 -2 40.90625 0.75 \nQ 40.90625 3.5 41.40625 6.796875 \nQ 27.796875 3.703125 22.84375 2 \nQ 17.90625 0.296875 14.59375 -2 \nQ 13.203125 -3 12.34375 -3 \nQ 11.5 -3 10.703125 -1.25 \nQ 9.90625 0.5 9.90625 1.953125 \nQ 9.90625 3.40625 11.40625 4.59375 \nQ 13.59375 6.40625 13.59375 12.90625 \nQ 13.59375 15.59375 13.09375 18.4375 \nQ 12.59375 21.296875 11.796875 22.5 \nQ 11 23.703125 11 24.546875 \nQ 11 25.40625 12.25 25.40625 \nQ 13.5 25.40625 15.75 24.203125 \nQ 18 23 18 20.5 \nQ 18 19.703125 17.796875 18.796875 \nQ 17.5 17.59375 17.5 5.203125 \nQ 23.296875 6.703125 41.703125 8.59375 \nz\nM 64.203125 1.5 \nQ 68.203125 7.296875 70.296875 11.640625 \nQ 72.40625 16 72.40625 16.5 \nQ 72.40625 17 71.5 17 \nQ 70.59375 17 64.796875 15.390625 \nQ 59 13.796875 57.390625 13.046875 \nQ 55.796875 12.296875 54.140625 12.296875 \nQ 52.5 12.296875 50.890625 13.5 \nQ 49.296875 14.703125 49.296875 15.640625 \nQ 49.296875 16.59375 50 16.84375 \nQ 50.703125 17.09375 52.796875 17.09375 \nQ 56.5 17.09375 63 18.25 \nQ 69.5 19.40625 71.5 20.5 \nQ 73.5 21.59375 75.140625 21.59375 \nQ 76.796875 21.59375 79.84375 19.640625 \nQ 82.90625 17.703125 82.90625 16.5 \nQ 82.90625 15.296875 79.75 13.640625 \nQ 76.59375 12 66 0.296875 \nQ 69.59375 -2.203125 71.5 -5 \nQ 73.40625 -7.796875 73.40625 -9.890625 \nQ 73.40625 -12 72.703125 -12.953125 \nQ 72 -13.90625 71.09375 -13.90625 \nQ 70.203125 -13.90625 69.5 -13.40625 \nQ 68.796875 -12.90625 66.5 -10.296875 \nQ 64.203125 -7.703125 60.5 -3 \nQ 56.796875 1.703125 55.9375 2.890625 \nQ 55.09375 4.09375 55.09375 4.6875 \nQ 55.09375 5.296875 55.9375 5.296875 \nQ 56.796875 5.296875 59.546875 4 \nQ 62.296875 2.703125 64.203125 1.5 \nz\n\" id=\"STKaiti-40836\"/>\n       <path d=\"M 35.5 -0.296875 \nQ 30.296875 0 23.796875 0 \nQ 17.296875 0 12.09375 -0.296875 \nL 12.09375 1.296875 \nL 17.296875 2.203125 \nQ 20.796875 2.90625 20.796875 6.09375 \nL 20.796875 55.5 \nL 8.90625 47.796875 \nL 7.5 49.703125 \nQ 14.40625 54.203125 24.09375 63.5 \nL 27.40625 63.5 \nL 27.40625 6.09375 \nQ 27.40625 2.703125 30.90625 2.09375 \nL 35.5 1.296875 \nz\n\" id=\"STKaiti-49\"/>\n      </defs>\n      <use xlink:href=\"#STKaiti-24180\"/>\n      <use x=\"99.999985\" xlink:href=\"#STKaiti-40836\"/>\n      <use x=\"199.999969\" xlink:href=\"#STKaiti-49\"/>\n     </g>\n    </g>\n   </g>\n   <g id=\"matplotlib.axis_2\">\n    <g id=\"ytick_1\">\n     <g id=\"line2d_41\">\n      <path clip-path=\"url(#p17f9a87f12)\" d=\"M 51.955469 513.78375 \nL 721.555469 513.78375 \n\" style=\"fill:none;stroke:#b0b0b0;stroke-dasharray:2.96,1.28;stroke-dashoffset:0;stroke-width:0.8;\"/>\n     </g>\n     <g id=\"line2d_42\">\n      <defs>\n       <path d=\"M 0 0 \nL -3.5 0 \n\" id=\"m1d680e0122\" style=\"stroke:#000000;stroke-width:0.8;\"/>\n      </defs>\n      <g>\n       <use style=\"stroke:#000000;stroke-width:0.8;\" x=\"51.955469\" xlink:href=\"#m1d680e0122\" y=\"513.78375\"/>\n      </g>\n     </g>\n     <g id=\"text_22\">\n      <!-- 0.0 -->\n      <g transform=\"translate(24.955469 519.2475)scale(0.16 -0.16)\">\n       <defs>\n        <path d=\"M 18.09375 4.296875 \nQ 18.09375 2.09375 16.4375 0.5 \nQ 14.796875 -1.09375 12.5 -1.09375 \nQ 10.203125 -1.09375 8.59375 0.5 \nQ 7 2.09375 7 4.390625 \nQ 7 6.703125 8.640625 8.34375 \nQ 10.296875 10 12.59375 10 \nQ 14.796875 10 16.4375 8.296875 \nQ 18.09375 6.59375 18.09375 4.296875 \nz\n\" id=\"STIXGeneral-Regular-46\"/>\n       </defs>\n       <use xlink:href=\"#STIXGeneral-Regular-48\"/>\n       <use x=\"49.999985\" xlink:href=\"#STIXGeneral-Regular-46\"/>\n       <use x=\"74.999969\" xlink:href=\"#STIXGeneral-Regular-48\"/>\n      </g>\n     </g>\n    </g>\n    <g id=\"ytick_2\">\n     <g id=\"line2d_43\">\n      <path clip-path=\"url(#p17f9a87f12)\" d=\"M 51.955469 413.55975 \nL 721.555469 413.55975 \n\" style=\"fill:none;stroke:#b0b0b0;stroke-dasharray:2.96,1.28;stroke-dashoffset:0;stroke-width:0.8;\"/>\n     </g>\n     <g id=\"line2d_44\">\n      <g>\n       <use style=\"stroke:#000000;stroke-width:0.8;\" x=\"51.955469\" xlink:href=\"#m1d680e0122\" y=\"413.55975\"/>\n      </g>\n     </g>\n     <g id=\"text_23\">\n      <!-- 0.2 -->\n      <g transform=\"translate(24.955469 419.0235)scale(0.16 -0.16)\">\n       <use xlink:href=\"#STIXGeneral-Regular-48\"/>\n       <use x=\"49.999985\" xlink:href=\"#STIXGeneral-Regular-46\"/>\n       <use x=\"74.999969\" xlink:href=\"#STIXGeneral-Regular-50\"/>\n      </g>\n     </g>\n    </g>\n    <g id=\"ytick_3\">\n     <g id=\"line2d_45\">\n      <path clip-path=\"url(#p17f9a87f12)\" d=\"M 51.955469 313.33575 \nL 721.555469 313.33575 \n\" style=\"fill:none;stroke:#b0b0b0;stroke-dasharray:2.96,1.28;stroke-dashoffset:0;stroke-width:0.8;\"/>\n     </g>\n     <g id=\"line2d_46\">\n      <g>\n       <use style=\"stroke:#000000;stroke-width:0.8;\" x=\"51.955469\" xlink:href=\"#m1d680e0122\" y=\"313.33575\"/>\n      </g>\n     </g>\n     <g id=\"text_24\">\n      <!-- 0.4 -->\n      <g transform=\"translate(24.955469 318.7995)scale(0.16 -0.16)\">\n       <use xlink:href=\"#STIXGeneral-Regular-48\"/>\n       <use x=\"49.999985\" xlink:href=\"#STIXGeneral-Regular-46\"/>\n       <use x=\"74.999969\" xlink:href=\"#STIXGeneral-Regular-52\"/>\n      </g>\n     </g>\n    </g>\n    <g id=\"ytick_4\">\n     <g id=\"line2d_47\">\n      <path clip-path=\"url(#p17f9a87f12)\" d=\"M 51.955469 213.11175 \nL 721.555469 213.11175 \n\" style=\"fill:none;stroke:#b0b0b0;stroke-dasharray:2.96,1.28;stroke-dashoffset:0;stroke-width:0.8;\"/>\n     </g>\n     <g id=\"line2d_48\">\n      <g>\n       <use style=\"stroke:#000000;stroke-width:0.8;\" x=\"51.955469\" xlink:href=\"#m1d680e0122\" y=\"213.11175\"/>\n      </g>\n     </g>\n     <g id=\"text_25\">\n      <!-- 0.6 -->\n      <g transform=\"translate(24.955469 218.5755)scale(0.16 -0.16)\">\n       <use xlink:href=\"#STIXGeneral-Regular-48\"/>\n       <use x=\"49.999985\" xlink:href=\"#STIXGeneral-Regular-46\"/>\n       <use x=\"74.999969\" xlink:href=\"#STIXGeneral-Regular-54\"/>\n      </g>\n     </g>\n    </g>\n    <g id=\"ytick_5\">\n     <g id=\"line2d_49\">\n      <path clip-path=\"url(#p17f9a87f12)\" d=\"M 51.955469 112.88775 \nL 721.555469 112.88775 \n\" style=\"fill:none;stroke:#b0b0b0;stroke-dasharray:2.96,1.28;stroke-dashoffset:0;stroke-width:0.8;\"/>\n     </g>\n     <g id=\"line2d_50\">\n      <g>\n       <use style=\"stroke:#000000;stroke-width:0.8;\" x=\"51.955469\" xlink:href=\"#m1d680e0122\" y=\"112.88775\"/>\n      </g>\n     </g>\n     <g id=\"text_26\">\n      <!-- 0.8 -->\n      <g transform=\"translate(24.955469 118.3515)scale(0.16 -0.16)\">\n       <use xlink:href=\"#STIXGeneral-Regular-48\"/>\n       <use x=\"49.999985\" xlink:href=\"#STIXGeneral-Regular-46\"/>\n       <use x=\"74.999969\" xlink:href=\"#STIXGeneral-Regular-56\"/>\n      </g>\n     </g>\n    </g>\n    <g id=\"ytick_6\">\n     <g id=\"line2d_51\">\n      <path clip-path=\"url(#p17f9a87f12)\" d=\"M 51.955469 12.66375 \nL 721.555469 12.66375 \n\" style=\"fill:none;stroke:#b0b0b0;stroke-dasharray:2.96,1.28;stroke-dashoffset:0;stroke-width:0.8;\"/>\n     </g>\n     <g id=\"line2d_52\">\n      <g>\n       <use style=\"stroke:#000000;stroke-width:0.8;\" x=\"51.955469\" xlink:href=\"#m1d680e0122\" y=\"12.66375\"/>\n      </g>\n     </g>\n     <g id=\"text_27\">\n      <!-- 1.0 -->\n      <g transform=\"translate(24.955469 18.1275)scale(0.16 -0.16)\">\n       <use xlink:href=\"#STIXGeneral-Regular-49\"/>\n       <use x=\"49.999985\" xlink:href=\"#STIXGeneral-Regular-46\"/>\n       <use x=\"74.999969\" xlink:href=\"#STIXGeneral-Regular-48\"/>\n      </g>\n     </g>\n    </g>\n    <g id=\"text_28\">\n     <!-- 死亡率2 -->\n     <g transform=\"translate(17.1 289.241719)rotate(-90)scale(0.15 -0.15)\">\n      <defs>\n       <path d=\"M 71.203125 63.703125 \nQ 74 63.703125 76.5 62.75 \nQ 79 61.796875 79 61 \nQ 79 60.203125 78.25 59.703125 \nQ 77.5 59.203125 76.140625 58.84375 \nQ 74.796875 58.5 69.09375 57.59375 \nL 42.90625 53.40625 \nQ 37.59375 52.5 35.59375 52.5 \nQ 30.40625 52.5 27.796875 53.546875 \nQ 25.203125 54.59375 25.203125 55.09375 \nQ 25.203125 55.59375 28.09375 55.796875 \nQ 40.296875 56.5 67.59375 63.296875 \nQ 69.296875 63.703125 71.203125 63.703125 \nz\nM 58.703125 23.40625 \nQ 58.09375 17.5 58.09375 13.203125 \nQ 58.09375 5.40625 61.546875 2.546875 \nQ 65 -0.296875 73 -0.296875 \nQ 77.59375 -0.296875 82 0.640625 \nQ 86.40625 1.59375 88.546875 4.09375 \nQ 90.703125 6.59375 92.5 13.203125 \nQ 93.296875 16.296875 94 16.296875 \nQ 94.703125 16.296875 94.84375 13.546875 \nQ 95 10.796875 95.640625 7.5 \nQ 96.296875 4.203125 96.84375 3.140625 \nQ 97.40625 2.09375 97.40625 1.203125 \nQ 97.40625 -2.203125 90.65625 -4.75 \nQ 83.90625 -7.296875 77.296875 -7.296875 \nQ 70.703125 -7.296875 65.046875 -5.6875 \nQ 59.40625 -4.09375 56.796875 -0.4375 \nQ 54.203125 3.203125 54.203125 11.40625 \nQ 54.203125 12.90625 54.84375 24.203125 \nQ 55.5 35.5 55.5 40.640625 \nQ 55.5 45.796875 54.703125 47.75 \nQ 53.90625 49.703125 53.90625 50.59375 \nQ 53.90625 51.5 54.84375 51.5 \nQ 55.796875 51.5 58.9375 49.953125 \nQ 62.09375 48.40625 62.09375 46.84375 \nQ 62.09375 45.296875 61.1875 42.5 \nQ 60.296875 39.703125 59 26.09375 \nQ 66.09375 31.09375 69.75 35.25 \nQ 73.40625 39.40625 73.65625 41.75 \nQ 73.90625 44.09375 75.25 44.09375 \nQ 76.59375 44.09375 79.34375 41.890625 \nQ 82.09375 39.703125 82.09375 38.453125 \nQ 82.09375 37.203125 80.5 36.296875 \nQ 77.09375 34.59375 72.40625 31.40625 \nQ 68.59375 28.90625 58.703125 23.40625 \nz\nM 32.09375 34.40625 \nQ 37.90625 34.40625 40.203125 35.703125 \nQ 41.796875 36.5 43 36.5 \nQ 44.203125 36.5 46.546875 34.703125 \nQ 48.90625 32.90625 48.90625 32.09375 \nQ 48.90625 31.296875 48 30.546875 \nQ 47.09375 29.796875 45.6875 27.390625 \nQ 44.296875 25 43.40625 23.09375 \nQ 38.40625 12.796875 32.75 6.84375 \nQ 27.09375 0.90625 20.4375 -2.34375 \nQ 13.796875 -5.59375 12.203125 -5.59375 \nQ 11.796875 -5.59375 11.796875 -5.296875 \nQ 11.796875 -4.703125 14.796875 -2.59375 \nQ 29.40625 7.09375 34.703125 17.1875 \nQ 40 27.296875 40 30.09375 \nQ 40 31.203125 39.453125 31.5 \nQ 38.90625 31.796875 37.203125 31.796875 \nQ 34.09375 31.796875 31.09375 33 \nQ 27.703125 28.5 22.546875 24.796875 \nQ 17.40625 21.09375 16.09375 21.09375 \nQ 15.796875 21.09375 15.796875 21.40625 \nQ 15.796875 22.09375 18.546875 24.75 \nQ 21.296875 27.40625 24.640625 31.703125 \nQ 28 36 29.796875 39.25 \nQ 31.59375 42.5 32.09375 44.25 \nQ 32.59375 46 32.59375 47.75 \nQ 32.59375 49.5 33.59375 49.5 \nQ 34.59375 49.5 37.09375 47.703125 \nQ 39.59375 45.90625 39.59375 44.953125 \nQ 39.59375 44 38.59375 42.796875 \nQ 36.09375 40 32.09375 34.40625 \nz\nM 32.90625 18.796875 \nQ 32.90625 17.09375 32.203125 15.890625 \nQ 31.5 14.703125 30.703125 14.703125 \nQ 29.90625 14.703125 29 15.546875 \nQ 28.09375 16.40625 25.890625 20.203125 \nQ 23.703125 24 23.703125 24.546875 \nQ 23.703125 25.09375 24.203125 25.09375 \nQ 25.40625 25.09375 29.15625 23.5 \nQ 32.90625 21.90625 32.90625 18.796875 \nz\n\" id=\"STKaiti-27515\"/>\n       <path d=\"M 45.296875 70 \nQ 47.09375 70 51.046875 68.703125 \nQ 55 67.40625 57.84375 64.546875 \nQ 60.703125 61.703125 60.703125 58.203125 \nQ 60.703125 53 58.09375 53 \nQ 55.703125 53 49.953125 60.546875 \nQ 44.203125 68.09375 44.203125 69.046875 \nQ 44.203125 70 45.296875 70 \nz\nM 31.796875 37 \nQ 24.5 36.09375 20.703125 35 \nQ 18.203125 34.5 16.453125 34.5 \nQ 14.703125 34.5 12.34375 36.203125 \nQ 10 37.90625 10 38.796875 \nQ 10 39.703125 14.296875 39.796875 \nQ 21.203125 39.796875 45.25 42.640625 \nQ 69.296875 45.5 75.40625 47 \nQ 79.296875 48 83.25 48 \nQ 87.203125 48 90.453125 46 \nQ 93.703125 44 93.703125 42.5 \nQ 93.703125 40.296875 87.40625 40.296875 \nQ 84.59375 40.296875 82.4375 40.59375 \nQ 80.296875 40.90625 78.59375 40.90625 \nQ 73.09375 40.90625 60.34375 39.84375 \nQ 47.59375 38.796875 34.90625 37.296875 \nQ 37.203125 35.59375 38.546875 34.25 \nQ 39.90625 32.90625 39.90625 31.953125 \nQ 39.90625 31 39.40625 29.703125 \nQ 38.296875 26.703125 38.296875 3.703125 \nQ 63.796875 6.40625 67.09375 7 \nQ 70.40625 7.59375 71.40625 7.59375 \nQ 75.90625 7.59375 78.296875 5.75 \nQ 80.703125 3.90625 80.703125 2.046875 \nQ 80.703125 0.203125 76.5 0.203125 \nQ 75.09375 0.203125 72.796875 0.546875 \nQ 70.5 0.90625 63.796875 0.90625 \nQ 57.09375 0.90625 47.796875 -0.4375 \nQ 38.5 -1.796875 35.75 -3.4375 \nQ 33 -5.09375 31.546875 -5.09375 \nQ 30.09375 -5.09375 28.890625 -2.796875 \nQ 27.703125 -0.5 27.703125 0.390625 \nQ 27.703125 1.296875 28.84375 2.09375 \nQ 30 2.90625 31.203125 5.046875 \nQ 32.40625 7.203125 32.65625 8.953125 \nQ 32.90625 10.703125 33.046875 13.796875 \nQ 33.203125 16.90625 33.203125 20.59375 \nQ 33.203125 32.796875 31.796875 37 \nz\n\" id=\"STKaiti-20129\"/>\n       <path d=\"M 56.90625 19.203125 \nQ 72.40625 20.796875 76.84375 21.5 \nQ 81.296875 22.203125 85.25 22.203125 \nQ 89.203125 22.203125 91.796875 20.25 \nQ 94.40625 18.296875 94.40625 17 \nQ 94.40625 15.703125 91.296875 15.703125 \nQ 89.90625 15.703125 87.40625 16.09375 \nQ 84.90625 16.5 76.703125 16.5 \nQ 68.5 16.5 56.59375 15.796875 \nL 56.796875 1.90625 \nQ 56.796875 -5.5 55.6875 -11.09375 \nQ 54.59375 -16.703125 53.4375 -16.703125 \nQ 52.296875 -16.703125 51.75 -12.140625 \nQ 51.203125 -7.59375 51.203125 15.40625 \nQ 44.90625 15 37.296875 13.703125 \nQ 29.703125 12.40625 24.90625 11.203125 \nQ 20.90625 10.40625 19.046875 10.40625 \nQ 17.203125 10.40625 14.890625 11.65625 \nQ 12.59375 12.90625 12.59375 13.703125 \nQ 12.59375 13.90625 12.84375 14.046875 \nQ 13.09375 14.203125 14 14.296875 \nL 19.5 14.90625 \nQ 24 15.296875 29.296875 15.90625 \nL 51.203125 18.40625 \nQ 51 24.59375 49.40625 27.09375 \nQ 43.40625 25.09375 41.75 23.890625 \nQ 40.09375 22.703125 39.390625 22.703125 \nQ 38.703125 22.703125 38.25 23.890625 \nQ 37.796875 25.09375 37.796875 26.09375 \nQ 37.796875 28.203125 39.296875 29 \nQ 41.40625 29.796875 44.046875 32.546875 \nQ 46.703125 35.296875 52.203125 42.59375 \nQ 48.796875 42.203125 41.296875 39.296875 \nQ 40.5 38.90625 39.703125 38.90625 \nQ 38.90625 38.90625 38.34375 40.09375 \nQ 37.796875 41.296875 37.796875 42.34375 \nQ 37.796875 43.40625 38.90625 44.203125 \nQ 44 48.09375 45.390625 51.390625 \nQ 46.796875 54.703125 46.90625 57.296875 \nQ 41.703125 56.59375 38.84375 56.59375 \nQ 36 56.59375 34.640625 57.296875 \nQ 33.296875 58 33.296875 58.5 \nQ 33.296875 59 35.5 59.296875 \nQ 45.90625 60.703125 54.296875 62.40625 \nQ 52.296875 64.5 50.296875 67.703125 \nQ 48.296875 70.90625 48.296875 71.296875 \nQ 48.296875 72 49.640625 72 \nQ 51 72 54.09375 70.953125 \nQ 57.203125 69.90625 57.203125 66.796875 \nQ 57.203125 65.296875 56.5 62.90625 \nQ 59.90625 63.59375 61.5 64 \nQ 65 65.09375 67.140625 65.09375 \nQ 69.296875 65.09375 70.890625 64.4375 \nQ 72.5 63.796875 72.5 62.84375 \nQ 72.5 61.90625 69.453125 60.953125 \nQ 66.40625 60 50.796875 57.796875 \nQ 52.40625 56 52.40625 54.546875 \nQ 52.40625 53.09375 50.953125 51.890625 \nQ 49.5 50.703125 43.796875 44.296875 \nQ 47 44.296875 53.796875 44.5 \nQ 56.09375 48.09375 56.5 49.046875 \nQ 56.90625 50 56.90625 51.40625 \nQ 56.90625 53.203125 58.59375 53.203125 \nQ 59.90625 53.203125 61.703125 51.703125 \nQ 63.5 50.203125 63.5 49.453125 \nQ 63.5 48.703125 62.25 47.703125 \nQ 61 46.703125 58.84375 44.640625 \nQ 56.703125 42.59375 45.296875 29.59375 \nQ 51.703125 30 60.203125 31.90625 \nQ 59.59375 32.796875 58.84375 34.09375 \nQ 58.09375 35.40625 57.640625 35.953125 \nQ 57.203125 36.5 57.203125 37.09375 \nQ 57.203125 37.703125 58.203125 37.703125 \nQ 59.203125 37.703125 61.75 36.546875 \nQ 64.296875 35.40625 65.890625 33.40625 \nQ 67.5 31.40625 67.5 29.703125 \nQ 67.5 28 66.953125 27.203125 \nQ 66.40625 26.40625 65.5 26.40625 \nQ 64.59375 26.40625 63.296875 28.046875 \nQ 62 29.703125 61.40625 30.40625 \nQ 56.703125 29.40625 51.203125 27.59375 \nQ 54.09375 26.59375 55.640625 25.5 \nQ 57.203125 24.40625 57.203125 22.75 \nQ 57.203125 21.09375 56.90625 19.203125 \nz\nM 81.59375 52.09375 \nQ 81.59375 51.203125 80.34375 50.703125 \nQ 79.09375 50.203125 77.640625 49.296875 \nQ 76.203125 48.40625 72.59375 46.40625 \nQ 69 44.40625 67.40625 44.40625 \nQ 66.703125 44.40625 66.703125 44.796875 \nQ 66.703125 45.203125 67.5 45.90625 \nQ 70.90625 49 72.203125 50.75 \nQ 73.5 52.5 73.640625 54.34375 \nQ 73.796875 56.203125 75 56.203125 \nQ 76.203125 56.203125 78.890625 54.75 \nQ 81.59375 53.296875 81.59375 52.09375 \nz\nM 32.90625 43.90625 \nQ 32.90625 40.90625 31.203125 40.90625 \nQ 29.59375 40.90625 27 44.5 \nQ 24.40625 48.09375 24.40625 49.203125 \nQ 24.40625 50.203125 25.953125 50.203125 \nQ 27.5 50.203125 30.203125 48.546875 \nQ 32.90625 46.90625 32.90625 43.90625 \nz\nM 82.203125 33.296875 \nQ 82.203125 32 81.640625 31.046875 \nQ 81.09375 30.09375 80.140625 30.09375 \nQ 79.203125 30.09375 77.640625 31.296875 \nQ 76.09375 32.5 73.796875 34.75 \nQ 71.5 37 69.703125 38.84375 \nQ 67.90625 40.703125 67.90625 41.203125 \nQ 67.90625 41.703125 68.796875 41.703125 \nQ 69.703125 41.703125 73.84375 40.5 \nQ 78 39.296875 80.09375 37.5 \nQ 82.203125 35.703125 82.203125 33.296875 \nz\nM 36.40625 36.703125 \nQ 36.40625 36 33.5 32.546875 \nQ 30.59375 29.09375 29.046875 26.5 \nQ 27.5 23.90625 26.203125 23.90625 \nQ 25.09375 23.90625 23.640625 25.90625 \nQ 22.203125 27.90625 22.203125 28.84375 \nQ 22.203125 29.796875 23.59375 29.890625 \nQ 25 30 27.140625 31.296875 \nQ 29.296875 32.59375 34.703125 36.796875 \nQ 35.203125 37.203125 35.796875 37.203125 \nQ 36.40625 37.203125 36.40625 36.703125 \nz\n\" id=\"STKaiti-29575\"/>\n       <path d=\"M 42.59375 -0.296875 \nQ 35.40625 0 22.203125 0 \nQ 9.296875 0 2.203125 -0.296875 \nQ 4.09375 3.59375 7 7.09375 \nQ 9.90625 10.59375 16.296875 17 \nQ 25.59375 26.296875 29.890625 32.84375 \nQ 34.203125 39.40625 34.203125 46.09375 \nQ 34.203125 51.59375 30.75 55 \nQ 27.296875 58.40625 22.203125 58.40625 \nQ 17.203125 58.40625 13.09375 54.953125 \nQ 9 51.5 7.40625 45.203125 \nL 5.09375 45.59375 \nQ 6.703125 54.09375 11.796875 58.796875 \nQ 16.90625 63.5 24.203125 63.5 \nQ 31.5 63.5 36.59375 58.640625 \nQ 41.703125 53.796875 41.703125 47 \nQ 41.703125 40.203125 36.953125 34.25 \nQ 32.203125 28.296875 22.59375 19.40625 \nQ 17.5 14.703125 9.90625 5.296875 \nL 33.40625 5.296875 \nQ 37.203125 5.296875 38.75 6.640625 \nQ 40.296875 8 42 12.5 \nL 44.09375 12.5 \nz\n\" id=\"STKaiti-50\"/>\n      </defs>\n      <use xlink:href=\"#STKaiti-27515\"/>\n      <use x=\"99.999985\" xlink:href=\"#STKaiti-20129\"/>\n      <use x=\"199.999969\" xlink:href=\"#STKaiti-29575\"/>\n      <use x=\"299.999954\" xlink:href=\"#STKaiti-50\"/>\n     </g>\n    </g>\n   </g>\n   <g id=\"line2d_53\">\n    <path clip-path=\"url(#p17f9a87f12)\" d=\"M 51.955469 503.34542 \nL 87.197574 508.902841 \nL 122.439679 508.902841 \nL 157.681785 512.11502 \nL 192.92389 508.316531 \nL 228.165995 501.932262 \nL 263.4081 473.764307 \nL 298.650206 359.990022 \nL 333.892311 289.913401 \nL 369.134416 192.550796 \nL 404.376521 113.935091 \nL 439.618627 114.802028 \nL 474.860732 66.11822 \nL 510.102837 77.072704 \nL 545.344942 81.948601 \nL 580.587048 61.668275 \nL 615.829153 89.896364 \nL 651.071258 74.63726 \nL 686.313363 89.630771 \nL 721.555469 81.728108 \n\" style=\"fill:none;stroke:#1f77b4;stroke-linecap:square;stroke-width:1.5;\"/>\n    <defs>\n     <path d=\"M -3 3 \nL 3 3 \nL 3 -3 \nL -3 -3 \nz\n\" id=\"mb35b96288a\" style=\"stroke:#1f77b4;stroke-linejoin:miter;\"/>\n    </defs>\n    <g clip-path=\"url(#p17f9a87f12)\">\n     <use style=\"fill:#1f77b4;stroke:#1f77b4;stroke-linejoin:miter;\" x=\"51.955469\" xlink:href=\"#mb35b96288a\" y=\"503.34542\"/>\n     <use style=\"fill:#1f77b4;stroke:#1f77b4;stroke-linejoin:miter;\" x=\"87.197574\" xlink:href=\"#mb35b96288a\" y=\"508.902841\"/>\n     <use style=\"fill:#1f77b4;stroke:#1f77b4;stroke-linejoin:miter;\" x=\"122.439679\" xlink:href=\"#mb35b96288a\" y=\"508.902841\"/>\n     <use style=\"fill:#1f77b4;stroke:#1f77b4;stroke-linejoin:miter;\" x=\"157.681785\" xlink:href=\"#mb35b96288a\" y=\"512.11502\"/>\n     <use style=\"fill:#1f77b4;stroke:#1f77b4;stroke-linejoin:miter;\" x=\"192.92389\" xlink:href=\"#mb35b96288a\" y=\"508.316531\"/>\n     <use style=\"fill:#1f77b4;stroke:#1f77b4;stroke-linejoin:miter;\" x=\"228.165995\" xlink:href=\"#mb35b96288a\" y=\"501.932262\"/>\n     <use style=\"fill:#1f77b4;stroke:#1f77b4;stroke-linejoin:miter;\" x=\"263.4081\" xlink:href=\"#mb35b96288a\" y=\"473.764307\"/>\n     <use style=\"fill:#1f77b4;stroke:#1f77b4;stroke-linejoin:miter;\" x=\"298.650206\" xlink:href=\"#mb35b96288a\" y=\"359.990022\"/>\n     <use style=\"fill:#1f77b4;stroke:#1f77b4;stroke-linejoin:miter;\" x=\"333.892311\" xlink:href=\"#mb35b96288a\" y=\"289.913401\"/>\n     <use style=\"fill:#1f77b4;stroke:#1f77b4;stroke-linejoin:miter;\" x=\"369.134416\" xlink:href=\"#mb35b96288a\" y=\"192.550796\"/>\n     <use style=\"fill:#1f77b4;stroke:#1f77b4;stroke-linejoin:miter;\" x=\"404.376521\" xlink:href=\"#mb35b96288a\" y=\"113.935091\"/>\n     <use style=\"fill:#1f77b4;stroke:#1f77b4;stroke-linejoin:miter;\" x=\"439.618627\" xlink:href=\"#mb35b96288a\" y=\"114.802028\"/>\n     <use style=\"fill:#1f77b4;stroke:#1f77b4;stroke-linejoin:miter;\" x=\"474.860732\" xlink:href=\"#mb35b96288a\" y=\"66.11822\"/>\n     <use style=\"fill:#1f77b4;stroke:#1f77b4;stroke-linejoin:miter;\" x=\"510.102837\" xlink:href=\"#mb35b96288a\" y=\"77.072704\"/>\n     <use style=\"fill:#1f77b4;stroke:#1f77b4;stroke-linejoin:miter;\" x=\"545.344942\" xlink:href=\"#mb35b96288a\" y=\"81.948601\"/>\n     <use style=\"fill:#1f77b4;stroke:#1f77b4;stroke-linejoin:miter;\" x=\"580.587048\" xlink:href=\"#mb35b96288a\" y=\"61.668275\"/>\n     <use style=\"fill:#1f77b4;stroke:#1f77b4;stroke-linejoin:miter;\" x=\"615.829153\" xlink:href=\"#mb35b96288a\" y=\"89.896364\"/>\n     <use style=\"fill:#1f77b4;stroke:#1f77b4;stroke-linejoin:miter;\" x=\"651.071258\" xlink:href=\"#mb35b96288a\" y=\"74.63726\"/>\n     <use style=\"fill:#1f77b4;stroke:#1f77b4;stroke-linejoin:miter;\" x=\"686.313363\" xlink:href=\"#mb35b96288a\" y=\"89.630771\"/>\n     <use style=\"fill:#1f77b4;stroke:#1f77b4;stroke-linejoin:miter;\" x=\"721.555469\" xlink:href=\"#mb35b96288a\" y=\"81.728108\"/>\n    </g>\n   </g>\n   <g id=\"line2d_54\">\n    <path clip-path=\"url(#p17f9a87f12)\" d=\"M 51.955469 498.013504 \nL 87.197574 508.416755 \nL 122.439679 496.505132 \nL 157.681785 470.922956 \nL 192.92389 413.239033 \nL 228.165995 293.992518 \nL 263.4081 148.101452 \nL 298.650206 124.598924 \nL 333.892311 88.95927 \nL 369.134416 85.461452 \nL 404.376521 79.693561 \nL 439.618627 37.80494 \nL 474.860732 21.303059 \nL 510.102837 12.66375 \nL 545.344942 12.66375 \nL 580.587048 12.66375 \nL 615.829153 12.66375 \nL 651.071258 12.66375 \nL 686.313363 12.66375 \nL 721.555469 12.66375 \n\" style=\"fill:none;stroke:#ff7f0e;stroke-dasharray:9.6,2.4,1.5,2.4;stroke-dashoffset:0;stroke-width:1.5;\"/>\n    <defs>\n     <path d=\"M -3 0 \nL 3 0 \nM 0 3 \nL 0 -3 \n\" id=\"m4bf63d9b30\" style=\"stroke:#ff7f0e;\"/>\n    </defs>\n    <g clip-path=\"url(#p17f9a87f12)\">\n     <use style=\"fill:#ff7f0e;stroke:#ff7f0e;\" x=\"51.955469\" xlink:href=\"#m4bf63d9b30\" y=\"498.013504\"/>\n     <use style=\"fill:#ff7f0e;stroke:#ff7f0e;\" x=\"87.197574\" xlink:href=\"#m4bf63d9b30\" y=\"508.416755\"/>\n     <use style=\"fill:#ff7f0e;stroke:#ff7f0e;\" x=\"122.439679\" xlink:href=\"#m4bf63d9b30\" y=\"496.505132\"/>\n     <use style=\"fill:#ff7f0e;stroke:#ff7f0e;\" x=\"157.681785\" xlink:href=\"#m4bf63d9b30\" y=\"470.922956\"/>\n     <use style=\"fill:#ff7f0e;stroke:#ff7f0e;\" x=\"192.92389\" xlink:href=\"#m4bf63d9b30\" y=\"413.239033\"/>\n     <use style=\"fill:#ff7f0e;stroke:#ff7f0e;\" x=\"228.165995\" xlink:href=\"#m4bf63d9b30\" y=\"293.992518\"/>\n     <use style=\"fill:#ff7f0e;stroke:#ff7f0e;\" x=\"263.4081\" xlink:href=\"#m4bf63d9b30\" y=\"148.101452\"/>\n     <use style=\"fill:#ff7f0e;stroke:#ff7f0e;\" x=\"298.650206\" xlink:href=\"#m4bf63d9b30\" y=\"124.598924\"/>\n     <use style=\"fill:#ff7f0e;stroke:#ff7f0e;\" x=\"333.892311\" xlink:href=\"#m4bf63d9b30\" y=\"88.95927\"/>\n     <use style=\"fill:#ff7f0e;stroke:#ff7f0e;\" x=\"369.134416\" xlink:href=\"#m4bf63d9b30\" y=\"85.461452\"/>\n     <use style=\"fill:#ff7f0e;stroke:#ff7f0e;\" x=\"404.376521\" xlink:href=\"#m4bf63d9b30\" y=\"79.693561\"/>\n     <use style=\"fill:#ff7f0e;stroke:#ff7f0e;\" x=\"439.618627\" xlink:href=\"#m4bf63d9b30\" y=\"37.80494\"/>\n     <use style=\"fill:#ff7f0e;stroke:#ff7f0e;\" x=\"474.860732\" xlink:href=\"#m4bf63d9b30\" y=\"21.303059\"/>\n     <use style=\"fill:#ff7f0e;stroke:#ff7f0e;\" x=\"510.102837\" xlink:href=\"#m4bf63d9b30\" y=\"12.66375\"/>\n     <use style=\"fill:#ff7f0e;stroke:#ff7f0e;\" x=\"545.344942\" xlink:href=\"#m4bf63d9b30\" y=\"12.66375\"/>\n     <use style=\"fill:#ff7f0e;stroke:#ff7f0e;\" x=\"580.587048\" xlink:href=\"#m4bf63d9b30\" y=\"12.66375\"/>\n     <use style=\"fill:#ff7f0e;stroke:#ff7f0e;\" x=\"615.829153\" xlink:href=\"#m4bf63d9b30\" y=\"12.66375\"/>\n     <use style=\"fill:#ff7f0e;stroke:#ff7f0e;\" x=\"651.071258\" xlink:href=\"#m4bf63d9b30\" y=\"12.66375\"/>\n     <use style=\"fill:#ff7f0e;stroke:#ff7f0e;\" x=\"686.313363\" xlink:href=\"#m4bf63d9b30\" y=\"12.66375\"/>\n     <use style=\"fill:#ff7f0e;stroke:#ff7f0e;\" x=\"721.555469\" xlink:href=\"#m4bf63d9b30\" y=\"12.66375\"/>\n    </g>\n   </g>\n   <g id=\"line2d_55\">\n    <path clip-path=\"url(#p17f9a87f12)\" d=\"M 51.955469 29.145587 \nL 87.197574 46.394137 \nL 122.439679 44.940889 \nL 157.681785 36.446905 \nL 192.92389 53.29456 \nL 228.165995 31.801523 \nL 263.4081 36.441894 \nL 298.650206 26.880524 \nL 333.892311 42.630726 \nL 369.134416 27.952921 \nL 404.376521 31.54094 \nL 439.618627 42.871264 \nL 474.860732 30.122771 \nL 510.102837 41.543296 \nL 545.344942 36.206368 \nL 580.587048 49.781708 \nL 615.829153 38.200825 \nL 651.071258 32.006982 \nL 686.313363 45.416953 \nL 721.555469 35.895673 \n\" style=\"fill:none;stroke:#2ca02c;stroke-dasharray:1.5,2.475;stroke-dashoffset:0;stroke-width:1.5;\"/>\n    <defs>\n     <path d=\"M 0 -3 \nL -0.673542 -0.927051 \nL -2.85317 -0.927051 \nL -1.089814 0.354102 \nL -1.763356 2.427051 \nL -0 1.145898 \nL 1.763356 2.427051 \nL 1.089814 0.354102 \nL 2.85317 -0.927051 \nL 0.673542 -0.927051 \nz\n\" id=\"m54607874d6\" style=\"stroke:#2ca02c;stroke-linejoin:bevel;\"/>\n    </defs>\n    <g clip-path=\"url(#p17f9a87f12)\">\n     <use style=\"fill:#2ca02c;stroke:#2ca02c;stroke-linejoin:bevel;\" x=\"51.955469\" xlink:href=\"#m54607874d6\" y=\"29.145587\"/>\n     <use style=\"fill:#2ca02c;stroke:#2ca02c;stroke-linejoin:bevel;\" x=\"87.197574\" xlink:href=\"#m54607874d6\" y=\"46.394137\"/>\n     <use style=\"fill:#2ca02c;stroke:#2ca02c;stroke-linejoin:bevel;\" x=\"122.439679\" xlink:href=\"#m54607874d6\" y=\"44.940889\"/>\n     <use style=\"fill:#2ca02c;stroke:#2ca02c;stroke-linejoin:bevel;\" x=\"157.681785\" xlink:href=\"#m54607874d6\" y=\"36.446905\"/>\n     <use style=\"fill:#2ca02c;stroke:#2ca02c;stroke-linejoin:bevel;\" x=\"192.92389\" xlink:href=\"#m54607874d6\" y=\"53.29456\"/>\n     <use style=\"fill:#2ca02c;stroke:#2ca02c;stroke-linejoin:bevel;\" x=\"228.165995\" xlink:href=\"#m54607874d6\" y=\"31.801523\"/>\n     <use style=\"fill:#2ca02c;stroke:#2ca02c;stroke-linejoin:bevel;\" x=\"263.4081\" xlink:href=\"#m54607874d6\" y=\"36.441894\"/>\n     <use style=\"fill:#2ca02c;stroke:#2ca02c;stroke-linejoin:bevel;\" x=\"298.650206\" xlink:href=\"#m54607874d6\" y=\"26.880524\"/>\n     <use style=\"fill:#2ca02c;stroke:#2ca02c;stroke-linejoin:bevel;\" x=\"333.892311\" xlink:href=\"#m54607874d6\" y=\"42.630726\"/>\n     <use style=\"fill:#2ca02c;stroke:#2ca02c;stroke-linejoin:bevel;\" x=\"369.134416\" xlink:href=\"#m54607874d6\" y=\"27.952921\"/>\n     <use style=\"fill:#2ca02c;stroke:#2ca02c;stroke-linejoin:bevel;\" x=\"404.376521\" xlink:href=\"#m54607874d6\" y=\"31.54094\"/>\n     <use style=\"fill:#2ca02c;stroke:#2ca02c;stroke-linejoin:bevel;\" x=\"439.618627\" xlink:href=\"#m54607874d6\" y=\"42.871264\"/>\n     <use style=\"fill:#2ca02c;stroke:#2ca02c;stroke-linejoin:bevel;\" x=\"474.860732\" xlink:href=\"#m54607874d6\" y=\"30.122771\"/>\n     <use style=\"fill:#2ca02c;stroke:#2ca02c;stroke-linejoin:bevel;\" x=\"510.102837\" xlink:href=\"#m54607874d6\" y=\"41.543296\"/>\n     <use style=\"fill:#2ca02c;stroke:#2ca02c;stroke-linejoin:bevel;\" x=\"545.344942\" xlink:href=\"#m54607874d6\" y=\"36.206368\"/>\n     <use style=\"fill:#2ca02c;stroke:#2ca02c;stroke-linejoin:bevel;\" x=\"580.587048\" xlink:href=\"#m54607874d6\" y=\"49.781708\"/>\n     <use style=\"fill:#2ca02c;stroke:#2ca02c;stroke-linejoin:bevel;\" x=\"615.829153\" xlink:href=\"#m54607874d6\" y=\"38.200825\"/>\n     <use style=\"fill:#2ca02c;stroke:#2ca02c;stroke-linejoin:bevel;\" x=\"651.071258\" xlink:href=\"#m54607874d6\" y=\"32.006982\"/>\n     <use style=\"fill:#2ca02c;stroke:#2ca02c;stroke-linejoin:bevel;\" x=\"686.313363\" xlink:href=\"#m54607874d6\" y=\"45.416953\"/>\n     <use style=\"fill:#2ca02c;stroke:#2ca02c;stroke-linejoin:bevel;\" x=\"721.555469\" xlink:href=\"#m54607874d6\" y=\"35.895673\"/>\n    </g>\n   </g>\n   <g id=\"patch_3\">\n    <path d=\"M 51.955469 513.78375 \nL 51.955469 12.66375 \n\" style=\"fill:none;stroke:#000000;stroke-linecap:square;stroke-linejoin:miter;stroke-width:0.8;\"/>\n   </g>\n   <g id=\"patch_4\">\n    <path d=\"M 721.555469 513.78375 \nL 721.555469 12.66375 \n\" style=\"fill:none;stroke:#000000;stroke-linecap:square;stroke-linejoin:miter;stroke-width:0.8;\"/>\n   </g>\n   <g id=\"patch_5\">\n    <path d=\"M 51.955469 513.78375 \nL 721.555469 513.78375 \n\" style=\"fill:none;stroke:#000000;stroke-linecap:square;stroke-linejoin:miter;stroke-width:0.8;\"/>\n   </g>\n   <g id=\"patch_6\">\n    <path d=\"M 51.955469 12.66375 \nL 721.555469 12.66375 \n\" style=\"fill:none;stroke:#000000;stroke-linecap:square;stroke-linejoin:miter;stroke-width:0.8;\"/>\n   </g>\n   <g id=\"legend_1\">\n    <g id=\"patch_7\">\n     <path d=\"M 631.602969 505.78375 \nL 710.355469 505.78375 \nQ 713.555469 505.78375 713.555469 502.58375 \nL 713.555469 436.16625 \nQ 713.555469 432.96625 710.355469 432.96625 \nL 631.602969 432.96625 \nQ 628.402969 432.96625 628.402969 436.16625 \nL 628.402969 502.58375 \nQ 628.402969 505.78375 631.602969 505.78375 \nz\n\" style=\"fill:#ffffff;opacity:0.8;stroke:#cccccc;stroke-linejoin:miter;\"/>\n    </g>\n    <g id=\"line2d_56\">\n     <path d=\"M 634.802969 444.96625 \nL 666.802969 444.96625 \n\" style=\"fill:none;stroke:#1f77b4;stroke-linecap:square;stroke-width:1.5;\"/>\n    </g>\n    <g id=\"line2d_57\">\n     <g>\n      <use style=\"fill:#1f77b4;stroke:#1f77b4;stroke-linejoin:miter;\" x=\"650.802969\" xlink:href=\"#mb35b96288a\" y=\"444.96625\"/>\n     </g>\n    </g>\n    <g id=\"text_29\">\n     <!-- Lisa -->\n     <g transform=\"translate(679.602969 450.56625)scale(0.16 -0.16)\">\n      <defs>\n       <path d=\"M 59.796875 17.40625 \nL 55 0 \nL 1.203125 0 \nL 1.203125 1.90625 \nQ 6.703125 2.203125 8.296875 4 \nQ 9.90625 5.796875 9.90625 11.5 \nL 9.90625 54.59375 \nQ 9.90625 60.5 8.453125 62.203125 \nQ 7 63.90625 1.203125 64.296875 \nL 1.203125 66.203125 \nL 29.5 66.203125 \nL 29.5 64.296875 \nQ 23.40625 63.90625 21.75 62.25 \nQ 20.09375 60.59375 20.09375 54.796875 \nL 20.09375 8.40625 \nQ 20.09375 5.59375 21.84375 4.75 \nQ 23.59375 3.90625 29.09375 3.90625 \nL 36.09375 3.90625 \nQ 48.203125 3.90625 53 10 \nQ 55 12.703125 57.203125 17.40625 \nz\n\" id=\"STIXGeneral-Regular-76\"/>\n       <path d=\"M 18 63.203125 \nQ 18 61 16.5 59.546875 \nQ 15 58.09375 12.796875 58.09375 \nQ 10.703125 58.09375 9.25 59.546875 \nQ 7.796875 61 7.796875 63.203125 \nQ 7.796875 65.296875 9.296875 66.796875 \nQ 10.796875 68.296875 12.90625 68.296875 \nQ 15.09375 68.296875 16.546875 66.796875 \nQ 18 65.296875 18 63.203125 \nz\nM 25.296875 0 \nL 1.59375 0 \nL 1.59375 1.5 \nQ 6.796875 1.796875 8.140625 3.296875 \nQ 9.5 4.796875 9.5 10.40625 \nL 9.5 33.09375 \nQ 9.5 36.59375 8.796875 38 \nQ 8.09375 39.40625 6.203125 39.40625 \nQ 3.796875 39.40625 2 38.90625 \nL 2 40.5 \nL 17.5 46 \nL 17.90625 45.59375 \nL 17.90625 10.5 \nQ 17.90625 4.90625 19.15625 3.40625 \nQ 20.40625 1.90625 25.296875 1.5 \nz\n\" id=\"STIXGeneral-Regular-105\"/>\n       <path d=\"M 15.59375 30.09375 \nL 26 23.796875 \nQ 31 20.796875 32.890625 18.1875 \nQ 34.796875 15.59375 34.796875 11.5 \nQ 34.796875 6.5 30.640625 2.75 \nQ 26.5 -1 20.796875 -1 \nQ 16.09375 -1 13.5 -0.09375 \nQ 10.796875 0.796875 8.90625 0.796875 \nQ 7.203125 0.796875 6.5 -0.40625 \nL 5.203125 -0.40625 \nL 5.203125 15.296875 \nL 6.796875 15.296875 \nQ 8.40625 8 11.40625 4.59375 \nQ 14.40625 1.203125 19.5 1.203125 \nQ 23.203125 1.203125 25.5 3.296875 \nQ 27.796875 5.40625 27.796875 8.59375 \nQ 27.796875 13.203125 22.5 16.09375 \nL 17.09375 19.09375 \nQ 5.09375 25.796875 5.09375 33.59375 \nQ 5.09375 39.40625 8.84375 42.65625 \nQ 12.59375 45.90625 18.90625 45.90625 \nQ 23.296875 45.90625 25.59375 44.796875 \nQ 27.40625 44 28.40625 44 \nQ 29.09375 44 30 45 \nL 31.09375 45 \nL 31.59375 31.40625 \nL 30.09375 31.40625 \nQ 28.40625 38.203125 25.84375 40.953125 \nQ 23.296875 43.703125 18.796875 43.703125 \nQ 15.40625 43.703125 13.34375 42 \nQ 11.296875 40.296875 11.296875 36.90625 \nQ 11.296875 35.203125 12.4375 33.25 \nQ 13.59375 31.296875 15.59375 30.09375 \nz\n\" id=\"STIXGeneral-Regular-115\"/>\n       <path d=\"M 44.203125 6.59375 \nL 44.203125 3.796875 \nQ 40.40625 -1 35.203125 -1 \nQ 29.5 -1 28.796875 6.296875 \nL 28.703125 6.296875 \nQ 22.296875 -1 14.203125 -1 \nQ 9.5 -1 6.59375 1.75 \nQ 3.703125 4.5 3.703125 9.40625 \nQ 3.703125 16.40625 10.703125 21.09375 \nQ 15.5 24.296875 28.703125 29.203125 \nL 28.703125 34.59375 \nQ 28.703125 39.09375 26.546875 41.34375 \nQ 24.40625 43.59375 20.90625 43.59375 \nQ 17.90625 43.59375 15.90625 42.140625 \nQ 13.90625 40.703125 13.90625 38.703125 \nQ 13.90625 37.796875 14.203125 36.6875 \nQ 14.5 35.59375 14.5 34.5 \nQ 14.5 33 13.140625 31.703125 \nQ 11.796875 30.40625 9.90625 30.40625 \nQ 8.203125 30.40625 6.890625 31.703125 \nQ 5.59375 33 5.59375 35 \nQ 5.59375 39.796875 10.703125 43 \nQ 15.40625 46 22.203125 46 \nQ 30.296875 46 34 41.5 \nQ 35.796875 39.40625 36.296875 37.25 \nQ 36.796875 35.09375 36.796875 30.40625 \nL 36.796875 11.296875 \nQ 36.796875 4.703125 39.90625 4.703125 \nQ 41.90625 4.703125 44.203125 6.59375 \nz\nM 28.703125 12.703125 \nL 28.703125 26.796875 \nQ 19.5 23.59375 15.90625 20.203125 \nQ 12.5 17.09375 12.5 12.5 \nQ 12.5 8.703125 14.390625 6.75 \nQ 16.296875 4.796875 19.40625 4.796875 \nQ 22.703125 4.796875 25.203125 6.40625 \nQ 27.296875 7.90625 28 9.203125 \nQ 28.703125 10.5 28.703125 12.703125 \nz\n\" id=\"STIXGeneral-Regular-97\"/>\n      </defs>\n      <use xlink:href=\"#STIXGeneral-Regular-76\"/>\n      <use x=\"61.099991\" xlink:href=\"#STIXGeneral-Regular-105\"/>\n      <use x=\"88.899979\" xlink:href=\"#STIXGeneral-Regular-115\"/>\n      <use x=\"127.799973\" xlink:href=\"#STIXGeneral-Regular-97\"/>\n     </g>\n    </g>\n    <g id=\"line2d_58\">\n     <path d=\"M 634.802969 467.63875 \nL 666.802969 467.63875 \n\" style=\"fill:none;stroke:#ff7f0e;stroke-dasharray:9.6,2.4,1.5,2.4;stroke-dashoffset:0;stroke-width:1.5;\"/>\n    </g>\n    <g id=\"line2d_59\">\n     <g>\n      <use style=\"fill:#ff7f0e;stroke:#ff7f0e;\" x=\"650.802969\" xlink:href=\"#m4bf63d9b30\" y=\"467.63875\"/>\n     </g>\n    </g>\n    <g id=\"text_30\">\n     <!-- Bb -->\n     <g transform=\"translate(679.602969 473.23875)scale(0.16 -0.16)\">\n      <defs>\n       <path d=\"M 42.203125 34.90625 \nL 42.203125 34.796875 \nQ 49.703125 33.59375 54.40625 29.296875 \nQ 59.296875 24.90625 59.296875 17.796875 \nQ 59.296875 9.5 52.796875 4.75 \nQ 46.296875 0 35.40625 0 \nL 1.703125 0 \nL 1.703125 1.90625 \nQ 7.59375 2.09375 9.4375 3.84375 \nQ 11.296875 5.59375 11.296875 11.296875 \nL 11.296875 55 \nQ 11.296875 60.796875 9.59375 62.34375 \nQ 7.90625 63.90625 1.703125 64.296875 \nL 1.703125 66.203125 \nL 29.703125 66.203125 \nQ 42.59375 66.203125 49.25 61.84375 \nQ 55.90625 57.5 55.90625 49.5 \nQ 55.90625 42.703125 51.796875 39.09375 \nQ 48.90625 36.59375 42.203125 34.90625 \nz\nM 21.5 36.59375 \nL 30.703125 36.59375 \nQ 45.703125 36.59375 45.703125 49 \nQ 45.703125 55.40625 41.25 58.953125 \nQ 36.796875 62.5 28 62.5 \nL 23.90625 62.5 \nQ 21.5 62.5 21.5 59.296875 \nz\nM 21.5 32.59375 \nL 21.5 8.203125 \nQ 21.5 5.703125 22.84375 4.703125 \nQ 24.203125 3.703125 27.703125 3.703125 \nQ 34.5 3.703125 37.703125 4.453125 \nQ 40.90625 5.203125 44 8 \nQ 47.796875 11.296875 47.796875 17.90625 \nQ 47.796875 25.5 43.09375 28.59375 \nQ 42 29.40625 40.890625 29.953125 \nQ 39.796875 30.5 38.9375 30.84375 \nQ 38.09375 31.203125 36.6875 31.5 \nQ 35.296875 31.796875 34.546875 31.9375 \nQ 33.796875 32.09375 31.890625 32.1875 \nQ 30 32.296875 29.09375 32.34375 \nQ 28.203125 32.40625 25.546875 32.5 \nQ 22.90625 32.59375 21.5 32.59375 \nz\n\" id=\"STIXGeneral-Regular-66\"/>\n       <path d=\"M 15.296875 68.09375 \nL 15.296875 37.59375 \nQ 16.90625 41.40625 20.546875 43.703125 \nQ 24.203125 46 28.796875 46 \nQ 36.703125 46 41.75 39.703125 \nQ 46.796875 33.40625 46.796875 24 \nQ 46.796875 13 40.09375 6 \nQ 33.40625 -1 23.40625 -1 \nQ 17.296875 -1 12.09375 1.046875 \nQ 6.90625 3.09375 6.90625 5.59375 \nL 6.90625 56.59375 \nQ 6.90625 60.296875 6 61.34375 \nQ 5.09375 62.40625 2 62.40625 \nQ 1.296875 62.40625 0.296875 62.203125 \nL 0.296875 63.90625 \nL 3.296875 64.796875 \nQ 13.5 67.90625 14.796875 68.296875 \nz\nM 15.296875 31.796875 \nL 15.296875 7.40625 \nQ 15.296875 5.09375 18.140625 3.640625 \nQ 21 2.203125 25 2.203125 \nQ 30.90625 2.203125 34.296875 6.5 \nQ 38 11.09375 38 19.703125 \nQ 38 29.5 34.09375 35 \nQ 30.796875 39.703125 25.203125 39.703125 \nQ 21.203125 39.703125 18.25 37.34375 \nQ 15.296875 35 15.296875 31.796875 \nz\n\" id=\"STIXGeneral-Regular-98\"/>\n      </defs>\n      <use xlink:href=\"#STIXGeneral-Regular-66\"/>\n      <use x=\"66.699997\" xlink:href=\"#STIXGeneral-Regular-98\"/>\n     </g>\n    </g>\n    <g id=\"line2d_60\">\n     <path d=\"M 634.802969 490.31125 \nL 666.802969 490.31125 \n\" style=\"fill:none;stroke:#2ca02c;stroke-dasharray:1.5,2.475;stroke-dashoffset:0;stroke-width:1.5;\"/>\n    </g>\n    <g id=\"line2d_61\">\n     <g>\n      <use style=\"fill:#2ca02c;stroke:#2ca02c;stroke-linejoin:bevel;\" x=\"650.802969\" xlink:href=\"#m54607874d6\" y=\"490.31125\"/>\n     </g>\n    </g>\n    <g id=\"text_31\">\n     <!-- Cc -->\n     <g transform=\"translate(679.602969 495.91125)scale(0.16 -0.16)\">\n      <defs>\n       <path d=\"M 61.40625 13.09375 \nL 63.296875 11.296875 \nQ 54.40625 -1.40625 36 -1.40625 \nQ 21.5 -1.40625 12.40625 7.5 \nQ 2.796875 16.90625 2.796875 32.5 \nQ 2.796875 47.09375 11.796875 57.203125 \nQ 21.203125 67.59375 36.09375 67.59375 \nQ 42.5 67.59375 48 66.09375 \nQ 54.296875 64.296875 54.90625 64.296875 \nQ 58.203125 64.296875 59.09375 67.59375 \nL 61.09375 67.59375 \nL 62 44.90625 \nL 59.703125 44.90625 \nQ 58.09375 52.09375 54.5 56 \nQ 47.40625 63.59375 38.40625 63.59375 \nQ 27.296875 63.59375 20.84375 55.4375 \nQ 14.40625 47.296875 14.40625 34.09375 \nQ 14.40625 18 21.59375 10.203125 \nQ 28.296875 3 39.40625 3 \nQ 46 3 50.796875 5.296875 \nQ 55.59375 7.59375 61.40625 13.09375 \nz\n\" id=\"STIXGeneral-Regular-67\"/>\n       <path d=\"M 39.796875 15.59375 \nL 41.203125 14.703125 \nQ 36.90625 6.296875 33 3.203125 \nQ 27.90625 -1 21.5 -1 \nQ 13.203125 -1 7.84375 5.25 \nQ 2.5 11.5 2.5 21.203125 \nQ 2.5 33.90625 10.90625 40.90625 \nQ 17.09375 46 24.40625 46 \nQ 30.703125 46 35.25 42.953125 \nQ 39.796875 39.90625 39.796875 35.703125 \nQ 39.796875 34 38.390625 32.75 \nQ 37 31.5 35.09375 31.5 \nQ 31.59375 31.5 30.296875 36.09375 \nL 29.703125 38.296875 \nQ 28.90625 41.09375 27.703125 42.09375 \nQ 26.5 43.09375 23.796875 43.09375 \nQ 17.703125 43.09375 13.953125 38.296875 \nQ 10.203125 33.5 10.203125 25.703125 \nQ 10.203125 17.09375 14.5 11.640625 \nQ 18.796875 6.203125 25.703125 6.203125 \nQ 30 6.203125 33.09375 8.25 \nQ 36.203125 10.296875 39.796875 15.59375 \nz\n\" id=\"STIXGeneral-Regular-99\"/>\n      </defs>\n      <use xlink:href=\"#STIXGeneral-Regular-67\"/>\n      <use x=\"66.699997\" xlink:href=\"#STIXGeneral-Regular-99\"/>\n     </g>\n    </g>\n   </g>\n  </g>\n </g>\n <defs>\n  <clipPath id=\"p17f9a87f12\">\n   <rect height=\"501.12\" width=\"669.6\" x=\"51.955469\" y=\"12.66375\"/>\n  </clipPath>\n </defs>\n</svg>\n",
      "image/png": "[encoded data removed]"
     },
     "metadata": {
      "needs_background": "light"
     }
    }
   ],
   "source": [
    "names = range(0,20,1)\n",
    "\n",
    "names = [str(x) for x in list(names)]\n",
    "\n",
    "print(names)\n",
    "x = range(len(names))\n",
    "# y=[pow(10,i) for i in range(-5,1)]\n",
    "\n",
    "# 可以用numpy的矩阵或者list直接赋值给abc，例如一个一行N列的矩阵matrix，a=matrix\n",
    "a=[0.02083,0.00974,0.00974,0.00333,0.01091,0.02365,0.07986,0.3069,0.44674,0.64103,0.79791,0.79618,0.89333,0.87147,0.86174,0.90221,0.84588,0.87633,0.84641,0.86218]\n",
    "b=[0.03147,0.01071,0.03448,0.08553,0.20064,0.4386,0.72973,0.77663,0.84775,0.85473,0.86624,0.94983,0.98276,1,1,1,1,1,1,1]\n",
    "c=[0.96711,0.93269,0.93559,0.95254,0.91892,0.96181,0.95255,0.97163,0.9402,0.96949,0.96233,0.93972,0.96516,0.94237,0.95302,0.92593,0.94904,0.9614,0.93464,0.95364]\n",
    "\n",
    "# linestyle: 实线-虚线-- 点线：点横线-. \n",
    "      \n",
    "plt.plot(x, a,linestyle='-',marker='s',label=u'Lisa')\n",
    "plt.plot(x, b, linestyle='-.',marker='+',label=u'Bb')\n",
    "plt.plot(x, c,  linestyle=':',marker='*',label=u'Cc')\n",
    "\n",
    "plt.grid(linestyle='-.')  \n",
    "\n",
    "plt.ylim(0,1)    # 设置x轴的刻度从2到10\n",
    "plt.grid(ls='--') \n",
    "plt.grid(True)\n",
    "plt.legend()  # 让图例生效\n",
    "plt.xticks(x, names, rotation=29)\n",
    "\n",
    "plt.margins(0)\n",
    "plt.subplots_adjust(bottom=0.01)\n",
    "\n",
    "plt.xlabel('年龄1',fontproperties=font_set2) #X轴标签\n",
    "plt.ylabel(\"死亡率2\",fontproperties=font_set2) #Y轴标签\n",
    "\n",
    "imgname = 'extra/' + 'age_death' + '.png'\n",
    "plt.savefig(imgname,bbox_inches = 'tight')\n",
    "\n"
   ]
  },
  {
   "cell_type": "code",
   "execution_count": 9,
   "metadata": {},
   "outputs": [
    {
     "output_type": "error",
     "ename": "NameError",
     "evalue": "name 'model' is not defined",
     "traceback": [
      "\u001b[0;31m---------------------------------------------------------------------------\u001b[0m",
      "\u001b[0;31mNameError\u001b[0m                                 Traceback (most recent call last)",
      "\u001b[0;32m<ipython-input-9-519d70e3f04f>\u001b[0m in \u001b[0;36m<module>\u001b[0;34m\u001b[0m\n\u001b[1;32m     92\u001b[0m     \u001b[0mplot_figure\u001b[0m\u001b[0;34m.\u001b[0m\u001b[0mshow\u001b[0m\u001b[0;34m(\u001b[0m\u001b[0;34m)\u001b[0m\u001b[0;34m\u001b[0m\u001b[0m\n\u001b[1;32m     93\u001b[0m \u001b[0;34m\u001b[0m\u001b[0m\n\u001b[0;32m---> 94\u001b[0;31m \u001b[0mdisplay_tsne_scatterplot_3D\u001b[0m\u001b[0;34m(\u001b[0m\u001b[0mmodel\u001b[0m\u001b[0;34m,\u001b[0m \u001b[0muser_input\u001b[0m\u001b[0;34m,\u001b[0m \u001b[0msimilar_word\u001b[0m\u001b[0;34m,\u001b[0m \u001b[0mlabels\u001b[0m\u001b[0;34m,\u001b[0m \u001b[0mcolor_map\u001b[0m\u001b[0;34m,\u001b[0m \u001b[0;36m5\u001b[0m\u001b[0;34m,\u001b[0m \u001b[0;36m500\u001b[0m\u001b[0;34m,\u001b[0m \u001b[0;36m10000\u001b[0m\u001b[0;34m)\u001b[0m\u001b[0;34m\u001b[0m\u001b[0m\n\u001b[0m",
      "\u001b[0;31mNameError\u001b[0m: name 'model' is not defined"
     ]
    }
   ],
   "source": [
    "import plotly\n",
    "import numpy as np\n",
    "import plotly.graph_objs as go\n",
    "from sklearn.manifold import TSNE\n",
    "\n",
    "def display_tsne_scatterplot_3D(model, user_input=None, words=None, label=None, color_map=None, perplexity = 0, learning_rate = 0, iteration = 0, topn=5, sample=10):\n",
    "\n",
    "    if words == None:\n",
    "        if sample > 0:\n",
    "            words = np.random.choice(list(model.vocab.keys()), sample)\n",
    "        else:\n",
    "            words = [ word for word in model.vocab ]\n",
    "\n",
    "    word_vectors = np.array([model[w] for w in words])\n",
    "\n",
    "    three_dim = TSNE(n_components = 3, random_state=0, perplexity = perplexity, learning_rate = learning_rate, n_iter = iteration).fit_transform(word_vectors)[:,:3]\n",
    "\n",
    "\n",
    "    # 对于2D，将three_dim变量改为two_dim，如下所示:\n",
    "    # two_dim = TSNE(n_components = 2, random_state=0, perplexity = perplexity, learning_rate = learning_rate, n_iter = iteration).fit_transform(word_vectors)[:,:2]\n",
    "\n",
    "    data = []\n",
    "\n",
    "\n",
    "    count = 0\n",
    "    for i in range (len(user_input)):\n",
    "\n",
    "                trace = go.Scatter3d(\n",
    "                    x = three_dim[count:count+topn,0], \n",
    "                    y = three_dim[count:count+topn,1],  \n",
    "                    z = three_dim[count:count+topn,2],\n",
    "                    text = words[count:count+topn],\n",
    "                    name = user_input[i],\n",
    "                    textposition = \"top center\",\n",
    "                    textfont_size = 20,\n",
    "                    mode = 'markers+text',\n",
    "                    marker = {\n",
    "                        'size': 10,\n",
    "                        'opacity': 0.8,\n",
    "                        'color': 2\n",
    "                    }\n",
    "                )\n",
    "\n",
    "                # 对于2D，不是使用go.Scatter3d，我们需要用go.Scatter并删除变量z。另外，不要使用变量three_dim，而是使用前面声明的变量(例如two_dim)\n",
    "\n",
    "                data.append(trace)\n",
    "                count = count+topn\n",
    "\n",
    "    trace_input = go.Scatter3d(\n",
    "                    x = three_dim[count:,0], \n",
    "                    y = three_dim[count:,1],  \n",
    "                    z = three_dim[count:,2],\n",
    "                    text = words[count:],\n",
    "                    name = 'input words',\n",
    "                    textposition = \"top center\",\n",
    "                    textfont_size = 20,\n",
    "                    mode = 'markers+text',\n",
    "                    marker = {\n",
    "                        'size': 10,\n",
    "                        'opacity': 1,\n",
    "                        'color': 'black'\n",
    "                    }\n",
    "                    )\n",
    "\n",
    "    # 对于2D，不是使用go.Scatter3d，我们需要用go.Scatter并删除变量z。另外，不要使用变量three_dim，而是使用前面声明的变量(例如two_dim)\n",
    "\n",
    "    data.append(trace_input)\n",
    "\n",
    "# 配置布局\n",
    "\n",
    "    layout = go.Layout(\n",
    "        margin = {'l': 0, 'r': 0, 'b': 0, 't': 0},\n",
    "        showlegend=True,\n",
    "        legend=dict(\n",
    "        x=1,\n",
    "        y=0.5,\n",
    "        font=dict(\n",
    "            family=\"Courier New\",\n",
    "            size=25,\n",
    "            color=\"black\"\n",
    "        )),\n",
    "        font = dict(\n",
    "            family = \" Courier New \",\n",
    "            size = 15),\n",
    "        autosize = False,\n",
    "        width = 1000,\n",
    "        height = 1000\n",
    "        )\n",
    "\n",
    "\n",
    "    plot_figure = go.Figure(data = data, layout = layout)\n",
    "    plot_figure.show()\n",
    "\n",
    "display_tsne_scatterplot_3D(model, user_input, similar_word, labels, color_map, 5, 500, 10000)"
   ]
  },
  {
   "cell_type": "code",
   "execution_count": 10,
   "metadata": {},
   "outputs": [],
   "source": [
    "import plotly\n",
    "import numpy as np\n",
    "import plotly.graph_objs as go\n",
    "from sklearn.manifold import TSNE"
   ]
  },
  {
   "cell_type": "code",
   "execution_count": 11,
   "metadata": {},
   "outputs": [
    {
     "output_type": "execute_result",
     "data": {
      "text/plain": [
       "array([[-0.95347274, -0.03923025,  0.30412722, ...,  0.15176002,\n",
       "        -0.33447442,  1.08502698],\n",
       "       [ 1.1398821 , -1.43226873,  0.98831867, ..., -0.92278824,\n",
       "        -0.98734502,  1.55586236],\n",
       "       [ 0.38918392, -2.81436329,  1.38917299, ..., -0.07387884,\n",
       "         0.80119666,  0.90509729],\n",
       "       ...,\n",
       "       [ 0.59222311, -1.94895896, -0.8561284 , ..., -0.80532663,\n",
       "         0.14725242,  0.68422061],\n",
       "       [ 0.27061401, -0.68263442, -0.18546326, ..., -0.13288302,\n",
       "        -0.02012463,  0.12319183],\n",
       "       [-0.48794184,  1.23614038,  0.7089075 , ...,  2.56927493,\n",
       "         0.12872498, -0.37936897]])"
      ]
     },
     "metadata": {},
     "execution_count": 11
    }
   ],
   "source": [
    "word_vectors = np.random.randn(811,256)\n",
    "word_vectors"
   ]
  },
  {
   "cell_type": "code",
   "execution_count": 22,
   "metadata": {},
   "outputs": [
    {
     "output_type": "execute_result",
     "data": {
      "text/plain": [
       "array([6.7910645e-05, 7.9327401e-05, 7.7277415e-05, 7.0993032e-05,\n",
       "       7.1350492e-05], dtype=float32)"
      ]
     },
     "metadata": {},
     "execution_count": 22
    }
   ],
   "source": [
    " three_dim = TSNE(n_components = 2, random_state=0, perplexity = 4, learning_rate = 0.1, n_iter = 250).fit_transform(word_vectors)[:,:3]\n",
    "\n",
    " three_dim.shape\n",
    " three_dim[0:5, 0]"
   ]
  },
  {
   "cell_type": "code",
   "execution_count": 23,
   "metadata": {},
   "outputs": [],
   "source": [
    "data = []\n",
    "count = 0\n",
    "topn = 5\n",
    "words = [str(i) for i in range(300)]\n",
    "user_input = [\"name\"+str(i) for i in range(300)]\n",
    "for i in range (10):\n",
    "    trace = go.Scatter(\n",
    "        x = three_dim[count:count+topn,0], \n",
    "        y = three_dim[count:count+topn,1],  \n",
    "        #z = three_dim[count:count+topn,2],\n",
    "        text = words[count:count+topn],\n",
    "        name = user_input[i],\n",
    "        textposition = \"top center\",\n",
    "        textfont_size = 20,\n",
    "        mode = 'markers+text',\n",
    "        marker = {\n",
    "            'size': 10,\n",
    "            'opacity': 0.8,\n",
    "            'color': 2\n",
    "        }\n",
    "    )\n",
    "\n",
    "                # 对于2D，不是使用go.Scatter3d，我们需要用go.Scatter并删除变量z。另外，不要使用变量three_dim，而是使用前面声明的变量(例如two_dim)\n",
    "\n",
    "    data.append(trace)\n",
    "    count = count+topn"
   ]
  },
  {
   "cell_type": "code",
   "execution_count": 24,
   "metadata": {},
   "outputs": [
    {
     "output_type": "display_data",
     "data": {
      "application/vnd.plotly.v1+json": {
       "config": {
        "plotlyServerURL": "https://plot.ly"
       },
       "data": [
        {
         "marker": {
          "color": 2,
          "opacity": 0.8,
          "size": 10
         },
         "mode": "markers+text",
         "name": "name0",
         "text": [
          "0",
          "1",
          "2",
          "3",
          "4"
         ],
         "textfont": {
          "size": 20
         },
         "textposition": "top center",
         "type": "scatter",
         "x": [
          0.00006791064515709877,
          0.00007932740118121728,
          0.00007727741467533633,
          0.00007099303184077144,
          0.00007135049236239865
         ],
         "y": [
          0.00011110333434771746,
          0.00010696781828301027,
          0.00012258693459443748,
          0.00010814715642482042,
          0.00011504918802529573
         ]
        },
        {
         "marker": {
          "color": 2,
          "opacity": 0.8,
          "size": 10
         },
         "mode": "markers+text",
         "name": "name1",
         "text": [
          "5",
          "6",
          "7",
          "8",
          "9"
         ],
         "textfont": {
          "size": 20
         },
         "textposition": "top center",
         "type": "scatter",
         "x": [
          0.00007384971831925213,
          0.00008789105049800128,
          0.00007725760224275291,
          0.00007750298391329125,
          0.0000773020728956908
         ],
         "y": [
          0.00010647338058333844,
          0.00010364463378209621,
          0.00010743175516836345,
          0.00011153183731948957,
          0.00009727763244882226
         ]
        },
        {
         "marker": {
          "color": 2,
          "opacity": 0.8,
          "size": 10
         },
         "mode": "markers+text",
         "name": "name2",
         "text": [
          "10",
          "11",
          "12",
          "13",
          "14"
         ],
         "textfont": {
          "size": 20
         },
         "textposition": "top center",
         "type": "scatter",
         "x": [
          0.000054148476920090616,
          0.0000790286430856213,
          0.00006901799497427419,
          0.00008510089537594467,
          0.00007640675903530791
         ],
         "y": [
          0.00010518146154936403,
          0.00011137885303469375,
          0.00011874363553943112,
          0.00017468024452682585,
          0.00011431521124904975
         ]
        },
        {
         "marker": {
          "color": 2,
          "opacity": 0.8,
          "size": 10
         },
         "mode": "markers+text",
         "name": "name3",
         "text": [
          "15",
          "16",
          "17",
          "18",
          "19"
         ],
         "textfont": {
          "size": 20
         },
         "textposition": "top center",
         "type": "scatter",
         "x": [
          0.00007625205762451515,
          0.00008301858906634152,
          0.00015547372458968312,
          0.00007591953180963174,
          0.00006065647176001221
         ],
         "y": [
          0.000109591317595914,
          0.00013024093641433865,
          0.00005894588684896007,
          0.00011226738570258021,
          0.0001416677114320919
         ]
        },
        {
         "marker": {
          "color": 2,
          "opacity": 0.8,
          "size": 10
         },
         "mode": "markers+text",
         "name": "name4",
         "text": [
          "20",
          "21",
          "22",
          "23",
          "24"
         ],
         "textfont": {
          "size": 20
         },
         "textposition": "top center",
         "type": "scatter",
         "x": [
          0.00006584232323803008,
          0.0000780837144702673,
          0.00008779126073932275,
          0.000075705953349825,
          0.00007573342008981854
         ],
         "y": [
          0.00010825195931829512,
          0.00011608160275500268,
          0.00011465836723800749,
          0.00011063920828746632,
          0.00011583257582969964
         ]
        },
        {
         "marker": {
          "color": 2,
          "opacity": 0.8,
          "size": 10
         },
         "mode": "markers+text",
         "name": "name5",
         "text": [
          "25",
          "26",
          "27",
          "28",
          "29"
         ],
         "textfont": {
          "size": 20
         },
         "textposition": "top center",
         "type": "scatter",
         "x": [
          0.00008139933925122023,
          0.00007722103327978402,
          0.00007490845018764958,
          0.00006408068293239921,
          0.00006923270120751113
         ],
         "y": [
          0.00011466816067695618,
          0.00010790382657432929,
          0.00011193088721483946,
          0.0001138711377279833,
          0.00011744249786715955
         ]
        },
        {
         "marker": {
          "color": 2,
          "opacity": 0.8,
          "size": 10
         },
         "mode": "markers+text",
         "name": "name6",
         "text": [
          "30",
          "31",
          "32",
          "33",
          "34"
         ],
         "textfont": {
          "size": 20
         },
         "textposition": "top center",
         "type": "scatter",
         "x": [
          0.00008282721682917327,
          0.00008801779767964035,
          0.00007794060365995392,
          0.00007380837632808834,
          0.00009072190005099401
         ],
         "y": [
          0.00011176030966453254,
          0.00010815861605806276,
          0.00011836014891741797,
          0.00011753033322747797,
          0.00010630054021021351
         ]
        },
        {
         "marker": {
          "color": 2,
          "opacity": 0.8,
          "size": 10
         },
         "mode": "markers+text",
         "name": "name7",
         "text": [
          "35",
          "36",
          "37",
          "38",
          "39"
         ],
         "textfont": {
          "size": 20
         },
         "textposition": "top center",
         "type": "scatter",
         "x": [
          0.00008284777140943334,
          0.00007083961099851876,
          0.00008089094626484439,
          0.00008563303708797321,
          0.00007892848225310445
         ],
         "y": [
          0.00012033190432703122,
          0.00012347825395409018,
          0.00011894396448042244,
          0.00011242191249039024,
          0.0001261608413187787
         ]
        },
        {
         "marker": {
          "color": 2,
          "opacity": 0.8,
          "size": 10
         },
         "mode": "markers+text",
         "name": "name8",
         "text": [
          "40",
          "41",
          "42",
          "43",
          "44"
         ],
         "textfont": {
          "size": 20
         },
         "textposition": "top center",
         "type": "scatter",
         "x": [
          0.00008104185690172017,
          0.0000875262267072685,
          0.00006895227124914527,
          0.00007254385127453133,
          0.00007802714389981702
         ],
         "y": [
          0.00011529031326062977,
          0.00010991175076924264,
          0.00010097870108438656,
          0.00011719117901520804,
          0.000112870657176245
         ]
        },
        {
         "marker": {
          "color": 2,
          "opacity": 0.8,
          "size": 10
         },
         "mode": "markers+text",
         "name": "name9",
         "text": [
          "45",
          "46",
          "47",
          "48",
          "49"
         ],
         "textfont": {
          "size": 20
         },
         "textposition": "top center",
         "type": "scatter",
         "x": [
          0.00007674107473576441,
          0.00007542302046203986,
          0.0000963444181252271,
          0.00007657142850803211,
          0.00008603092283010483
         ],
         "y": [
          0.00010771176312118769,
          0.00011141579307150096,
          0.00006898943684063852,
          0.00012221767974551767,
          0.0001235741947311908
         ]
        },
        {
         "marker": {
          "color": "black",
          "opacity": 1,
          "size": 10
         },
         "mode": "markers+text",
         "name": "input words",
         "text": [
          "50",
          "51",
          "52",
          "53",
          "54",
          "55",
          "56",
          "57",
          "58",
          "59",
          "60",
          "61",
          "62",
          "63",
          "64",
          "65",
          "66",
          "67",
          "68",
          "69",
          "70",
          "71",
          "72",
          "73",
          "74",
          "75",
          "76",
          "77",
          "78",
          "79",
          "80",
          "81",
          "82",
          "83",
          "84",
          "85",
          "86",
          "87",
          "88",
          "89",
          "90",
          "91",
          "92",
          "93",
          "94",
          "95",
          "96",
          "97",
          "98",
          "99",
          "100",
          "101",
          "102",
          "103",
          "104",
          "105",
          "106",
          "107",
          "108",
          "109",
          "110",
          "111",
          "112",
          "113",
          "114",
          "115",
          "116",
          "117",
          "118",
          "119",
          "120",
          "121",
          "122",
          "123",
          "124",
          "125",
          "126",
          "127",
          "128",
          "129",
          "130",
          "131",
          "132",
          "133",
          "134",
          "135",
          "136",
          "137",
          "138",
          "139",
          "140",
          "141",
          "142",
          "143",
          "144",
          "145",
          "146",
          "147",
          "148",
          "149",
          "150",
          "151",
          "152",
          "153",
          "154",
          "155",
          "156",
          "157",
          "158",
          "159",
          "160",
          "161",
          "162",
          "163",
          "164",
          "165",
          "166",
          "167",
          "168",
          "169",
          "170",
          "171",
          "172",
          "173",
          "174",
          "175",
          "176",
          "177",
          "178",
          "179",
          "180",
          "181",
          "182",
          "183",
          "184",
          "185",
          "186",
          "187",
          "188",
          "189",
          "190",
          "191",
          "192",
          "193",
          "194",
          "195",
          "196",
          "197",
          "198",
          "199",
          "200",
          "201",
          "202",
          "203",
          "204",
          "205",
          "206",
          "207",
          "208",
          "209",
          "210",
          "211",
          "212",
          "213",
          "214",
          "215",
          "216",
          "217",
          "218",
          "219",
          "220",
          "221",
          "222",
          "223",
          "224",
          "225",
          "226",
          "227",
          "228",
          "229",
          "230",
          "231",
          "232",
          "233",
          "234",
          "235",
          "236",
          "237",
          "238",
          "239",
          "240",
          "241",
          "242",
          "243",
          "244",
          "245",
          "246",
          "247",
          "248",
          "249",
          "250",
          "251",
          "252",
          "253",
          "254",
          "255",
          "256",
          "257",
          "258",
          "259",
          "260",
          "261",
          "262",
          "263",
          "264",
          "265",
          "266",
          "267",
          "268",
          "269",
          "270",
          "271",
          "272",
          "273",
          "274",
          "275",
          "276",
          "277",
          "278",
          "279",
          "280",
          "281",
          "282",
          "283",
          "284",
          "285",
          "286",
          "287",
          "288",
          "289",
          "290",
          "291",
          "292",
          "293",
          "294",
          "295",
          "296",
          "297",
          "298",
          "299"
         ],
         "textfont": {
          "size": 20
         },
         "textposition": "top center",
         "type": "scatter",
         "x": [
          0.00007599037780892104,
          -0.00008949675248004496,
          0.00007795156125212088,
          0.00008088488539215177,
          0.0000679832519381307,
          0.000068006178480573,
          0.00007971531886141747,
          0.00006404596206266433,
          0.000072567279858049,
          0.00007735478720860556,
          0.00007867342355893925,
          0.00007838064630050212,
          0.00008265518408734351,
          0.00008075431105680764,
          0.00007596604700665921,
          0.0000773063802625984,
          0.00007758371066302061,
          0.00008698822784936056,
          0.00006610202399315313,
          0.00007633765926584601,
          0.00007229181937873363,
          0.00007948072016006336,
          0.00007838133751647547,
          0.00007072572770994157,
          0.00007387206278508529,
          0.00008605282346252352,
          0.00008218058064812794,
          0.00007056874892441556,
          0.00007262695726240054,
          0.00008283744682557881,
          0.0000757628949941136,
          0.00007395388092845678,
          0.00007268660556292161,
          0.00008651020471006632,
          0.00007733560778433457,
          0.00008030467142816633,
          0.00007629797619301826,
          0.00007249787449836731,
          0.00008045112190302461,
          0.00008012132457224652,
          0.00008885642455425113,
          0.00008947285823523998,
          0.00005612344102701172,
          -0.03134327754378319,
          0.00008267417433671653,
          0.00007848635141272098,
          0.00008211621752707288,
          0.00007095840555848554,
          0.00006986798689467832,
          0.00010284753079758957,
          0.00008232185791712254,
          0.00007382899639196694,
          0.00007559242658317089,
          0.000021257241314742714,
          -0.00003296065915492363,
          0.00006706624844809994,
          0.00006954347190912813,
          0.00008534204971510917,
          0.00006644357927143574,
          0.00007575255585834384,
          0.00007800785533618182,
          0.0000778287067078054,
          0.00007543942774645984,
          0.00007004642975516617,
          0.0000788876714068465,
          0.00008375754987355322,
          0.00008042545960051939,
          0.00007860066398279741,
          0.00011545125744305551,
          0.0000742558331694454,
          0.00007452734280377626,
          0.00006714220944559202,
          0.00011366776016075164,
          0.00007853896386222914,
          0.00007683240983169526,
          0.00007716139953117818,
          0.00007397351146209985,
          0.00009431638318346813,
          0.00007410555554088205,
          0.00007591611938551068,
          0.00009806969319470227,
          0.00038611370837315917,
          0.00008087302558124065,
          0.00007751478551654145,
          0.00007782551983837038,
          0.00007299816206796095,
          -0.0003410425561014563,
          0.00007889288099249825,
          0.00007351300882874057,
          0.00008282745693577453,
          0.00006978668534429744,
          0.00007302575249923393,
          0.00007240341801661998,
          0.00008104785956675187,
          0.00008882088877726346,
          0.00007125388219719753,
          0.00006129879329819232,
          0.0000748112506698817,
          0.00007720074063399807,
          0.0000751348925405182,
          0.0000782763963798061,
          0.00008023862756090239,
          0.00007560338417533785,
          0.00008573992818128318,
          0.00007451251440215856,
          0.0000766040466260165,
          0.00007384628406725824,
          0.00008058491221163422,
          0.00008796473412076011,
          0.00007480933709302917,
          0.000038651254726573825,
          0.00007666583405807614,
          0.00007917409675428644,
          0.00007115040352800861,
          0.00007252606883412227,
          0.02650231495499611,
          0.00006574533472303301,
          0.00006736403156537563,
          0.00008316819730680436,
          0.00007207762246252969,
          0.00007021581404842436,
          0.00009140920883510262,
          0.00008144131425069645,
          0.00006860026041977108,
          0.0000737837835913524,
          0.00006657224002992734,
          0.00007565430860267952,
          0.00007444348011631519,
          0.00007933724555186927,
          0.00007302249287022278,
          0.00007423892384395003,
          0.0000768306344980374,
          0.00007212303171399981,
          0.00007774935511406511,
          0.00007934837776701897,
          0.00007629446918144822,
          0.00006891825614729896,
          0.00007783061300870031,
          0.00007967626152094454,
          0.00007255154196172953,
          0.00009278582001570612,
          0.00008551026985514909,
          0.00007559226651210338,
          0.00008073122444329783,
          0.00007638530223630369,
          0.00007239925616886467,
          0.00008069069008342922,
          0.00007317880226764828,
          0.00007496609032386914,
          0.0000697080758982338,
          0.00007744936738163233,
          0.000060254624258959666,
          0.0000869604991748929,
          0.00007542820821981877,
          0.0000744289718568325,
          0.0000797963875811547,
          0.00005998626147629693,
          0.00008016110950848088,
          0.00007627448940183967,
          0.0000778462053858675,
          0.00005721812340198085,
          0.00007665264274692163,
          0.00009095609857467934,
          0.00007650336192455143,
          0.00006780157127650455,
          0.000050236609240528196,
          0.00008937874372350052,
          0.00007935055327834561,
          0.00007741521403659135,
          0.00006459157157223672,
          0.00007855481817387044,
          0.00007055139576550573,
          0.00008648920629639179,
          0.000050043909141095355,
          0.00008174146933015436,
          0.0000815094681456685,
          0.00007866294617997482,
          0.0004218337999191135,
          0.00007718720007687807,
          0.00007349075167439878,
          0.00008857296779751778,
          0.00007271701178979129,
          0.00007946561527205631,
          0.00007359824667219073,
          0.00008361507207155228,
          0.00008915939542930573,
          0.00006414800009224564,
          0.00017937266966328025,
          0.0000730687243049033,
          0.0000711536267772317,
          0.0326082743704319,
          0.00008395153417950496,
          0.00007265958265634254,
          0.00007478768384316936,
          0.00008309303666464984,
          0.0001351959799649194,
          0.00008042006811592728,
          0.0000709068335709162,
          0.00006737301009707153,
          0.00009179988410323858,
          0.00008184323814930394,
          0.00007348565122811124,
          0.00007977479981491342,
          0.00007843704952392727,
          0.00007930505671538413,
          0.00007739643478998914,
          0.0000723803968867287,
          0.00008533053915016353,
          0.00007100795482983813,
          0.00007441355410264805,
          0.00007259596895892173,
          0.00008207752398448065,
          0.00007685855962336063,
          0.00007145319978008047,
          0.00007692095823585987,
          0.00007879027543822303,
          0.00009935045090969652,
          0.00008591016376158223,
          0.00007400652975775301,
          0.00007993144390638918,
          0.00006876039697090164,
          0.00007676809764234349,
          0.00007407214434351772,
          0.00007748805364826694,
          0.044433027505874634,
          0.00007068517879815772,
          0.00007595243368996307,
          0.00007269498019013554,
          0.00007924962847027928,
          0.000016055590094765648,
          0.00006609977572225034,
          0.00007506090332753956,
          0.00008406724373344332,
          0.0000739412716939114,
          0.00007663082215003669,
          0.00006971627590246499,
          0.00011134895612485707,
          0.00007617032679263502,
          0.0000780369300628081,
          0.00007687431934755296,
          0.00007835122960386798,
          0.00007931449363240972,
          0.00008048870950005949,
          0.0000937581789912656,
          0.0000720960451872088,
          0.00007680863927816972,
          0.00002316972313565202,
          0.00008694242569617927,
          0.0000799807530711405,
          0.00008067999442573637,
          0.00008143619197653607,
          0.00008372193406103179,
          -0.05571378022432327,
          0.00007073771121213213,
          0.00007688241748837754,
          0.00007460114284185693,
          0.00007443573122145608,
          0.0000855000180308707,
          0.00007090696453815326,
          0.0000727824226487428,
          0.00437286589294672,
          0.00007671148341614753,
          0.00008695056021679193,
          0.00007682260911678895,
          0.00008825804980006069,
          0.00020804467203561217,
          0.00009089295781450346,
          0.00007061273936415091,
          0.00008411363523919135,
          0.0000745864599593915,
          0.00007781216845614836,
          0.0000811410864116624,
          0.00008031130710151047,
          0.006954557728022337,
          0.00007811011892044917,
          0.00007308101339731365,
          0.00007174340134952217,
          0.0000694458867656067,
          0.00007091287261573598,
          0.00007326169725274667,
          0.00007467355317203328,
          0.00007325399201363325,
          0.00008007654832908884,
          0.00007741371518932283,
          0.00007993577310116962,
          0.000059206871810602024,
          0.00007858515891712159,
          0.00007375276618404314,
          0.00008038865053094923,
          0.00008008724398678169,
          0.00007246415771078318,
          0.00005895446156500839,
          0.00006592175486730412,
          0.000074974843300879,
          0.00009626963583286852,
          0.00007467815885320306,
          0.00007566103158751503,
          0.00006175510497996584,
          0.00008190686639863998,
          0.00006859579298179597,
          0.00007129238656489179,
          0.0000592175820202101,
          0.00007058946357574314,
          0.00007213811477413401,
          0.00006936975114513189,
          0.00008671053365105763,
          0.000058222300140187144,
          0.00007623745477758348,
          0.00008027264993870631,
          0.00007633772474946454,
          0.00007211093907244503,
          0.00007747080962872133,
          0.00008057126979110762,
          0.00007746049232082441,
          0.00007721316796960309,
          0.000087537664512638,
          0.00008164922473952174,
          0.00008110037015285343,
          0.00006561980990227312,
          0.00007138768705772236,
          0.00008242700278060511,
          0.00006686743290629238,
          -0.000011305597581667826,
          0.0000848272829898633,
          0.00007475793245248497,
          0.00007508198905270547,
          0.00007391740655293688,
          0.00008043601701501757,
          0.00009896649135043845,
          0.00006685839616693556,
          0.0000705109050613828,
          0.0000746589939808473,
          0.00007224439468700439,
          0.00006863624730613083,
          0.0000757957313908264,
          0.00008024933049455285,
          0.00008922822598833591,
          0.00007789981464156881,
          0.00007589597953483462,
          0.00008296069427160546,
          0.00008554407395422459,
          0.00007284557068487629,
          0.00006990546535234898,
          0.00006855971150798723,
          0.00008353683369932696,
          0.00008298308966914192,
          0.00008087723836069927,
          0.00006582360219908878,
          0.00007609963358845562,
          0.00008680960308993235,
          0.00007018609903752804,
          0.00007685471064178273,
          0.00007508380804210901,
          0.00009511761163594201,
          0.0000721074829925783,
          0.00007874244329286739,
          0.0000742585034458898,
          0.0000679416480124928,
          0.00006960115570109338,
          0.00007779677980579436,
          0.0000647051929263398,
          0.00008133979281410575,
          0.00007579279190395027,
          0.00007180350803537294,
          0.00006796584784751758,
          0.012763834558427334,
          0.00007201336120488122,
          0.00007843472121749073,
          0.00010344188194721937,
          0.00006799041148042306,
          0.00007850721158320084,
          0.0000702704128343612,
          0.00007553004252258688,
          0.0000721170799806714,
          0.0000773982610553503,
          0.00007664373697480187,
          0.00007983580871950835,
          0.00007915639434941113,
          -0.00023147524916566908,
          0.00009599555050954223,
          0.00007041176286293194,
          0.00007456373714376241,
          0.00006665111141046509,
          0.00006565178773598745,
          0.00008170586806954816,
          0.00006954829586902633,
          0.00008742525096749887,
          0.0000801367568783462,
          0.00006859461427666247,
          0.0000801338319433853,
          0.00007523658132413402,
          0.00007858963363105431,
          0.00007678705151192844,
          0.00007598476076964289,
          0.0000259900298260618,
          0.00006469414074672386,
          0.000076223150244914,
          0.00007703841401962563,
          0.00007063944212859496,
          0.00008285454532597214,
          0.00007507605914724991,
          0.00007657420792384073,
          0.0000762156123528257,
          0.00007432640268234536,
          0.00007536457997048274,
          0.00003402761649340391,
          0.00007377374276984483,
          0.00007979481597431004,
          0.0000738763774279505,
          0.00008380127837881446,
          0.00007986032869666815,
          0.00007751068915240467,
          0.000002995417617057683,
          0.0000679584700264968,
          0.00004916573379887268,
          0.00006180191121529788,
          0.00007594194175908342,
          0.00008499590330757201,
          0.00009982714254874736,
          0.00007999805529834703,
          0.00007789338997099549,
          0.00007197247032308951,
          0.00008014601189643145,
          0.00006488233339041471,
          0.00007185310096247122,
          0.00008276473090518266,
          0.00007755884143989533,
          0.00007885497325332835,
          0.0000681662349961698,
          0.0000750174731365405,
          0.00007713323429925367,
          0.0000715697678970173,
          0.00007995456689968705,
          0.00007363231270574033,
          0.0000784011062933132,
          0.00007492845907108858,
          0.00007572438335046172,
          0.00007776459824526682,
          0.00008704607171239331,
          0.00007290474604815245,
          0.00007447206735378131,
          0.00007557797653134912,
          0.00008890056051313877,
          0.00004094313771929592,
          0.00007476680912077427,
          0.00007319868018385023,
          0.00007896750321378931,
          0.00008200130832847208,
          0.00007687857578275725,
          0.0000753287022234872,
          0.00006832517101429403,
          0.00009934409172274172,
          0.00008495084330206737,
          -0.00002303185647178907,
          0.00007931297295726836,
          0.00007500901847379282,
          0.00007481081411242485,
          0.00007266532338690013,
          0.00006748030136805028,
          0.00017719846800900996,
          0.0000737067312002182,
          0.00008917929517338052,
          0.00007701456343056634,
          0.00006861538713565096,
          0.00007142016693251207,
          0.00007955831824801862,
          0.00014569533232133836,
          0.00007307468331418931,
          0.00007499328057747334,
          0.0000932398033910431,
          0.00006890352960908785,
          0.00008146053733071312,
          0.00007255138189066201,
          0.00006846466567367315,
          0.00006568160461029038,
          0.00007708434714004397,
          0.0000725496793165803,
          0.00007401357288472354,
          0.00007470204582205042,
          0.0000779646506998688,
          0.00007633075438207015,
          0.00009274654439650476,
          0.00008250580867752433,
          0.00008001719106687233,
          0.00007131962047424167,
          0.00007386554352706298,
          0.0000790290578152053,
          0.00008062533015618101,
          0.00008617246930953115,
          0.0000817515974631533,
          0.00006449766078731045,
          0.016977136954665184,
          -0.012783786281943321,
          0.00008030693425098434,
          0.00007126887794584036,
          0.00008800685463938862,
          0.0000863666573422961,
          0.00007999822264537215,
          0.00007389582606265321,
          0.00007102208473952487,
          0.00005663817501044832,
          0.0000696767820045352,
          0.00007939176430227235,
          0.00007044114317977801,
          0.00006245636905077845,
          0.0000964379942161031,
          0.00006947494694031775,
          0.00007115232438081875,
          0.00007612910849275067,
          0.00007078514317981899,
          0.00006433861562982202,
          0.00007858072058297694,
          0.00006535572902066633,
          0.00007257928518811241,
          0.00007805218046996742,
          0.00008093324140645564,
          0.00007908954285085201,
          0.0000823476366349496,
          0.00007845587242627516,
          0.00007270985224749893,
          0.00008426038402831182,
          0.00007349078805418685,
          0.00007329398795263842,
          0.00006732592009939253,
          0.00007610630564158782,
          0.00006863327871542424,
          0.0000850210853968747,
          0.00009179360495181754,
          0.00007266111060744151,
          0.00007054233719827607,
          0.00007427980017382652,
          0.00007035117596387863,
          0.00008363917731912807,
          0.00007523885869886726,
          0.00007238830585265532,
          0.00008179646829375997,
          0.00021949544316157699,
          0.00007097553316270933,
          0.00007501491199946031,
          0.0001166951478808187,
          0.00007270254718605429,
          0.00007533441385021433,
          0.00007041110075078905,
          0.00006518383452203125,
          0.00007759682921459898,
          0.00007837639714125544,
          0.000075960808317177,
          0.00007441479829140007,
          0.00007140496745705605,
          0.00008670496754348278,
          0.00007715145329711959,
          0.00007506172551074997,
          0.00012784496357198805,
          0.00007344080950133502,
          0.00008959437400335446,
          0.00008000991510925815,
          0.00008313908620039001,
          0.00007978193752933294,
          0.00008754296140978113,
          0.0000874432225828059,
          0.00007375441055046394,
          0.00007336109410971403,
          0.00008249012898886576,
          0.00008042882836889476,
          0.00008176244591595605,
          0.00007722504960838705,
          0.00006866607145639136,
          0.00005710616824217141,
          0.00007750371150905266,
          0.00008481932309223339,
          0.00007696069224039093,
          0.00006734674389008433,
          0.00007881709461798891,
          0.0000767036181059666,
          0.00007885754166636616,
          0.00008064337453106418,
          0.00007604428537888452,
          0.00006305243005044758,
          0.00008638483996037394,
          0.00007600532262586057,
          0.00007699619163759053,
          0.0000807305914349854,
          0.00007374729466391727,
          0.00008946401794673875,
          0.00005098693509353325,
          0.00008557507680961862,
          0.00007840383477741852,
          0.00008441587851848453,
          0.00010158099030377343,
          0.00007143788388930261,
          0.00007868142711231485,
          0.00007670506602153182,
          0.00008827659621601924,
          0.00007772802928229794,
          0.0024796000216156244,
          0.00007606153667438775,
          0.00007624821591889486,
          0.00008406078995903954,
          0.00007978426583576947,
          0.00007556258060503751,
          0.0000784642033977434,
          0.00007657208334421739,
          0.000051043214625678957,
          0.00007617238588863984,
          0.00009644498641137034,
          0.00008334364247275516,
          0.00007812924013705924,
          0.00007447368261637166,
          0.00008511379564879462,
          0.00008048082236200571,
          0.00007271610229508951,
          0.00007189482857938856,
          0.00007546758570242673,
          0.00007447881216648966,
          0.00007644914148841053,
          0.0000774720247136429,
          0.00007383950287476182,
          0.00007035801536403596,
          0.00007855935109546408,
          0.00008207612700061873,
          0.00007554644253104925,
          0.00006933039549039677,
          0.00008045318827498704,
          0.00007759378058835864,
          0.00007353230466833338,
          0.00007113376341294497,
          0.00006936417048564181,
          0.00021657344768755138,
          0.00011968628678005189,
          0.0000822655638330616,
          0.00008657843864057213,
          0.00011912320042029023,
          0.00007357227150350809,
          0.00008943963621277362,
          0.00007288102642633021,
          0.00007364242628682405,
          0.00007354649278568104,
          0.00007825370266800746,
          0.00008268196688732132,
          0.00007601839024573565,
          0.0000675741393934004,
          0.0000675885530654341,
          0.00008221891039283946,
          0.00007718190317973495,
          0.00007956483750604093,
          0.00007526558329118416,
          0.0000627026820438914,
          0.00006542268965858966,
          0.00008389945287490264,
          0.00007724811439402401,
          0.00007819172606104985,
          0.00007749659562250599,
          0.00006894186662975699,
          0.00006941317406017333,
          0.00007859650941099972,
          0.00005180464359000325,
          0.00008309831900987774,
          0.0000568685973121319,
          0.00007625205034855753,
          -0.11231034994125366,
          0.00007390324753941968,
          0.00007243462459882721,
          0.00006741871766280383,
          0.00007315066613955423,
          0.00008192579844035208,
          0.011460886336863041,
          0.00008215068373829126,
          0.00007599673699587584,
          0.00008365570829482749,
          0.00005808158311992884,
          0.00007971201557666063,
          0.00007723696762695909,
          0.00008682061161380261,
          -0.0035098548978567123,
          0.00007649708277313039,
          0.00007795761484885588,
          0.00007250968337757513,
          0.00005743482688558288,
          0.00007959076901897788,
          0.00009706330456538126,
          0.00007773069955874234,
          0.00008466486178804189,
          0.0000661347366985865,
          0.00009107567893806845,
          0.00004887023169430904,
          0.0000747093727113679,
          0.00007436133455485106,
          0.00007757901039440185,
          0.00007490075950045139,
          0.00006140844925539568,
          0.00007666369492653757,
          0.00007863590872148052,
          0.00007677912071812898,
          0.00007525590626755729,
          0.00007758272113278508,
          0.00008186740888049826,
          0.0000826396862976253,
          0.00007818912854418159,
          0.00006464397301897407,
          0.00005982366928947158,
          0.00007365562487393618,
          0.00007072830339893699,
          -0.02023881860077381,
          0.0000745875877328217,
          0.00007186717994045466,
          0.000013963417586637661,
          0.00007818637095624581,
          0.000005938718913967023,
          0.00019376055570319295,
          0.00008190138032659888,
          0.0003344195429235697,
          0.00007916546746855602,
          0.00008783426164882258,
          0.00007721288420725614,
          0.0000735996727598831,
          0.0000774063664721325,
          0.00007999745139386505,
          0.00007157785148592666,
          0.00007176565122790635,
          0.00007584002014482394,
          0.0000846838956931606,
          0.00006464227772084996,
          0.00007083464879542589,
          0.00007759407162666321,
          0.00008814199100015685,
          0.0000745962533983402,
          0.00006481904711108655,
          0.00007891702261986211,
          0.0000731922045815736,
          0.00007885984814492986,
          0.00006885214679641649,
          0.00007065749377943575,
          0.00007737008127151057,
          0.00007537147757830098,
          0.00007315559196285903,
          0.00007371328683802858,
          0.00008620902372058481,
          0.00006518240115838125,
          0.00007900991477072239,
          0.00007778182771289721,
          0.00006695587944705039,
          0.00008435203199042007,
          0.00007228294271044433,
          0.00007070766150718555,
          0.00007291248039109632,
          0.00008434131450485438,
          0.00008157424599630758,
          0.00007166356226662174,
          0.00008125630847644061,
          0.00009253954340238124,
          0.00007831476250430569,
          0.00007023492798907682,
          0.00007718727283645421,
          0.00007268095214385539,
          0.00007545531843788922,
          0.00007569567969767377,
          0.00008444542618235573,
          0.00010749449575087056,
          0.00008501193224219605,
          0.0000775488224462606,
          0.00007449155964422971
         ],
         "y": [
          0.00010292850492987782,
          0.00011673995322780684,
          0.00011663835903163999,
          0.00011431743769207969,
          0.00012086096830898896,
          0.00011585332686081529,
          0.00010747188207460567,
          0.0001107067582779564,
          0.00011449376324890181,
          0.00011052711488446221,
          0.00011858849029522389,
          0.0001074285974027589,
          0.00011580127466004342,
          0.00011207594070583582,
          0.00011251693649683148,
          0.00011182902380824089,
          0.0001051679573720321,
          0.0001156981525127776,
          0.00012055502156727016,
          0.0001203266583615914,
          0.00010882137576118112,
          0.000104877857665997,
          0.00011279259342700243,
          0.00011844819528050721,
          0.000111018045572564,
          0.00009968148515326902,
          0.00011709537648130208,
          0.00011167806951561943,
          0.00012313519255258143,
          0.0001110778030124493,
          0.00011343659571139142,
          0.00012008361954940483,
          0.00010717589611886069,
          0.00010492391447769478,
          0.00011568320769583806,
          0.00011073498899349943,
          0.0001210152477142401,
          0.00011405118857510388,
          0.00011139521666336805,
          0.00010865522199310362,
          0.00011014740448445082,
          0.00012086033530067652,
          0.00011805767280748114,
          0.00232207914814353,
          0.00010297469270881265,
          0.00012716931814793497,
          0.00013262841093819588,
          0.00010800093878060579,
          0.00011371813889127225,
          0.00037173053715378046,
          0.00010962825763272122,
          -0.00001856360540841706,
          0.00011989033373538405,
          0.00012453951057977974,
          0.00018052819359581918,
          0.00011599843855947256,
          0.00010918089537881315,
          0.0001272612134926021,
          0.00011177016131114215,
          0.00011260371684329584,
          0.00011261447798460722,
          0.00009809382754610851,
          0.0001158847298938781,
          0.00011245814675930887,
          0.00011743435607058927,
          0.00015757331857457757,
          0.00012081376917194575,
          0.00011619491124292836,
          0.00009410247002961114,
          0.00011421826638979837,
          0.00011200833978364244,
          0.00012057425919920206,
          0.00011491014447528869,
          0.00011819192877737805,
          0.00010598942026263103,
          0.00011130653729196638,
          0.00012010472710244358,
          0.00009760056855157018,
          0.00012089904339518398,
          0.00010627699521137401,
          0.0001006165039143525,
          -0.0000434288231190294,
          0.00010862918134080246,
          0.00011320567864459008,
          0.00010712859511841089,
          0.00011946450831601396,
          0.00013200686953496188,
          0.00011570715287234634,
          0.00010524528624955565,
          0.00010901152563747019,
          0.00011069308675359935,
          0.00010384873166913167,
          0.0001123211914091371,
          0.00011113850632682443,
          0.00007846567314118147,
          0.0001079788344213739,
          0.00011656626884359866,
          0.00011584354797378182,
          0.00011757486208807677,
          0.00011450185411376879,
          0.00011447370343375951,
          0.00011316545715089887,
          0.0001038816844811663,
          0.0001150218813563697,
          0.00011351561988703907,
          0.00010777245188364759,
          0.00011542771972017363,
          0.00010874492727452889,
          0.00010627655137795955,
          0.00011919646203750744,
          0.00011626038030954078,
          0.0001311638770857826,
          0.00011023653496522456,
          0.00010761745943455026,
          0.00009710027370601892,
          -0.039842914789915085,
          0.00012376987433526665,
          0.00011717802408384159,
          0.00010550014121690765,
          0.00010560706141404808,
          -0.00011932905908906832,
          0.00008374314347747713,
          0.00011039591481676325,
          0.00011243882909184322,
          0.000106016181234736,
          0.0001121802706620656,
          0.0001100676236092113,
          0.00007431727135553956,
          0.00011909416934940964,
          0.00011451786122051999,
          0.00011667525541270152,
          0.0001174704812001437,
          0.00010899948392761871,
          0.00011648345389403403,
          0.00011930742766708136,
          0.00012005065946141258,
          0.00011597134289331734,
          0.00010286514589097351,
          0.00010887055395869538,
          0.00011380121577531099,
          0.00010012892016675323,
          0.00012351009354460984,
          0.00011273457494098693,
          0.00010941547225229442,
          0.00011782092042267323,
          0.00011576159886317328,
          0.00012044588947901502,
          0.00011684390483424067,
          0.00011283093772362918,
          0.00011004262341884896,
          0.00011822846136055887,
          0.00011949273175559938,
          0.00011386127880541608,
          0.0001100483859772794,
          0.0001231016212841496,
          0.00011129965423606336,
          0.00011645442282315344,
          0.00011383593664504588,
          0.00010823615593835711,
          0.00011066545266658068,
          0.00011546991299837828,
          0.00011236144200665876,
          0.00011115233064629138,
          0.00011743389040930197,
          0.0001327051577391103,
          0.0001085261901607737,
          0.00009814377699512988,
          0.00010696456592995673,
          0.00011036684009013698,
          0.00010960923827951774,
          0.00011000721860909835,
          0.00012055193656124175,
          0.00010457408643560484,
          0.00011215417180210352,
          0.00011872872710227966,
          0.00011017506039934233,
          0.00010777007264550775,
          -0.0011520800180733204,
          0.00011897563672391698,
          0.00011086605809396133,
          0.00011225138587178662,
          0.0001136887221946381,
          0.00011423994146753103,
          0.0001158359955297783,
          0.00012058606080245227,
          0.00010507462138775736,
          0.00012298166984692216,
          0.00005866603896720335,
          0.00011332950816722587,
          0.00011114964581793174,
          0.04269484430551529,
          0.00011510389595059678,
          0.00011524325236678123,
          0.0001068995043169707,
          0.00010777352144941688,
          0.00011040471872547641,
          0.00011786157119786367,
          0.00010378858132753521,
          0.0001120925007853657,
          0.00012228103878442198,
          0.00011646198981907219,
          0.00011532290955074131,
          0.00011497820378281176,
          0.00011646442726487294,
          0.00010891946294577792,
          0.00011038887896575034,
          0.00011633725807769224,
          0.00010972104064421728,
          0.0001118621148634702,
          0.00011545650340849534,
          0.0001180523177026771,
          0.00011238908336963505,
          0.00012194577720947564,
          0.00011632265523076057,
          0.0001156794314738363,
          0.00011250295938225463,
          0.00011121592251583934,
          0.0001145715286838822,
          0.00011484693823149428,
          0.00011874552728841081,
          0.00011747331882361323,
          0.00011112319043604657,
          0.00011956824891967699,
          0.00011699274909915403,
          -0.02258274145424366,
          0.00011037306830985472,
          0.00012517267896328121,
          0.00011112393985968083,
          0.00011098835966549814,
          0.0001092038000933826,
          0.00011962596181547269,
          0.00011789436393883079,
          0.00011787093535531312,
          0.00011449443263700232,
          0.00011222853936487809,
          0.00012659809726756066,
          0.00038932941970415413,
          0.00011626876948866993,
          0.00010953041783068329,
          0.00011584055027924478,
          0.00012050065561197698,
          0.0001081802329281345,
          0.00011658204311970621,
          0.00010672990174498409,
          0.00010975002078339458,
          0.00012000380957033485,
          -0.002324149012565613,
          0.00011369746789569035,
          0.00010925358947133645,
          0.00011860902304761112,
          0.00010733382805483416,
          0.0001145263304351829,
          -0.023186253383755684,
          0.00011938944226130843,
          0.0001088477874873206,
          0.00010999345977324992,
          0.00012161056656623259,
          0.00014034376363269985,
          0.00011674600682454184,
          0.00010582464165054262,
          -0.0019765023607760668,
          0.00011357737093931064,
          0.0001369054225506261,
          0.00011779225314967334,
          0.00007809535600244999,
          0.00009719898662297055,
          0.0001154599740402773,
          0.00012203821097500622,
          0.00008950226765591651,
          0.00011012259346898645,
          0.00011172159429406747,
          0.00011416255438234657,
          0.00011790593998739496,
          -0.0004406777152325958,
          0.00011276661098236218,
          0.00012124744534958154,
          0.00010872501297853887,
          0.00011021181126125157,
          0.0001242944854311645,
          0.00010918706539086998,
          0.00011621112935245037,
          0.00010891263809753582,
          0.00011144141899421811,
          0.00011467259901110083,
          0.00011925074068130925,
          0.00007586822903249413,
          0.00010581156675470993,
          0.0001085221374523826,
          0.00017265777569264174,
          0.00010775704140542075,
          0.0001177402155008167,
          0.00010994408512488008,
          0.00011970461491728202,
          0.00011513348727021366,
          0.00010223945719189942,
          0.00010679660044843331,
          0.00010213493078481406,
          0.0001130962700699456,
          0.0001078216009773314,
          0.00011304250074317679,
          0.0001161477412097156,
          0.00011974752851529047,
          0.00010970341099891812,
          0.00011510954209370539,
          0.00012346722360234708,
          0.00011120762792415917,
          0.00011967904720222577,
          0.00011668626393657178,
          0.00011693621490849182,
          0.00011714769061654806,
          0.00011975917732343078,
          0.00012087744107702747,
          0.00011439153604442254,
          0.00011418884241720662,
          0.0001138087100116536,
          0.0000994571455521509,
          0.00011768614058382809,
          0.0001265177270397544,
          0.00012508411600720137,
          0.00010900411871261895,
          0.00011835496843559667,
          0.00011243572225794196,
          -0.00004721751975012012,
          0.0001251586654689163,
          0.00010852418199647218,
          0.00012469822831917554,
          0.00011375810572644696,
          0.0001106604904634878,
          0.00004366186840343289,
          0.00012254893954377621,
          0.0001142836845247075,
          0.00011643963807728142,
          0.0001202022613142617,
          0.00011253371485508978,
          0.00011781489592976868,
          0.00011661900498438627,
          0.00011956023809034377,
          0.00011746725795092061,
          0.00011682634067256004,
          0.0001161945765488781,
          0.0000983116333372891,
          0.00012061704182997346,
          0.00011555807577678934,
          0.0001105118717532605,
          0.00011644150072243065,
          0.00008647801587358117,
          0.00010687106259865686,
          0.00012770477042067796,
          0.00010924071102635935,
          0.00011294044088572264,
          0.00010837600711965933,
          0.00010633355850586668,
          0.00010739473509602249,
          0.00005199638690100983,
          0.00011331994755892083,
          0.00011306982923997566,
          0.00011771940626204014,
          0.00011019138764822856,
          0.00010929492418654263,
          0.00011221790919080377,
          0.00011042343976441771,
          0.00011856743367388844,
          0.00010980397928506136,
          0.00010798826406244189,
          0.00011845006520161405,
          0.0372302420437336,
          0.00011893288319697604,
          0.00011229960364289582,
          0.0003002726589329541,
          0.00011616269330261275,
          0.00011718569294316694,
          0.00011257045844104141,
          0.00011855339835165069,
          0.00011004992120433599,
          0.00011280878243269399,
          0.00011751044075936079,
          0.00012019664427498356,
          0.00010979496437357739,
          0.000314195902319625,
          0.00012192738358862698,
          0.00011146313772769645,
          0.00010919327178271487,
          0.00011869380250573158,
          0.00010959243809338659,
          0.0001100454101106152,
          0.00012163996143499389,
          0.00011453792831161991,
          0.00011438065121183172,
          0.00011977850954281166,
          0.00011577898112591356,
          0.0001132304169004783,
          0.00011474652274046093,
          0.0001014735535136424,
          0.00011789805284934118,
          0.000134240894112736,
          0.00012030712969135493,
          0.00011539454135345295,
          0.00011544199514901266,
          0.00010486471001058817,
          0.0001104690381907858,
          0.00011488359450595453,
          0.00010404187923995778,
          0.00010412067058496177,
          0.00010841408948181197,
          0.00010614224447635934,
          0.00012991984840482473,
          0.00011582473962334916,
          0.00011285708023933694,
          0.0001197751407744363,
          0.00010638829553499818,
          0.00011361403448972851,
          0.00010883728100452572,
          0.00012643536319956183,
          0.00010906115494435653,
          0.0001140149324783124,
          0.00011871472088387236,
          0.0001056543187587522,
          0.00012283571413718164,
          0.000050664817536016926,
          0.00011598232958931476,
          0.00011671479296637699,
          0.00010548486898187548,
          0.00010839064634637907,
          0.00013846172078046948,
          0.00011776680184993893,
          0.00011508644092828035,
          0.00011420393275329843,
          0.00011216318671358749,
          0.00011424924014136195,
          0.00011375527537893504,
          0.00010914949234575033,
          0.00011050982720917091,
          0.00011379379429854453,
          0.00011590585199883208,
          0.00012075142149114981,
          0.00010004085197579116,
          0.00011104824079666287,
          0.00012500330922193825,
          0.00012148792302468792,
          0.00011263763008173555,
          0.00011459110100986436,
          0.00011577901750570163,
          0.00010913854202954099,
          0.00014194413961376995,
          0.0001126796705648303,
          0.0000841714208945632,
          0.00011809233546955511,
          0.00011869804438902065,
          0.00011383141827536747,
          0.00010748664499260485,
          0.0001136645587394014,
          0.00010104238026542589,
          0.0001131021708715707,
          0.00012808154860977083,
          0.00009902558667818084,
          0.00011158541747136042,
          0.00011447211727499962,
          0.00010740783181972802,
          0.00006173532165121287,
          0.00009342673001810908,
          0.00011775890743592754,
          0.00007177137740654871,
          0.00011027607251890004,
          0.00011645850463537499,
          0.00010892860882449895,
          0.0001085078765754588,
          -0.00016886586672626436,
          0.00011909838212886825,
          0.00011952340719290078,
          0.00004315610567573458,
          0.00011482728586997837,
          0.00011978234397247434,
          0.00011355562310200185,
          0.00011744388029910624,
          0.00011449753219494596,
          0.00011094937508460134,
          0.00011778270709328353,
          0.00011104786244686693,
          0.00010614505299599841,
          0.00011482418631203473,
          0.00011368577543180436,
          0.0001013784931274131,
          0.00010497110633878037,
          0.00012015722313662991,
          0.00011616504343692213,
          0.00012068240903317928,
          0.00012581777991726995,
          0.00011032914335373789,
          0.00011704157805070281,
          0.0001110116791096516,
          0.00012076388520654291,
          -0.025809548795223236,
          -0.02637232281267643,
          0.00011867597640957683,
          0.0001363383635180071,
          0.00010690653289202601,
          0.00011350829299772158,
          0.00009825881716096774,
          0.00011750838893931359,
          0.00011353075387887657,
          0.00012322768452577293,
          0.00012040809087920934,
          0.00010890788689721376,
          0.00011048439046135172,
          0.00011524151341291144,
          0.00003587644096114673,
          0.00012221347424201667,
          0.0001119237276725471,
          0.00011614411050686613,
          0.00011848926078528166,
          0.00009493627294432372,
          0.00010840930190170184,
          0.0001100282315746881,
          0.00012182042701169848,
          0.00011620137956924736,
          0.0001150158277596347,
          0.0001133463520091027,
          0.00011514582729432732,
          0.00011386111873434857,
          0.00011040408571716398,
          0.00011602104495977983,
          0.00010871949780266732,
          0.0001176836813101545,
          0.0001199466860271059,
          0.00011932472989428788,
          0.00011051144974771887,
          0.0001034542074194178,
          0.00009043818863574415,
          0.00010086211113957688,
          0.00011342503421474248,
          0.000113490859803278,
          0.00011009587615262717,
          0.0001070400103344582,
          0.00010821437172126025,
          0.00011661396274575964,
          0.00011466882278909907,
          -0.00011934120993828401,
          0.00011294654541416094,
          0.00009138358291238546,
          0.0001898348709801212,
          0.00011108063335996121,
          0.00011863815598189831,
          0.00011500847176648676,
          0.00011575956887099892,
          0.00010837390436790884,
          0.00010063234367407858,
          0.00011958202958339825,
          0.00011904091661563143,
          0.00011153840023325756,
          0.00013470671547111124,
          0.00011915082723135129,
          0.00011586321488721296,
          0.00011337125033605844,
          0.00011209281365154311,
          0.00010630566976033151,
          0.00012002820585621521,
          0.0001055445391102694,
          0.00011370392894605175,
          0.00011269776587141678,
          0.0000992401473922655,
          0.00011304687359370291,
          0.00011159563291585073,
          0.00010987142741214484,
          0.00012185971718281507,
          0.00011856026685563847,
          0.00009058980504050851,
          0.00010806300269905478,
          0.00012460476136766374,
          0.00010913542791968212,
          0.00011670999083435163,
          0.0001006238890113309,
          0.00011423275282140821,
          0.00012370133481454104,
          0.00009113668784266338,
          0.00012278123176656663,
          0.00011099505354650319,
          0.00011655326670734212,
          0.0001253963855560869,
          0.00010704741725930944,
          0.00011753787839552388,
          0.00011057656956836581,
          0.00011325059313094243,
          0.00011728307435987517,
          0.00010632267367327586,
          0.00011601504957070574,
          0.00010703452426241711,
          0.00011442032700870186,
          0.00011332245776429772,
          -0.000027205291189602576,
          0.00010627342271618545,
          0.00012083294132025912,
          0.00011504519352456555,
          0.00010599487723084167,
          0.0001075338150258176,
          0.027580875903367996,
          0.00011905282008228824,
          0.00011531363998074085,
          0.0001207559325848706,
          0.00011882885155500844,
          0.00010984730033669621,
          0.00012326228898018599,
          0.00011604154133237898,
          0.00011224197805859149,
          0.00010508811828913167,
          0.0001485944667365402,
          0.00011126435128971934,
          0.00010011767881223932,
          0.0001173428536276333,
          0.00011757962056435645,
          0.0001248690823558718,
          0.00010147061402676627,
          0.00011333666770951822,
          0.00011342881771270186,
          0.00011911047477042302,
          0.00011530031770234928,
          0.00010845946962945163,
          0.00010727820335887372,
          0.00011658317089313641,
          0.00011166831973241642,
          0.0001125153066823259,
          0.00011892251495737582,
          0.00009878670243779197,
          0.00008137435361277312,
          0.00011878267832798883,
          0.00010733967792475596,
          0.00011033827468054369,
          0.00011486470611998811,
          0.00006686028063995764,
          0.0002048430615104735,
          0.00010691178613342345,
          0.0001083529568859376,
          0.00009696561028249562,
          0.00010895725426962599,
          0.00011347393592586741,
          0.00010674264922272414,
          0.0001200615952257067,
          0.0001074406027328223,
          0.00012057227286277339,
          0.00011118034308310598,
          0.00011451486352598295,
          0.00011158439156133682,
          0.00010688178736018017,
          0.00011380585783626884,
          0.00011658838047878817,
          0.00010829472739715129,
          0.00012162468919996172,
          0.00011058160453103483,
          0.00012432786752469838,
          0.00011189399810973555,
          0.00011606496263993904,
          0.00011801290384028107,
          0.00011443790572229773,
          0.00011840569641208276,
          0.00011763077054638416,
          0.00011337779142195359,
          0.000119607757369522,
          0.00011460367386462167,
          0.00012353599595371634,
          0.00011701785842888057,
          -0.04747142642736435,
          0.00011764703231165186,
          0.0001186870940728113,
          0.00011568582704057917,
          0.00010629063763190061,
          0.00012029318895656615,
          -0.040122099220752716,
          0.00011099899711553007,
          0.00011416531924623996,
          0.0001163912020274438,
          0.00011390040162950754,
          0.00010341246525058523,
          0.00011227206414332613,
          0.00011825325054815039,
          0.001037311740219593,
          0.00012173059076303616,
          0.00011382306547602639,
          0.00011558527330635116,
          0.00012562957999762148,
          0.00010510213178349659,
          0.00009992602281272411,
          0.00011999881826341152,
          0.00010622080299071968,
          0.00010936235776171088,
          0.00014309983816929162,
          0.00011378974886611104,
          0.00011920699034817517,
          0.00012313679326325655,
          0.00011801309301517904,
          0.0001055594184435904,
          0.00011925961007364094,
          0.00011884277046192437,
          0.00011594963143579662,
          0.00011919026292162016,
          0.00011398103379178792,
          0.00009077414142666385,
          0.00011479193199193105,
          0.00011192175588803366,
          0.00011011327296728268,
          0.00011609029024839401,
          0.00011027166328858584,
          0.00009755598148331046,
          0.00011734324652934447,
          0.012876822613179684,
          0.00011537834507180378,
          0.00011400848597986624,
          0.000150922205648385,
          0.00011919078679056838,
          0.00015572152915410697,
          0.00009897392737912014,
          0.000111296700197272,
          -0.00021976449352223426,
          0.00011514974175952375,
          0.00010779777949210256,
          0.00011230801464989781,
          0.00011517841630848125,
          0.00011162744340253994,
          0.00011604884639382362,
          0.00012120743485866114,
          0.00010563146497588605,
          0.00012079810403520241,
          0.00010474317241460085,
          0.00012646881805267185,
          0.000105408595118206,
          0.00011659150186460465,
          0.00010688113979995251,
          0.00009724665142130107,
          0.00011369871936039999,
          0.00011005898704752326,
          0.00011750225530704483,
          0.00010668880713637918,
          0.00011669163359329104,
          0.00010957303311442956,
          0.00010874530562432483,
          0.00012152318231528625,
          0.0001173075579572469,
          0.00011614349205046892,
          0.0001050004138960503,
          0.00012161515041952953,
          0.0001109721779357642,
          0.00011903513222932816,
          0.00011485930008348078,
          0.00011600378638831899,
          0.00010571275925030932,
          0.000102622238046024,
          0.00011022543185390532,
          0.00011828607239294797,
          0.0001064683310687542,
          0.0001168006201623939,
          0.00011139816342620179,
          0.00006664873944828287,
          0.0001194519063574262,
          0.00012060530571034178,
          0.00011105381418019533,
          0.00010816324356710538,
          0.00012002828589174896,
          0.00011742603237507865,
          0.0001180890467367135,
          0.00011682043987093493,
          0.00010876788292080164,
          0.00010985483095282689,
          0.00011225630441913381
         ]
        }
       ],
       "layout": {
        "autosize": false,
        "font": {
         "family": " Courier New ",
         "size": 15
        },
        "height": 1000,
        "legend": {
         "font": {
          "color": "black",
          "family": "Courier New",
          "size": 25
         },
         "x": 1,
         "y": 0.5
        },
        "margin": {
         "b": 0,
         "l": 0,
         "r": 0,
         "t": 0
        },
        "showlegend": true,
        "template": {
         "data": {
          "bar": [
           {
            "error_x": {
             "color": "#2a3f5f"
            },
            "error_y": {
             "color": "#2a3f5f"
            },
            "marker": {
             "line": {
              "color": "#E5ECF6",
              "width": 0.5
             }
            },
            "type": "bar"
           }
          ],
          "barpolar": [
           {
            "marker": {
             "line": {
              "color": "#E5ECF6",
              "width": 0.5
             }
            },
            "type": "barpolar"
           }
          ],
          "carpet": [
           {
            "aaxis": {
             "endlinecolor": "#2a3f5f",
             "gridcolor": "white",
             "linecolor": "white",
             "minorgridcolor": "white",
             "startlinecolor": "#2a3f5f"
            },
            "baxis": {
             "endlinecolor": "#2a3f5f",
             "gridcolor": "white",
             "linecolor": "white",
             "minorgridcolor": "white",
             "startlinecolor": "#2a3f5f"
            },
            "type": "carpet"
           }
          ],
          "choropleth": [
           {
            "colorbar": {
             "outlinewidth": 0,
             "ticks": ""
            },
            "type": "choropleth"
           }
          ],
          "contour": [
           {
            "colorbar": {
             "outlinewidth": 0,
             "ticks": ""
            },
            "colorscale": [
             [
              0,
              "#0d0887"
             ],
             [
              0.1111111111111111,
              "#46039f"
             ],
             [
              0.2222222222222222,
              "#7201a8"
             ],
             [
              0.3333333333333333,
              "#9c179e"
             ],
             [
              0.4444444444444444,
              "#bd3786"
             ],
             [
              0.5555555555555556,
              "#d8576b"
             ],
             [
              0.6666666666666666,
              "#ed7953"
             ],
             [
              0.7777777777777778,
              "#fb9f3a"
             ],
             [
              0.8888888888888888,
              "#fdca26"
             ],
             [
              1,
              "#f0f921"
             ]
            ],
            "type": "contour"
           }
          ],
          "contourcarpet": [
           {
            "colorbar": {
             "outlinewidth": 0,
             "ticks": ""
            },
            "type": "contourcarpet"
           }
          ],
          "heatmap": [
           {
            "colorbar": {
             "outlinewidth": 0,
             "ticks": ""
            },
            "colorscale": [
             [
              0,
              "#0d0887"
             ],
             [
              0.1111111111111111,
              "#46039f"
             ],
             [
              0.2222222222222222,
              "#7201a8"
             ],
             [
              0.3333333333333333,
              "#9c179e"
             ],
             [
              0.4444444444444444,
              "#bd3786"
             ],
             [
              0.5555555555555556,
              "#d8576b"
             ],
             [
              0.6666666666666666,
              "#ed7953"
             ],
             [
              0.7777777777777778,
              "#fb9f3a"
             ],
             [
              0.8888888888888888,
              "#fdca26"
             ],
             [
              1,
              "#f0f921"
             ]
            ],
            "type": "heatmap"
           }
          ],
          "heatmapgl": [
           {
            "colorbar": {
             "outlinewidth": 0,
             "ticks": ""
            },
            "colorscale": [
             [
              0,
              "#0d0887"
             ],
             [
              0.1111111111111111,
              "#46039f"
             ],
             [
              0.2222222222222222,
              "#7201a8"
             ],
             [
              0.3333333333333333,
              "#9c179e"
             ],
             [
              0.4444444444444444,
              "#bd3786"
             ],
             [
              0.5555555555555556,
              "#d8576b"
             ],
             [
              0.6666666666666666,
              "#ed7953"
             ],
             [
              0.7777777777777778,
              "#fb9f3a"
             ],
             [
              0.8888888888888888,
              "#fdca26"
             ],
             [
              1,
              "#f0f921"
             ]
            ],
            "type": "heatmapgl"
           }
          ],
          "histogram": [
           {
            "marker": {
             "colorbar": {
              "outlinewidth": 0,
              "ticks": ""
             }
            },
            "type": "histogram"
           }
          ],
          "histogram2d": [
           {
            "colorbar": {
             "outlinewidth": 0,
             "ticks": ""
            },
            "colorscale": [
             [
              0,
              "#0d0887"
             ],
             [
              0.1111111111111111,
              "#46039f"
             ],
             [
              0.2222222222222222,
              "#7201a8"
             ],
             [
              0.3333333333333333,
              "#9c179e"
             ],
             [
              0.4444444444444444,
              "#bd3786"
             ],
             [
              0.5555555555555556,
              "#d8576b"
             ],
             [
              0.6666666666666666,
              "#ed7953"
             ],
             [
              0.7777777777777778,
              "#fb9f3a"
             ],
             [
              0.8888888888888888,
              "#fdca26"
             ],
             [
              1,
              "#f0f921"
             ]
            ],
            "type": "histogram2d"
           }
          ],
          "histogram2dcontour": [
           {
            "colorbar": {
             "outlinewidth": 0,
             "ticks": ""
            },
            "colorscale": [
             [
              0,
              "#0d0887"
             ],
             [
              0.1111111111111111,
              "#46039f"
             ],
             [
              0.2222222222222222,
              "#7201a8"
             ],
             [
              0.3333333333333333,
              "#9c179e"
             ],
             [
              0.4444444444444444,
              "#bd3786"
             ],
             [
              0.5555555555555556,
              "#d8576b"
             ],
             [
              0.6666666666666666,
              "#ed7953"
             ],
             [
              0.7777777777777778,
              "#fb9f3a"
             ],
             [
              0.8888888888888888,
              "#fdca26"
             ],
             [
              1,
              "#f0f921"
             ]
            ],
            "type": "histogram2dcontour"
           }
          ],
          "mesh3d": [
           {
            "colorbar": {
             "outlinewidth": 0,
             "ticks": ""
            },
            "type": "mesh3d"
           }
          ],
          "parcoords": [
           {
            "line": {
             "colorbar": {
              "outlinewidth": 0,
              "ticks": ""
             }
            },
            "type": "parcoords"
           }
          ],
          "pie": [
           {
            "automargin": true,
            "type": "pie"
           }
          ],
          "scatter": [
           {
            "marker": {
             "colorbar": {
              "outlinewidth": 0,
              "ticks": ""
             }
            },
            "type": "scatter"
           }
          ],
          "scatter3d": [
           {
            "line": {
             "colorbar": {
              "outlinewidth": 0,
              "ticks": ""
             }
            },
            "marker": {
             "colorbar": {
              "outlinewidth": 0,
              "ticks": ""
             }
            },
            "type": "scatter3d"
           }
          ],
          "scattercarpet": [
           {
            "marker": {
             "colorbar": {
              "outlinewidth": 0,
              "ticks": ""
             }
            },
            "type": "scattercarpet"
           }
          ],
          "scattergeo": [
           {
            "marker": {
             "colorbar": {
              "outlinewidth": 0,
              "ticks": ""
             }
            },
            "type": "scattergeo"
           }
          ],
          "scattergl": [
           {
            "marker": {
             "colorbar": {
              "outlinewidth": 0,
              "ticks": ""
             }
            },
            "type": "scattergl"
           }
          ],
          "scattermapbox": [
           {
            "marker": {
             "colorbar": {
              "outlinewidth": 0,
              "ticks": ""
             }
            },
            "type": "scattermapbox"
           }
          ],
          "scatterpolar": [
           {
            "marker": {
             "colorbar": {
              "outlinewidth": 0,
              "ticks": ""
             }
            },
            "type": "scatterpolar"
           }
          ],
          "scatterpolargl": [
           {
            "marker": {
             "colorbar": {
              "outlinewidth": 0,
              "ticks": ""
             }
            },
            "type": "scatterpolargl"
           }
          ],
          "scatterternary": [
           {
            "marker": {
             "colorbar": {
              "outlinewidth": 0,
              "ticks": ""
             }
            },
            "type": "scatterternary"
           }
          ],
          "surface": [
           {
            "colorbar": {
             "outlinewidth": 0,
             "ticks": ""
            },
            "colorscale": [
             [
              0,
              "#0d0887"
             ],
             [
              0.1111111111111111,
              "#46039f"
             ],
             [
              0.2222222222222222,
              "#7201a8"
             ],
             [
              0.3333333333333333,
              "#9c179e"
             ],
             [
              0.4444444444444444,
              "#bd3786"
             ],
             [
              0.5555555555555556,
              "#d8576b"
             ],
             [
              0.6666666666666666,
              "#ed7953"
             ],
             [
              0.7777777777777778,
              "#fb9f3a"
             ],
             [
              0.8888888888888888,
              "#fdca26"
             ],
             [
              1,
              "#f0f921"
             ]
            ],
            "type": "surface"
           }
          ],
          "table": [
           {
            "cells": {
             "fill": {
              "color": "#EBF0F8"
             },
             "line": {
              "color": "white"
             }
            },
            "header": {
             "fill": {
              "color": "#C8D4E3"
             },
             "line": {
              "color": "white"
             }
            },
            "type": "table"
           }
          ]
         },
         "layout": {
          "annotationdefaults": {
           "arrowcolor": "#2a3f5f",
           "arrowhead": 0,
           "arrowwidth": 1
          },
          "autotypenumbers": "strict",
          "coloraxis": {
           "colorbar": {
            "outlinewidth": 0,
            "ticks": ""
           }
          },
          "colorscale": {
           "diverging": [
            [
             0,
             "#8e0152"
            ],
            [
             0.1,
             "#c51b7d"
            ],
            [
             0.2,
             "#de77ae"
            ],
            [
             0.3,
             "#f1b6da"
            ],
            [
             0.4,
             "#fde0ef"
            ],
            [
             0.5,
             "#f7f7f7"
            ],
            [
             0.6,
             "#e6f5d0"
            ],
            [
             0.7,
             "#b8e186"
            ],
            [
             0.8,
             "#7fbc41"
            ],
            [
             0.9,
             "#4d9221"
            ],
            [
             1,
             "#276419"
            ]
           ],
           "sequential": [
            [
             0,
             "#0d0887"
            ],
            [
             0.1111111111111111,
             "#46039f"
            ],
            [
             0.2222222222222222,
             "#7201a8"
            ],
            [
             0.3333333333333333,
             "#9c179e"
            ],
            [
             0.4444444444444444,
             "#bd3786"
            ],
            [
             0.5555555555555556,
             "#d8576b"
            ],
            [
             0.6666666666666666,
             "#ed7953"
            ],
            [
             0.7777777777777778,
             "#fb9f3a"
            ],
            [
             0.8888888888888888,
             "#fdca26"
            ],
            [
             1,
             "#f0f921"
            ]
           ],
           "sequentialminus": [
            [
             0,
             "#0d0887"
            ],
            [
             0.1111111111111111,
             "#46039f"
            ],
            [
             0.2222222222222222,
             "#7201a8"
            ],
            [
             0.3333333333333333,
             "#9c179e"
            ],
            [
             0.4444444444444444,
             "#bd3786"
            ],
            [
             0.5555555555555556,
             "#d8576b"
            ],
            [
             0.6666666666666666,
             "#ed7953"
            ],
            [
             0.7777777777777778,
             "#fb9f3a"
            ],
            [
             0.8888888888888888,
             "#fdca26"
            ],
            [
             1,
             "#f0f921"
            ]
           ]
          },
          "colorway": [
           "#636efa",
           "#EF553B",
           "#00cc96",
           "#ab63fa",
           "#FFA15A",
           "#19d3f3",
           "#FF6692",
           "#B6E880",
           "#FF97FF",
           "#FECB52"
          ],
          "font": {
           "color": "#2a3f5f"
          },
          "geo": {
           "bgcolor": "white",
           "lakecolor": "white",
           "landcolor": "#E5ECF6",
           "showlakes": true,
           "showland": true,
           "subunitcolor": "white"
          },
          "hoverlabel": {
           "align": "left"
          },
          "hovermode": "closest",
          "mapbox": {
           "style": "light"
          },
          "paper_bgcolor": "white",
          "plot_bgcolor": "#E5ECF6",
          "polar": {
           "angularaxis": {
            "gridcolor": "white",
            "linecolor": "white",
            "ticks": ""
           },
           "bgcolor": "#E5ECF6",
           "radialaxis": {
            "gridcolor": "white",
            "linecolor": "white",
            "ticks": ""
           }
          },
          "scene": {
           "xaxis": {
            "backgroundcolor": "#E5ECF6",
            "gridcolor": "white",
            "gridwidth": 2,
            "linecolor": "white",
            "showbackground": true,
            "ticks": "",
            "zerolinecolor": "white"
           },
           "yaxis": {
            "backgroundcolor": "#E5ECF6",
            "gridcolor": "white",
            "gridwidth": 2,
            "linecolor": "white",
            "showbackground": true,
            "ticks": "",
            "zerolinecolor": "white"
           },
           "zaxis": {
            "backgroundcolor": "#E5ECF6",
            "gridcolor": "white",
            "gridwidth": 2,
            "linecolor": "white",
            "showbackground": true,
            "ticks": "",
            "zerolinecolor": "white"
           }
          },
          "shapedefaults": {
           "line": {
            "color": "#2a3f5f"
           }
          },
          "ternary": {
           "aaxis": {
            "gridcolor": "white",
            "linecolor": "white",
            "ticks": ""
           },
           "baxis": {
            "gridcolor": "white",
            "linecolor": "white",
            "ticks": ""
           },
           "bgcolor": "#E5ECF6",
           "caxis": {
            "gridcolor": "white",
            "linecolor": "white",
            "ticks": ""
           }
          },
          "title": {
           "x": 0.05
          },
          "xaxis": {
           "automargin": true,
           "gridcolor": "white",
           "linecolor": "white",
           "ticks": "",
           "title": {
            "standoff": 15
           },
           "zerolinecolor": "white",
           "zerolinewidth": 2
          },
          "yaxis": {
           "automargin": true,
           "gridcolor": "white",
           "linecolor": "white",
           "ticks": "",
           "title": {
            "standoff": 15
           },
           "zerolinecolor": "white",
           "zerolinewidth": 2
          }
         }
        },
        "width": 1000
       }
      },
      "text/html": "<div>                            <div id=\"535dcf49-4493-4261-881a-4370dffab335\" class=\"plotly-graph-div\" style=\"height:1000px; width:1000px;\"></div>            <script type=\"text/javascript\">                require([\"plotly\"], function(Plotly) {                    window.PLOTLYENV=window.PLOTLYENV || {};                                    if (document.getElementById(\"535dcf49-4493-4261-881a-4370dffab335\")) {                    Plotly.newPlot(                        \"535dcf49-4493-4261-881a-4370dffab335\",                        [{\"marker\": {\"color\": 2, \"opacity\": 0.8, \"size\": 10}, \"mode\": \"markers+text\", \"name\": \"name0\", \"text\": [\"0\", \"1\", \"2\", \"3\", \"4\"], \"textfont\": {\"size\": 20}, \"textposition\": \"top center\", \"type\": \"scatter\", \"x\": [6.791064515709877e-05, 7.932740118121728e-05, 7.727741467533633e-05, 7.099303184077144e-05, 7.135049236239865e-05], \"y\": [0.00011110333434771746, 0.00010696781828301027, 0.00012258693459443748, 0.00010814715642482042, 0.00011504918802529573]}, {\"marker\": {\"color\": 2, \"opacity\": 0.8, \"size\": 10}, \"mode\": \"markers+text\", \"name\": \"name1\", \"text\": [\"5\", \"6\", \"7\", \"8\", \"9\"], \"textfont\": {\"size\": 20}, \"textposition\": \"top center\", \"type\": \"scatter\", \"x\": [7.384971831925213e-05, 8.789105049800128e-05, 7.725760224275291e-05, 7.750298391329125e-05, 7.73020728956908e-05], \"y\": [0.00010647338058333844, 0.00010364463378209621, 0.00010743175516836345, 0.00011153183731948957, 9.727763244882226e-05]}, {\"marker\": {\"color\": 2, \"opacity\": 0.8, \"size\": 10}, \"mode\": \"markers+text\", \"name\": \"name2\", \"text\": [\"10\", \"11\", \"12\", \"13\", \"14\"], \"textfont\": {\"size\": 20}, \"textposition\": \"top center\", \"type\": \"scatter\", \"x\": [5.4148476920090616e-05, 7.90286430856213e-05, 6.901799497427419e-05, 8.510089537594467e-05, 7.640675903530791e-05], \"y\": [0.00010518146154936403, 0.00011137885303469375, 0.00011874363553943112, 0.00017468024452682585, 0.00011431521124904975]}, {\"marker\": {\"color\": 2, \"opacity\": 0.8, \"size\": 10}, \"mode\": \"markers+text\", \"name\": \"name3\", \"text\": [\"15\", \"16\", \"17\", \"18\", \"19\"], \"textfont\": {\"size\": 20}, \"textposition\": \"top center\", \"type\": \"scatter\", \"x\": [7.625205762451515e-05, 8.301858906634152e-05, 0.00015547372458968312, 7.591953180963174e-05, 6.065647176001221e-05], \"y\": [0.000109591317595914, 0.00013024093641433865, 5.894588684896007e-05, 0.00011226738570258021, 0.0001416677114320919]}, {\"marker\": {\"color\": 2, \"opacity\": 0.8, \"size\": 10}, \"mode\": \"markers+text\", \"name\": \"name4\", \"text\": [\"20\", \"21\", \"22\", \"23\", \"24\"], \"textfont\": {\"size\": 20}, \"textposition\": \"top center\", \"type\": \"scatter\", \"x\": [6.584232323803008e-05, 7.80837144702673e-05, 8.779126073932275e-05, 7.5705953349825e-05, 7.573342008981854e-05], \"y\": [0.00010825195931829512, 0.00011608160275500268, 0.00011465836723800749, 0.00011063920828746632, 0.00011583257582969964]}, {\"marker\": {\"color\": 2, \"opacity\": 0.8, \"size\": 10}, \"mode\": \"markers+text\", \"name\": \"name5\", \"text\": [\"25\", \"26\", \"27\", \"28\", \"29\"], \"textfont\": {\"size\": 20}, \"textposition\": \"top center\", \"type\": \"scatter\", \"x\": [8.139933925122023e-05, 7.722103327978402e-05, 7.490845018764958e-05, 6.408068293239921e-05, 6.923270120751113e-05], \"y\": [0.00011466816067695618, 0.00010790382657432929, 0.00011193088721483946, 0.0001138711377279833, 0.00011744249786715955]}, {\"marker\": {\"color\": 2, \"opacity\": 0.8, \"size\": 10}, \"mode\": \"markers+text\", \"name\": \"name6\", \"text\": [\"30\", \"31\", \"32\", \"33\", \"34\"], \"textfont\": {\"size\": 20}, \"textposition\": \"top center\", \"type\": \"scatter\", \"x\": [8.282721682917327e-05, 8.801779767964035e-05, 7.794060365995392e-05, 7.380837632808834e-05, 9.072190005099401e-05], \"y\": [0.00011176030966453254, 0.00010815861605806276, 0.00011836014891741797, 0.00011753033322747797, 0.00010630054021021351]}, {\"marker\": {\"color\": 2, \"opacity\": 0.8, \"size\": 10}, \"mode\": \"markers+text\", \"name\": \"name7\", \"text\": [\"35\", \"36\", \"37\", \"38\", \"39\"], \"textfont\": {\"size\": 20}, \"textposition\": \"top center\", \"type\": \"scatter\", \"x\": [8.284777140943334e-05, 7.083961099851876e-05, 8.089094626484439e-05, 8.563303708797321e-05, 7.892848225310445e-05], \"y\": [0.00012033190432703122, 0.00012347825395409018, 0.00011894396448042244, 0.00011242191249039024, 0.0001261608413187787]}, {\"marker\": {\"color\": 2, \"opacity\": 0.8, \"size\": 10}, \"mode\": \"markers+text\", \"name\": \"name8\", \"text\": [\"40\", \"41\", \"42\", \"43\", \"44\"], \"textfont\": {\"size\": 20}, \"textposition\": \"top center\", \"type\": \"scatter\", \"x\": [8.104185690172017e-05, 8.75262267072685e-05, 6.895227124914527e-05, 7.254385127453133e-05, 7.802714389981702e-05], \"y\": [0.00011529031326062977, 0.00010991175076924264, 0.00010097870108438656, 0.00011719117901520804, 0.000112870657176245]}, {\"marker\": {\"color\": 2, \"opacity\": 0.8, \"size\": 10}, \"mode\": \"markers+text\", \"name\": \"name9\", \"text\": [\"45\", \"46\", \"47\", \"48\", \"49\"], \"textfont\": {\"size\": 20}, \"textposition\": \"top center\", \"type\": \"scatter\", \"x\": [7.674107473576441e-05, 7.542302046203986e-05, 9.63444181252271e-05, 7.657142850803211e-05, 8.603092283010483e-05], \"y\": [0.00010771176312118769, 0.00011141579307150096, 6.898943684063852e-05, 0.00012221767974551767, 0.0001235741947311908]}, {\"marker\": {\"color\": \"black\", \"opacity\": 1, \"size\": 10}, \"mode\": \"markers+text\", \"name\": \"input words\", \"text\": [\"50\", \"51\", \"52\", \"53\", \"54\", \"55\", \"56\", \"57\", \"58\", \"59\", \"60\", \"61\", \"62\", \"63\", \"64\", \"65\", \"66\", \"67\", \"68\", \"69\", \"70\", \"71\", \"72\", \"73\", \"74\", \"75\", \"76\", \"77\", \"78\", \"79\", \"80\", \"81\", \"82\", \"83\", \"84\", \"85\", \"86\", \"87\", \"88\", \"89\", \"90\", \"91\", \"92\", \"93\", \"94\", \"95\", \"96\", \"97\", \"98\", \"99\", \"100\", \"101\", \"102\", \"103\", \"104\", \"105\", \"106\", \"107\", \"108\", \"109\", \"110\", \"111\", \"112\", \"113\", \"114\", \"115\", \"116\", \"117\", \"118\", \"119\", \"120\", \"121\", \"122\", \"123\", \"124\", \"125\", \"126\", \"127\", \"128\", \"129\", \"130\", \"131\", \"132\", \"133\", \"134\", \"135\", \"136\", \"137\", \"138\", \"139\", \"140\", \"141\", \"142\", \"143\", \"144\", \"145\", \"146\", \"147\", \"148\", \"149\", \"150\", \"151\", \"152\", \"153\", \"154\", \"155\", \"156\", \"157\", \"158\", \"159\", \"160\", \"161\", \"162\", \"163\", \"164\", \"165\", \"166\", \"167\", \"168\", \"169\", \"170\", \"171\", \"172\", \"173\", \"174\", \"175\", \"176\", \"177\", \"178\", \"179\", \"180\", \"181\", \"182\", \"183\", \"184\", \"185\", \"186\", \"187\", \"188\", \"189\", \"190\", \"191\", \"192\", \"193\", \"194\", \"195\", \"196\", \"197\", \"198\", \"199\", \"200\", \"201\", \"202\", \"203\", \"204\", \"205\", \"206\", \"207\", \"208\", \"209\", \"210\", \"211\", \"212\", \"213\", \"214\", \"215\", \"216\", \"217\", \"218\", \"219\", \"220\", \"221\", \"222\", \"223\", \"224\", \"225\", \"226\", \"227\", \"228\", \"229\", \"230\", \"231\", \"232\", \"233\", \"234\", \"235\", \"236\", \"237\", \"238\", \"239\", \"240\", \"241\", \"242\", \"243\", \"244\", \"245\", \"246\", \"247\", \"248\", \"249\", \"250\", \"251\", \"252\", \"253\", \"254\", \"255\", \"256\", \"257\", \"258\", \"259\", \"260\", \"261\", \"262\", \"263\", \"264\", \"265\", \"266\", \"267\", \"268\", \"269\", \"270\", \"271\", \"272\", \"273\", \"274\", \"275\", \"276\", \"277\", \"278\", \"279\", \"280\", \"281\", \"282\", \"283\", \"284\", \"285\", \"286\", \"287\", \"288\", \"289\", \"290\", \"291\", \"292\", \"293\", \"294\", \"295\", \"296\", \"297\", \"298\", \"299\"], \"textfont\": {\"size\": 20}, \"textposition\": \"top center\", \"type\": \"scatter\", \"x\": [7.599037780892104e-05, -8.949675248004496e-05, 7.795156125212088e-05, 8.088488539215177e-05, 6.79832519381307e-05, 6.8006178480573e-05, 7.971531886141747e-05, 6.404596206266433e-05, 7.2567279858049e-05, 7.735478720860556e-05, 7.867342355893925e-05, 7.838064630050212e-05, 8.265518408734351e-05, 8.075431105680764e-05, 7.596604700665921e-05, 7.73063802625984e-05, 7.758371066302061e-05, 8.698822784936056e-05, 6.610202399315313e-05, 7.633765926584601e-05, 7.229181937873363e-05, 7.948072016006336e-05, 7.838133751647547e-05, 7.072572770994157e-05, 7.387206278508529e-05, 8.605282346252352e-05, 8.218058064812794e-05, 7.056874892441556e-05, 7.262695726240054e-05, 8.283744682557881e-05, 7.57628949941136e-05, 7.395388092845678e-05, 7.268660556292161e-05, 8.651020471006632e-05, 7.733560778433457e-05, 8.030467142816633e-05, 7.629797619301826e-05, 7.249787449836731e-05, 8.045112190302461e-05, 8.012132457224652e-05, 8.885642455425113e-05, 8.947285823523998e-05, 5.612344102701172e-05, -0.03134327754378319, 8.267417433671653e-05, 7.848635141272098e-05, 8.211621752707288e-05, 7.095840555848554e-05, 6.986798689467832e-05, 0.00010284753079758957, 8.232185791712254e-05, 7.382899639196694e-05, 7.559242658317089e-05, 2.1257241314742714e-05, -3.296065915492363e-05, 6.706624844809994e-05, 6.954347190912813e-05, 8.534204971510917e-05, 6.644357927143574e-05, 7.575255585834384e-05, 7.800785533618182e-05, 7.78287067078054e-05, 7.543942774645984e-05, 7.004642975516617e-05, 7.88876714068465e-05, 8.375754987355322e-05, 8.042545960051939e-05, 7.860066398279741e-05, 0.00011545125744305551, 7.42558331694454e-05, 7.452734280377626e-05, 6.714220944559202e-05, 0.00011366776016075164, 7.853896386222914e-05, 7.683240983169526e-05, 7.716139953117818e-05, 7.397351146209985e-05, 9.431638318346813e-05, 7.410555554088205e-05, 7.591611938551068e-05, 9.806969319470227e-05, 0.00038611370837315917, 8.087302558124065e-05, 7.751478551654145e-05, 7.782551983837038e-05, 7.299816206796095e-05, -0.0003410425561014563, 7.889288099249825e-05, 7.351300882874057e-05, 8.282745693577453e-05, 6.978668534429744e-05, 7.302575249923393e-05, 7.240341801661998e-05, 8.104785956675187e-05, 8.882088877726346e-05, 7.125388219719753e-05, 6.129879329819232e-05, 7.48112506698817e-05, 7.720074063399807e-05, 7.51348925405182e-05, 7.82763963798061e-05, 8.023862756090239e-05, 7.560338417533785e-05, 8.573992818128318e-05, 7.451251440215856e-05, 7.66040466260165e-05, 7.384628406725824e-05, 8.058491221163422e-05, 8.796473412076011e-05, 7.480933709302917e-05, 3.8651254726573825e-05, 7.666583405807614e-05, 7.917409675428644e-05, 7.115040352800861e-05, 7.252606883412227e-05, 0.02650231495499611, 6.574533472303301e-05, 6.736403156537563e-05, 8.316819730680436e-05, 7.207762246252969e-05, 7.021581404842436e-05, 9.140920883510262e-05, 8.144131425069645e-05, 6.860026041977108e-05, 7.37837835913524e-05, 6.657224002992734e-05, 7.565430860267952e-05, 7.444348011631519e-05, 7.933724555186927e-05, 7.302249287022278e-05, 7.423892384395003e-05, 7.68306344980374e-05, 7.212303171399981e-05, 7.774935511406511e-05, 7.934837776701897e-05, 7.629446918144822e-05, 6.891825614729896e-05, 7.783061300870031e-05, 7.967626152094454e-05, 7.255154196172953e-05, 9.278582001570612e-05, 8.551026985514909e-05, 7.559226651210338e-05, 8.073122444329783e-05, 7.638530223630369e-05, 7.239925616886467e-05, 8.069069008342922e-05, 7.317880226764828e-05, 7.496609032386914e-05, 6.97080758982338e-05, 7.744936738163233e-05, 6.0254624258959666e-05, 8.69604991748929e-05, 7.542820821981877e-05, 7.44289718568325e-05, 7.97963875811547e-05, 5.998626147629693e-05, 8.016110950848088e-05, 7.627448940183967e-05, 7.78462053858675e-05, 5.721812340198085e-05, 7.665264274692163e-05, 9.095609857467934e-05, 7.650336192455143e-05, 6.780157127650455e-05, 5.0236609240528196e-05, 8.937874372350052e-05, 7.935055327834561e-05, 7.741521403659135e-05, 6.459157157223672e-05, 7.855481817387044e-05, 7.055139576550573e-05, 8.648920629639179e-05, 5.0043909141095355e-05, 8.174146933015436e-05, 8.15094681456685e-05, 7.866294617997482e-05, 0.0004218337999191135, 7.718720007687807e-05, 7.349075167439878e-05, 8.857296779751778e-05, 7.271701178979129e-05, 7.946561527205631e-05, 7.359824667219073e-05, 8.361507207155228e-05, 8.915939542930573e-05, 6.414800009224564e-05, 0.00017937266966328025, 7.30687243049033e-05, 7.11536267772317e-05, 0.0326082743704319, 8.395153417950496e-05, 7.265958265634254e-05, 7.478768384316936e-05, 8.309303666464984e-05, 0.0001351959799649194, 8.042006811592728e-05, 7.09068335709162e-05, 6.737301009707153e-05, 9.179988410323858e-05, 8.184323814930394e-05, 7.348565122811124e-05, 7.977479981491342e-05, 7.843704952392727e-05, 7.930505671538413e-05, 7.739643478998914e-05, 7.23803968867287e-05, 8.533053915016353e-05, 7.100795482983813e-05, 7.441355410264805e-05, 7.259596895892173e-05, 8.207752398448065e-05, 7.685855962336063e-05, 7.145319978008047e-05, 7.692095823585987e-05, 7.879027543822303e-05, 9.935045090969652e-05, 8.591016376158223e-05, 7.400652975775301e-05, 7.993144390638918e-05, 6.876039697090164e-05, 7.676809764234349e-05, 7.407214434351772e-05, 7.748805364826694e-05, 0.044433027505874634, 7.068517879815772e-05, 7.595243368996307e-05, 7.269498019013554e-05, 7.924962847027928e-05, 1.6055590094765648e-05, 6.609977572225034e-05, 7.506090332753956e-05, 8.406724373344332e-05, 7.39412716939114e-05, 7.663082215003669e-05, 6.971627590246499e-05, 0.00011134895612485707, 7.617032679263502e-05, 7.80369300628081e-05, 7.687431934755296e-05, 7.835122960386798e-05, 7.931449363240972e-05, 8.048870950005949e-05, 9.37581789912656e-05, 7.20960451872088e-05, 7.680863927816972e-05, 2.316972313565202e-05, 8.694242569617927e-05, 7.99807530711405e-05, 8.067999442573637e-05, 8.143619197653607e-05, 8.372193406103179e-05, -0.05571378022432327, 7.073771121213213e-05, 7.688241748837754e-05, 7.460114284185693e-05, 7.443573122145608e-05, 8.55000180308707e-05, 7.090696453815326e-05, 7.27824226487428e-05, 0.00437286589294672, 7.671148341614753e-05, 8.695056021679193e-05, 7.682260911678895e-05, 8.825804980006069e-05, 0.00020804467203561217, 9.089295781450346e-05, 7.061273936415091e-05, 8.411363523919135e-05, 7.45864599593915e-05, 7.781216845614836e-05, 8.11410864116624e-05, 8.031130710151047e-05, 0.006954557728022337, 7.811011892044917e-05, 7.308101339731365e-05, 7.174340134952217e-05, 6.94458867656067e-05, 7.091287261573598e-05, 7.326169725274667e-05, 7.467355317203328e-05, 7.325399201363325e-05, 8.007654832908884e-05, 7.741371518932283e-05, 7.993577310116962e-05, 5.9206871810602024e-05, 7.858515891712159e-05, 7.375276618404314e-05, 8.038865053094923e-05, 8.008724398678169e-05, 7.246415771078318e-05, 5.895446156500839e-05, 6.592175486730412e-05, 7.4974843300879e-05, 9.626963583286852e-05, 7.467815885320306e-05, 7.566103158751503e-05, 6.175510497996584e-05, 8.190686639863998e-05, 6.859579298179597e-05, 7.129238656489179e-05, 5.92175820202101e-05, 7.058946357574314e-05, 7.213811477413401e-05, 6.936975114513189e-05, 8.671053365105763e-05, 5.8222300140187144e-05, 7.623745477758348e-05, 8.027264993870631e-05, 7.633772474946454e-05, 7.211093907244503e-05, 7.747080962872133e-05, 8.057126979110762e-05, 7.746049232082441e-05, 7.721316796960309e-05, 8.7537664512638e-05, 8.164922473952174e-05, 8.110037015285343e-05, 6.561980990227312e-05, 7.138768705772236e-05, 8.242700278060511e-05, 6.686743290629238e-05, -1.1305597581667826e-05, 8.48272829898633e-05, 7.475793245248497e-05, 7.508198905270547e-05, 7.391740655293688e-05, 8.043601701501757e-05, 9.896649135043845e-05, 6.685839616693556e-05, 7.05109050613828e-05, 7.46589939808473e-05, 7.224439468700439e-05, 6.863624730613083e-05, 7.57957313908264e-05, 8.024933049455285e-05, 8.922822598833591e-05, 7.789981464156881e-05, 7.589597953483462e-05, 8.296069427160546e-05, 8.554407395422459e-05, 7.284557068487629e-05, 6.990546535234898e-05, 6.855971150798723e-05, 8.353683369932696e-05, 8.298308966914192e-05, 8.087723836069927e-05, 6.582360219908878e-05, 7.609963358845562e-05, 8.680960308993235e-05, 7.018609903752804e-05, 7.685471064178273e-05, 7.508380804210901e-05, 9.511761163594201e-05, 7.21074829925783e-05, 7.874244329286739e-05, 7.42585034458898e-05, 6.79416480124928e-05, 6.960115570109338e-05, 7.779677980579436e-05, 6.47051929263398e-05, 8.133979281410575e-05, 7.579279190395027e-05, 7.180350803537294e-05, 6.796584784751758e-05, 0.012763834558427334, 7.201336120488122e-05, 7.843472121749073e-05, 0.00010344188194721937, 6.799041148042306e-05, 7.850721158320084e-05, 7.02704128343612e-05, 7.553004252258688e-05, 7.21170799806714e-05, 7.73982610553503e-05, 7.664373697480187e-05, 7.983580871950835e-05, 7.915639434941113e-05, -0.00023147524916566908, 9.599555050954223e-05, 7.041176286293194e-05, 7.456373714376241e-05, 6.665111141046509e-05, 6.565178773598745e-05, 8.170586806954816e-05, 6.954829586902633e-05, 8.742525096749887e-05, 8.01367568783462e-05, 6.859461427666247e-05, 8.01338319433853e-05, 7.523658132413402e-05, 7.858963363105431e-05, 7.678705151192844e-05, 7.598476076964289e-05, 2.59900298260618e-05, 6.469414074672386e-05, 7.6223150244914e-05, 7.703841401962563e-05, 7.063944212859496e-05, 8.285454532597214e-05, 7.507605914724991e-05, 7.657420792384073e-05, 7.62156123528257e-05, 7.432640268234536e-05, 7.536457997048274e-05, 3.402761649340391e-05, 7.377374276984483e-05, 7.979481597431004e-05, 7.38763774279505e-05, 8.380127837881446e-05, 7.986032869666815e-05, 7.751068915240467e-05, 2.995417617057683e-06, 6.79584700264968e-05, 4.916573379887268e-05, 6.180191121529788e-05, 7.594194175908342e-05, 8.499590330757201e-05, 9.982714254874736e-05, 7.999805529834703e-05, 7.789338997099549e-05, 7.197247032308951e-05, 8.014601189643145e-05, 6.488233339041471e-05, 7.185310096247122e-05, 8.276473090518266e-05, 7.755884143989533e-05, 7.885497325332835e-05, 6.81662349961698e-05, 7.50174731365405e-05, 7.713323429925367e-05, 7.15697678970173e-05, 7.995456689968705e-05, 7.363231270574033e-05, 7.84011062933132e-05, 7.492845907108858e-05, 7.572438335046172e-05, 7.776459824526682e-05, 8.704607171239331e-05, 7.290474604815245e-05, 7.447206735378131e-05, 7.557797653134912e-05, 8.890056051313877e-05, 4.094313771929592e-05, 7.476680912077427e-05, 7.319868018385023e-05, 7.896750321378931e-05, 8.200130832847208e-05, 7.687857578275725e-05, 7.53287022234872e-05, 6.832517101429403e-05, 9.934409172274172e-05, 8.495084330206737e-05, -2.303185647178907e-05, 7.931297295726836e-05, 7.500901847379282e-05, 7.481081411242485e-05, 7.266532338690013e-05, 6.748030136805028e-05, 0.00017719846800900996, 7.37067312002182e-05, 8.917929517338052e-05, 7.701456343056634e-05, 6.861538713565096e-05, 7.142016693251207e-05, 7.955831824801862e-05, 0.00014569533232133836, 7.307468331418931e-05, 7.499328057747334e-05, 9.32398033910431e-05, 6.890352960908785e-05, 8.146053733071312e-05, 7.255138189066201e-05, 6.846466567367315e-05, 6.568160461029038e-05, 7.708434714004397e-05, 7.25496793165803e-05, 7.401357288472354e-05, 7.470204582205042e-05, 7.79646506998688e-05, 7.633075438207015e-05, 9.274654439650476e-05, 8.250580867752433e-05, 8.001719106687233e-05, 7.131962047424167e-05, 7.386554352706298e-05, 7.90290578152053e-05, 8.062533015618101e-05, 8.617246930953115e-05, 8.17515974631533e-05, 6.449766078731045e-05, 0.016977136954665184, -0.012783786281943321, 8.030693425098434e-05, 7.126887794584036e-05, 8.800685463938862e-05, 8.63666573422961e-05, 7.999822264537215e-05, 7.389582606265321e-05, 7.102208473952487e-05, 5.663817501044832e-05, 6.96767820045352e-05, 7.939176430227235e-05, 7.044114317977801e-05, 6.245636905077845e-05, 9.64379942161031e-05, 6.947494694031775e-05, 7.115232438081875e-05, 7.612910849275067e-05, 7.078514317981899e-05, 6.433861562982202e-05, 7.858072058297694e-05, 6.535572902066633e-05, 7.257928518811241e-05, 7.805218046996742e-05, 8.093324140645564e-05, 7.908954285085201e-05, 8.23476366349496e-05, 7.845587242627516e-05, 7.270985224749893e-05, 8.426038402831182e-05, 7.349078805418685e-05, 7.329398795263842e-05, 6.732592009939253e-05, 7.610630564158782e-05, 6.863327871542424e-05, 8.50210853968747e-05, 9.179360495181754e-05, 7.266111060744151e-05, 7.054233719827607e-05, 7.427980017382652e-05, 7.035117596387863e-05, 8.363917731912807e-05, 7.523885869886726e-05, 7.238830585265532e-05, 8.179646829375997e-05, 0.00021949544316157699, 7.097553316270933e-05, 7.501491199946031e-05, 0.0001166951478808187, 7.270254718605429e-05, 7.533441385021433e-05, 7.041110075078905e-05, 6.518383452203125e-05, 7.759682921459898e-05, 7.837639714125544e-05, 7.5960808317177e-05, 7.441479829140007e-05, 7.140496745705605e-05, 8.670496754348278e-05, 7.715145329711959e-05, 7.506172551074997e-05, 0.00012784496357198805, 7.344080950133502e-05, 8.959437400335446e-05, 8.000991510925815e-05, 8.313908620039001e-05, 7.978193752933294e-05, 8.754296140978113e-05, 8.74432225828059e-05, 7.375441055046394e-05, 7.336109410971403e-05, 8.249012898886576e-05, 8.042882836889476e-05, 8.176244591595605e-05, 7.722504960838705e-05, 6.866607145639136e-05, 5.710616824217141e-05, 7.750371150905266e-05, 8.481932309223339e-05, 7.696069224039093e-05, 6.734674389008433e-05, 7.881709461798891e-05, 7.67036181059666e-05, 7.885754166636616e-05, 8.064337453106418e-05, 7.604428537888452e-05, 6.305243005044758e-05, 8.638483996037394e-05, 7.600532262586057e-05, 7.699619163759053e-05, 8.07305914349854e-05, 7.374729466391727e-05, 8.946401794673875e-05, 5.098693509353325e-05, 8.557507680961862e-05, 7.840383477741852e-05, 8.441587851848453e-05, 0.00010158099030377343, 7.143788388930261e-05, 7.868142711231485e-05, 7.670506602153182e-05, 8.827659621601924e-05, 7.772802928229794e-05, 0.0024796000216156244, 7.606153667438775e-05, 7.624821591889486e-05, 8.406078995903954e-05, 7.978426583576947e-05, 7.556258060503751e-05, 7.84642033977434e-05, 7.657208334421739e-05, 5.1043214625678957e-05, 7.617238588863984e-05, 9.644498641137034e-05, 8.334364247275516e-05, 7.812924013705924e-05, 7.447368261637166e-05, 8.511379564879462e-05, 8.048082236200571e-05, 7.271610229508951e-05, 7.189482857938856e-05, 7.546758570242673e-05, 7.447881216648966e-05, 7.644914148841053e-05, 7.74720247136429e-05, 7.383950287476182e-05, 7.035801536403596e-05, 7.855935109546408e-05, 8.207612700061873e-05, 7.554644253104925e-05, 6.933039549039677e-05, 8.045318827498704e-05, 7.759378058835864e-05, 7.353230466833338e-05, 7.113376341294497e-05, 6.936417048564181e-05, 0.00021657344768755138, 0.00011968628678005189, 8.22655638330616e-05, 8.657843864057213e-05, 0.00011912320042029023, 7.357227150350809e-05, 8.943963621277362e-05, 7.288102642633021e-05, 7.364242628682405e-05, 7.354649278568104e-05, 7.825370266800746e-05, 8.268196688732132e-05, 7.601839024573565e-05, 6.75741393934004e-05, 6.75885530654341e-05, 8.221891039283946e-05, 7.718190317973495e-05, 7.956483750604093e-05, 7.526558329118416e-05, 6.27026820438914e-05, 6.542268965858966e-05, 8.389945287490264e-05, 7.724811439402401e-05, 7.819172606104985e-05, 7.749659562250599e-05, 6.894186662975699e-05, 6.941317406017333e-05, 7.859650941099972e-05, 5.180464359000325e-05, 8.309831900987774e-05, 5.68685973121319e-05, 7.625205034855753e-05, -0.11231034994125366, 7.390324753941968e-05, 7.243462459882721e-05, 6.741871766280383e-05, 7.315066613955423e-05, 8.192579844035208e-05, 0.011460886336863041, 8.215068373829126e-05, 7.599673699587584e-05, 8.365570829482749e-05, 5.808158311992884e-05, 7.971201557666063e-05, 7.723696762695909e-05, 8.682061161380261e-05, -0.0035098548978567123, 7.649708277313039e-05, 7.795761484885588e-05, 7.250968337757513e-05, 5.743482688558288e-05, 7.959076901897788e-05, 9.706330456538126e-05, 7.773069955874234e-05, 8.466486178804189e-05, 6.61347366985865e-05, 9.107567893806845e-05, 4.887023169430904e-05, 7.47093727113679e-05, 7.436133455485106e-05, 7.757901039440185e-05, 7.490075950045139e-05, 6.140844925539568e-05, 7.666369492653757e-05, 7.863590872148052e-05, 7.677912071812898e-05, 7.525590626755729e-05, 7.758272113278508e-05, 8.186740888049826e-05, 8.26396862976253e-05, 7.818912854418159e-05, 6.464397301897407e-05, 5.982366928947158e-05, 7.365562487393618e-05, 7.072830339893699e-05, -0.02023881860077381, 7.45875877328217e-05, 7.186717994045466e-05, 1.3963417586637661e-05, 7.818637095624581e-05, 5.938718913967023e-06, 0.00019376055570319295, 8.190138032659888e-05, 0.0003344195429235697, 7.916546746855602e-05, 8.783426164882258e-05, 7.721288420725614e-05, 7.35996727598831e-05, 7.74063664721325e-05, 7.999745139386505e-05, 7.157785148592666e-05, 7.176565122790635e-05, 7.584002014482394e-05, 8.46838956931606e-05, 6.464227772084996e-05, 7.083464879542589e-05, 7.759407162666321e-05, 8.814199100015685e-05, 7.45962533983402e-05, 6.481904711108655e-05, 7.891702261986211e-05, 7.31922045815736e-05, 7.885984814492986e-05, 6.885214679641649e-05, 7.065749377943575e-05, 7.737008127151057e-05, 7.537147757830098e-05, 7.315559196285903e-05, 7.371328683802858e-05, 8.620902372058481e-05, 6.518240115838125e-05, 7.900991477072239e-05, 7.778182771289721e-05, 6.695587944705039e-05, 8.435203199042007e-05, 7.228294271044433e-05, 7.070766150718555e-05, 7.291248039109632e-05, 8.434131450485438e-05, 8.157424599630758e-05, 7.166356226662174e-05, 8.125630847644061e-05, 9.253954340238124e-05, 7.831476250430569e-05, 7.023492798907682e-05, 7.718727283645421e-05, 7.268095214385539e-05, 7.545531843788922e-05, 7.569567969767377e-05, 8.444542618235573e-05, 0.00010749449575087056, 8.501193224219605e-05, 7.75488224462606e-05, 7.449155964422971e-05], \"y\": [0.00010292850492987782, 0.00011673995322780684, 0.00011663835903163999, 0.00011431743769207969, 0.00012086096830898896, 0.00011585332686081529, 0.00010747188207460567, 0.0001107067582779564, 0.00011449376324890181, 0.00011052711488446221, 0.00011858849029522389, 0.0001074285974027589, 0.00011580127466004342, 0.00011207594070583582, 0.00011251693649683148, 0.00011182902380824089, 0.0001051679573720321, 0.0001156981525127776, 0.00012055502156727016, 0.0001203266583615914, 0.00010882137576118112, 0.000104877857665997, 0.00011279259342700243, 0.00011844819528050721, 0.000111018045572564, 9.968148515326902e-05, 0.00011709537648130208, 0.00011167806951561943, 0.00012313519255258143, 0.0001110778030124493, 0.00011343659571139142, 0.00012008361954940483, 0.00010717589611886069, 0.00010492391447769478, 0.00011568320769583806, 0.00011073498899349943, 0.0001210152477142401, 0.00011405118857510388, 0.00011139521666336805, 0.00010865522199310362, 0.00011014740448445082, 0.00012086033530067652, 0.00011805767280748114, 0.00232207914814353, 0.00010297469270881265, 0.00012716931814793497, 0.00013262841093819588, 0.00010800093878060579, 0.00011371813889127225, 0.00037173053715378046, 0.00010962825763272122, -1.856360540841706e-05, 0.00011989033373538405, 0.00012453951057977974, 0.00018052819359581918, 0.00011599843855947256, 0.00010918089537881315, 0.0001272612134926021, 0.00011177016131114215, 0.00011260371684329584, 0.00011261447798460722, 9.809382754610851e-05, 0.0001158847298938781, 0.00011245814675930887, 0.00011743435607058927, 0.00015757331857457757, 0.00012081376917194575, 0.00011619491124292836, 9.410247002961114e-05, 0.00011421826638979837, 0.00011200833978364244, 0.00012057425919920206, 0.00011491014447528869, 0.00011819192877737805, 0.00010598942026263103, 0.00011130653729196638, 0.00012010472710244358, 9.760056855157018e-05, 0.00012089904339518398, 0.00010627699521137401, 0.0001006165039143525, -4.34288231190294e-05, 0.00010862918134080246, 0.00011320567864459008, 0.00010712859511841089, 0.00011946450831601396, 0.00013200686953496188, 0.00011570715287234634, 0.00010524528624955565, 0.00010901152563747019, 0.00011069308675359935, 0.00010384873166913167, 0.0001123211914091371, 0.00011113850632682443, 7.846567314118147e-05, 0.0001079788344213739, 0.00011656626884359866, 0.00011584354797378182, 0.00011757486208807677, 0.00011450185411376879, 0.00011447370343375951, 0.00011316545715089887, 0.0001038816844811663, 0.0001150218813563697, 0.00011351561988703907, 0.00010777245188364759, 0.00011542771972017363, 0.00010874492727452889, 0.00010627655137795955, 0.00011919646203750744, 0.00011626038030954078, 0.0001311638770857826, 0.00011023653496522456, 0.00010761745943455026, 9.710027370601892e-05, -0.039842914789915085, 0.00012376987433526665, 0.00011717802408384159, 0.00010550014121690765, 0.00010560706141404808, -0.00011932905908906832, 8.374314347747713e-05, 0.00011039591481676325, 0.00011243882909184322, 0.000106016181234736, 0.0001121802706620656, 0.0001100676236092113, 7.431727135553956e-05, 0.00011909416934940964, 0.00011451786122051999, 0.00011667525541270152, 0.0001174704812001437, 0.00010899948392761871, 0.00011648345389403403, 0.00011930742766708136, 0.00012005065946141258, 0.00011597134289331734, 0.00010286514589097351, 0.00010887055395869538, 0.00011380121577531099, 0.00010012892016675323, 0.00012351009354460984, 0.00011273457494098693, 0.00010941547225229442, 0.00011782092042267323, 0.00011576159886317328, 0.00012044588947901502, 0.00011684390483424067, 0.00011283093772362918, 0.00011004262341884896, 0.00011822846136055887, 0.00011949273175559938, 0.00011386127880541608, 0.0001100483859772794, 0.0001231016212841496, 0.00011129965423606336, 0.00011645442282315344, 0.00011383593664504588, 0.00010823615593835711, 0.00011066545266658068, 0.00011546991299837828, 0.00011236144200665876, 0.00011115233064629138, 0.00011743389040930197, 0.0001327051577391103, 0.0001085261901607737, 9.814377699512988e-05, 0.00010696456592995673, 0.00011036684009013698, 0.00010960923827951774, 0.00011000721860909835, 0.00012055193656124175, 0.00010457408643560484, 0.00011215417180210352, 0.00011872872710227966, 0.00011017506039934233, 0.00010777007264550775, -0.0011520800180733204, 0.00011897563672391698, 0.00011086605809396133, 0.00011225138587178662, 0.0001136887221946381, 0.00011423994146753103, 0.0001158359955297783, 0.00012058606080245227, 0.00010507462138775736, 0.00012298166984692216, 5.866603896720335e-05, 0.00011332950816722587, 0.00011114964581793174, 0.04269484430551529, 0.00011510389595059678, 0.00011524325236678123, 0.0001068995043169707, 0.00010777352144941688, 0.00011040471872547641, 0.00011786157119786367, 0.00010378858132753521, 0.0001120925007853657, 0.00012228103878442198, 0.00011646198981907219, 0.00011532290955074131, 0.00011497820378281176, 0.00011646442726487294, 0.00010891946294577792, 0.00011038887896575034, 0.00011633725807769224, 0.00010972104064421728, 0.0001118621148634702, 0.00011545650340849534, 0.0001180523177026771, 0.00011238908336963505, 0.00012194577720947564, 0.00011632265523076057, 0.0001156794314738363, 0.00011250295938225463, 0.00011121592251583934, 0.0001145715286838822, 0.00011484693823149428, 0.00011874552728841081, 0.00011747331882361323, 0.00011112319043604657, 0.00011956824891967699, 0.00011699274909915403, -0.02258274145424366, 0.00011037306830985472, 0.00012517267896328121, 0.00011112393985968083, 0.00011098835966549814, 0.0001092038000933826, 0.00011962596181547269, 0.00011789436393883079, 0.00011787093535531312, 0.00011449443263700232, 0.00011222853936487809, 0.00012659809726756066, 0.00038932941970415413, 0.00011626876948866993, 0.00010953041783068329, 0.00011584055027924478, 0.00012050065561197698, 0.0001081802329281345, 0.00011658204311970621, 0.00010672990174498409, 0.00010975002078339458, 0.00012000380957033485, -0.002324149012565613, 0.00011369746789569035, 0.00010925358947133645, 0.00011860902304761112, 0.00010733382805483416, 0.0001145263304351829, -0.023186253383755684, 0.00011938944226130843, 0.0001088477874873206, 0.00010999345977324992, 0.00012161056656623259, 0.00014034376363269985, 0.00011674600682454184, 0.00010582464165054262, -0.0019765023607760668, 0.00011357737093931064, 0.0001369054225506261, 0.00011779225314967334, 7.809535600244999e-05, 9.719898662297055e-05, 0.0001154599740402773, 0.00012203821097500622, 8.950226765591651e-05, 0.00011012259346898645, 0.00011172159429406747, 0.00011416255438234657, 0.00011790593998739496, -0.0004406777152325958, 0.00011276661098236218, 0.00012124744534958154, 0.00010872501297853887, 0.00011021181126125157, 0.0001242944854311645, 0.00010918706539086998, 0.00011621112935245037, 0.00010891263809753582, 0.00011144141899421811, 0.00011467259901110083, 0.00011925074068130925, 7.586822903249413e-05, 0.00010581156675470993, 0.0001085221374523826, 0.00017265777569264174, 0.00010775704140542075, 0.0001177402155008167, 0.00010994408512488008, 0.00011970461491728202, 0.00011513348727021366, 0.00010223945719189942, 0.00010679660044843331, 0.00010213493078481406, 0.0001130962700699456, 0.0001078216009773314, 0.00011304250074317679, 0.0001161477412097156, 0.00011974752851529047, 0.00010970341099891812, 0.00011510954209370539, 0.00012346722360234708, 0.00011120762792415917, 0.00011967904720222577, 0.00011668626393657178, 0.00011693621490849182, 0.00011714769061654806, 0.00011975917732343078, 0.00012087744107702747, 0.00011439153604442254, 0.00011418884241720662, 0.0001138087100116536, 9.94571455521509e-05, 0.00011768614058382809, 0.0001265177270397544, 0.00012508411600720137, 0.00010900411871261895, 0.00011835496843559667, 0.00011243572225794196, -4.721751975012012e-05, 0.0001251586654689163, 0.00010852418199647218, 0.00012469822831917554, 0.00011375810572644696, 0.0001106604904634878, 4.366186840343289e-05, 0.00012254893954377621, 0.0001142836845247075, 0.00011643963807728142, 0.0001202022613142617, 0.00011253371485508978, 0.00011781489592976868, 0.00011661900498438627, 0.00011956023809034377, 0.00011746725795092061, 0.00011682634067256004, 0.0001161945765488781, 9.83116333372891e-05, 0.00012061704182997346, 0.00011555807577678934, 0.0001105118717532605, 0.00011644150072243065, 8.647801587358117e-05, 0.00010687106259865686, 0.00012770477042067796, 0.00010924071102635935, 0.00011294044088572264, 0.00010837600711965933, 0.00010633355850586668, 0.00010739473509602249, 5.199638690100983e-05, 0.00011331994755892083, 0.00011306982923997566, 0.00011771940626204014, 0.00011019138764822856, 0.00010929492418654263, 0.00011221790919080377, 0.00011042343976441771, 0.00011856743367388844, 0.00010980397928506136, 0.00010798826406244189, 0.00011845006520161405, 0.0372302420437336, 0.00011893288319697604, 0.00011229960364289582, 0.0003002726589329541, 0.00011616269330261275, 0.00011718569294316694, 0.00011257045844104141, 0.00011855339835165069, 0.00011004992120433599, 0.00011280878243269399, 0.00011751044075936079, 0.00012019664427498356, 0.00010979496437357739, 0.000314195902319625, 0.00012192738358862698, 0.00011146313772769645, 0.00010919327178271487, 0.00011869380250573158, 0.00010959243809338659, 0.0001100454101106152, 0.00012163996143499389, 0.00011453792831161991, 0.00011438065121183172, 0.00011977850954281166, 0.00011577898112591356, 0.0001132304169004783, 0.00011474652274046093, 0.0001014735535136424, 0.00011789805284934118, 0.000134240894112736, 0.00012030712969135493, 0.00011539454135345295, 0.00011544199514901266, 0.00010486471001058817, 0.0001104690381907858, 0.00011488359450595453, 0.00010404187923995778, 0.00010412067058496177, 0.00010841408948181197, 0.00010614224447635934, 0.00012991984840482473, 0.00011582473962334916, 0.00011285708023933694, 0.0001197751407744363, 0.00010638829553499818, 0.00011361403448972851, 0.00010883728100452572, 0.00012643536319956183, 0.00010906115494435653, 0.0001140149324783124, 0.00011871472088387236, 0.0001056543187587522, 0.00012283571413718164, 5.0664817536016926e-05, 0.00011598232958931476, 0.00011671479296637699, 0.00010548486898187548, 0.00010839064634637907, 0.00013846172078046948, 0.00011776680184993893, 0.00011508644092828035, 0.00011420393275329843, 0.00011216318671358749, 0.00011424924014136195, 0.00011375527537893504, 0.00010914949234575033, 0.00011050982720917091, 0.00011379379429854453, 0.00011590585199883208, 0.00012075142149114981, 0.00010004085197579116, 0.00011104824079666287, 0.00012500330922193825, 0.00012148792302468792, 0.00011263763008173555, 0.00011459110100986436, 0.00011577901750570163, 0.00010913854202954099, 0.00014194413961376995, 0.0001126796705648303, 8.41714208945632e-05, 0.00011809233546955511, 0.00011869804438902065, 0.00011383141827536747, 0.00010748664499260485, 0.0001136645587394014, 0.00010104238026542589, 0.0001131021708715707, 0.00012808154860977083, 9.902558667818084e-05, 0.00011158541747136042, 0.00011447211727499962, 0.00010740783181972802, 6.173532165121287e-05, 9.342673001810908e-05, 0.00011775890743592754, 7.177137740654871e-05, 0.00011027607251890004, 0.00011645850463537499, 0.00010892860882449895, 0.0001085078765754588, -0.00016886586672626436, 0.00011909838212886825, 0.00011952340719290078, 4.315610567573458e-05, 0.00011482728586997837, 0.00011978234397247434, 0.00011355562310200185, 0.00011744388029910624, 0.00011449753219494596, 0.00011094937508460134, 0.00011778270709328353, 0.00011104786244686693, 0.00010614505299599841, 0.00011482418631203473, 0.00011368577543180436, 0.0001013784931274131, 0.00010497110633878037, 0.00012015722313662991, 0.00011616504343692213, 0.00012068240903317928, 0.00012581777991726995, 0.00011032914335373789, 0.00011704157805070281, 0.0001110116791096516, 0.00012076388520654291, -0.025809548795223236, -0.02637232281267643, 0.00011867597640957683, 0.0001363383635180071, 0.00010690653289202601, 0.00011350829299772158, 9.825881716096774e-05, 0.00011750838893931359, 0.00011353075387887657, 0.00012322768452577293, 0.00012040809087920934, 0.00010890788689721376, 0.00011048439046135172, 0.00011524151341291144, 3.587644096114673e-05, 0.00012221347424201667, 0.0001119237276725471, 0.00011614411050686613, 0.00011848926078528166, 9.493627294432372e-05, 0.00010840930190170184, 0.0001100282315746881, 0.00012182042701169848, 0.00011620137956924736, 0.0001150158277596347, 0.0001133463520091027, 0.00011514582729432732, 0.00011386111873434857, 0.00011040408571716398, 0.00011602104495977983, 0.00010871949780266732, 0.0001176836813101545, 0.0001199466860271059, 0.00011932472989428788, 0.00011051144974771887, 0.0001034542074194178, 9.043818863574415e-05, 0.00010086211113957688, 0.00011342503421474248, 0.000113490859803278, 0.00011009587615262717, 0.0001070400103344582, 0.00010821437172126025, 0.00011661396274575964, 0.00011466882278909907, -0.00011934120993828401, 0.00011294654541416094, 9.138358291238546e-05, 0.0001898348709801212, 0.00011108063335996121, 0.00011863815598189831, 0.00011500847176648676, 0.00011575956887099892, 0.00010837390436790884, 0.00010063234367407858, 0.00011958202958339825, 0.00011904091661563143, 0.00011153840023325756, 0.00013470671547111124, 0.00011915082723135129, 0.00011586321488721296, 0.00011337125033605844, 0.00011209281365154311, 0.00010630566976033151, 0.00012002820585621521, 0.0001055445391102694, 0.00011370392894605175, 0.00011269776587141678, 9.92401473922655e-05, 0.00011304687359370291, 0.00011159563291585073, 0.00010987142741214484, 0.00012185971718281507, 0.00011856026685563847, 9.058980504050851e-05, 0.00010806300269905478, 0.00012460476136766374, 0.00010913542791968212, 0.00011670999083435163, 0.0001006238890113309, 0.00011423275282140821, 0.00012370133481454104, 9.113668784266338e-05, 0.00012278123176656663, 0.00011099505354650319, 0.00011655326670734212, 0.0001253963855560869, 0.00010704741725930944, 0.00011753787839552388, 0.00011057656956836581, 0.00011325059313094243, 0.00011728307435987517, 0.00010632267367327586, 0.00011601504957070574, 0.00010703452426241711, 0.00011442032700870186, 0.00011332245776429772, -2.7205291189602576e-05, 0.00010627342271618545, 0.00012083294132025912, 0.00011504519352456555, 0.00010599487723084167, 0.0001075338150258176, 0.027580875903367996, 0.00011905282008228824, 0.00011531363998074085, 0.0001207559325848706, 0.00011882885155500844, 0.00010984730033669621, 0.00012326228898018599, 0.00011604154133237898, 0.00011224197805859149, 0.00010508811828913167, 0.0001485944667365402, 0.00011126435128971934, 0.00010011767881223932, 0.0001173428536276333, 0.00011757962056435645, 0.0001248690823558718, 0.00010147061402676627, 0.00011333666770951822, 0.00011342881771270186, 0.00011911047477042302, 0.00011530031770234928, 0.00010845946962945163, 0.00010727820335887372, 0.00011658317089313641, 0.00011166831973241642, 0.0001125153066823259, 0.00011892251495737582, 9.878670243779197e-05, 8.137435361277312e-05, 0.00011878267832798883, 0.00010733967792475596, 0.00011033827468054369, 0.00011486470611998811, 6.686028063995764e-05, 0.0002048430615104735, 0.00010691178613342345, 0.0001083529568859376, 9.696561028249562e-05, 0.00010895725426962599, 0.00011347393592586741, 0.00010674264922272414, 0.0001200615952257067, 0.0001074406027328223, 0.00012057227286277339, 0.00011118034308310598, 0.00011451486352598295, 0.00011158439156133682, 0.00010688178736018017, 0.00011380585783626884, 0.00011658838047878817, 0.00010829472739715129, 0.00012162468919996172, 0.00011058160453103483, 0.00012432786752469838, 0.00011189399810973555, 0.00011606496263993904, 0.00011801290384028107, 0.00011443790572229773, 0.00011840569641208276, 0.00011763077054638416, 0.00011337779142195359, 0.000119607757369522, 0.00011460367386462167, 0.00012353599595371634, 0.00011701785842888057, -0.04747142642736435, 0.00011764703231165186, 0.0001186870940728113, 0.00011568582704057917, 0.00010629063763190061, 0.00012029318895656615, -0.040122099220752716, 0.00011099899711553007, 0.00011416531924623996, 0.0001163912020274438, 0.00011390040162950754, 0.00010341246525058523, 0.00011227206414332613, 0.00011825325054815039, 0.001037311740219593, 0.00012173059076303616, 0.00011382306547602639, 0.00011558527330635116, 0.00012562957999762148, 0.00010510213178349659, 9.992602281272411e-05, 0.00011999881826341152, 0.00010622080299071968, 0.00010936235776171088, 0.00014309983816929162, 0.00011378974886611104, 0.00011920699034817517, 0.00012313679326325655, 0.00011801309301517904, 0.0001055594184435904, 0.00011925961007364094, 0.00011884277046192437, 0.00011594963143579662, 0.00011919026292162016, 0.00011398103379178792, 9.077414142666385e-05, 0.00011479193199193105, 0.00011192175588803366, 0.00011011327296728268, 0.00011609029024839401, 0.00011027166328858584, 9.755598148331046e-05, 0.00011734324652934447, 0.012876822613179684, 0.00011537834507180378, 0.00011400848597986624, 0.000150922205648385, 0.00011919078679056838, 0.00015572152915410697, 9.897392737912014e-05, 0.000111296700197272, -0.00021976449352223426, 0.00011514974175952375, 0.00010779777949210256, 0.00011230801464989781, 0.00011517841630848125, 0.00011162744340253994, 0.00011604884639382362, 0.00012120743485866114, 0.00010563146497588605, 0.00012079810403520241, 0.00010474317241460085, 0.00012646881805267185, 0.000105408595118206, 0.00011659150186460465, 0.00010688113979995251, 9.724665142130107e-05, 0.00011369871936039999, 0.00011005898704752326, 0.00011750225530704483, 0.00010668880713637918, 0.00011669163359329104, 0.00010957303311442956, 0.00010874530562432483, 0.00012152318231528625, 0.0001173075579572469, 0.00011614349205046892, 0.0001050004138960503, 0.00012161515041952953, 0.0001109721779357642, 0.00011903513222932816, 0.00011485930008348078, 0.00011600378638831899, 0.00010571275925030932, 0.000102622238046024, 0.00011022543185390532, 0.00011828607239294797, 0.0001064683310687542, 0.0001168006201623939, 0.00011139816342620179, 6.664873944828287e-05, 0.0001194519063574262, 0.00012060530571034178, 0.00011105381418019533, 0.00010816324356710538, 0.00012002828589174896, 0.00011742603237507865, 0.0001180890467367135, 0.00011682043987093493, 0.00010876788292080164, 0.00010985483095282689, 0.00011225630441913381]}],                        {\"autosize\": false, \"font\": {\"family\": \" Courier New \", \"size\": 15}, \"height\": 1000, \"legend\": {\"font\": {\"color\": \"black\", \"family\": \"Courier New\", \"size\": 25}, \"x\": 1, \"y\": 0.5}, \"margin\": {\"b\": 0, \"l\": 0, \"r\": 0, \"t\": 0}, \"showlegend\": true, \"template\": {\"data\": {\"bar\": [{\"error_x\": {\"color\": \"#2a3f5f\"}, \"error_y\": {\"color\": \"#2a3f5f\"}, \"marker\": {\"line\": {\"color\": \"#E5ECF6\", \"width\": 0.5}}, \"type\": \"bar\"}], \"barpolar\": [{\"marker\": {\"line\": {\"color\": \"#E5ECF6\", \"width\": 0.5}}, \"type\": \"barpolar\"}], \"carpet\": [{\"aaxis\": {\"endlinecolor\": \"#2a3f5f\", \"gridcolor\": \"white\", \"linecolor\": \"white\", \"minorgridcolor\": \"white\", \"startlinecolor\": \"#2a3f5f\"}, \"baxis\": {\"endlinecolor\": \"#2a3f5f\", \"gridcolor\": \"white\", \"linecolor\": \"white\", \"minorgridcolor\": \"white\", \"startlinecolor\": \"#2a3f5f\"}, \"type\": \"carpet\"}], \"choropleth\": [{\"colorbar\": {\"outlinewidth\": 0, \"ticks\": \"\"}, \"type\": \"choropleth\"}], \"contour\": [{\"colorbar\": {\"outlinewidth\": 0, \"ticks\": \"\"}, \"colorscale\": [[0.0, \"#0d0887\"], [0.1111111111111111, \"#46039f\"], [0.2222222222222222, \"#7201a8\"], [0.3333333333333333, \"#9c179e\"], [0.4444444444444444, \"#bd3786\"], [0.5555555555555556, \"#d8576b\"], [0.6666666666666666, \"#ed7953\"], [0.7777777777777778, \"#fb9f3a\"], [0.8888888888888888, \"#fdca26\"], [1.0, \"#f0f921\"]], \"type\": \"contour\"}], \"contourcarpet\": [{\"colorbar\": {\"outlinewidth\": 0, \"ticks\": \"\"}, \"type\": \"contourcarpet\"}], \"heatmap\": [{\"colorbar\": {\"outlinewidth\": 0, \"ticks\": \"\"}, \"colorscale\": [[0.0, \"#0d0887\"], [0.1111111111111111, \"#46039f\"], [0.2222222222222222, \"#7201a8\"], [0.3333333333333333, \"#9c179e\"], [0.4444444444444444, \"#bd3786\"], [0.5555555555555556, \"#d8576b\"], [0.6666666666666666, \"#ed7953\"], [0.7777777777777778, \"#fb9f3a\"], [0.8888888888888888, \"#fdca26\"], [1.0, \"#f0f921\"]], \"type\": \"heatmap\"}], \"heatmapgl\": [{\"colorbar\": {\"outlinewidth\": 0, \"ticks\": \"\"}, \"colorscale\": [[0.0, \"#0d0887\"], [0.1111111111111111, \"#46039f\"], [0.2222222222222222, \"#7201a8\"], [0.3333333333333333, \"#9c179e\"], [0.4444444444444444, \"#bd3786\"], [0.5555555555555556, \"#d8576b\"], [0.6666666666666666, \"#ed7953\"], [0.7777777777777778, \"#fb9f3a\"], [0.8888888888888888, \"#fdca26\"], [1.0, \"#f0f921\"]], \"type\": \"heatmapgl\"}], \"histogram\": [{\"marker\": {\"colorbar\": {\"outlinewidth\": 0, \"ticks\": \"\"}}, \"type\": \"histogram\"}], \"histogram2d\": [{\"colorbar\": {\"outlinewidth\": 0, \"ticks\": \"\"}, \"colorscale\": [[0.0, \"#0d0887\"], [0.1111111111111111, \"#46039f\"], [0.2222222222222222, \"#7201a8\"], [0.3333333333333333, \"#9c179e\"], [0.4444444444444444, \"#bd3786\"], [0.5555555555555556, \"#d8576b\"], [0.6666666666666666, \"#ed7953\"], [0.7777777777777778, \"#fb9f3a\"], [0.8888888888888888, \"#fdca26\"], [1.0, \"#f0f921\"]], \"type\": \"histogram2d\"}], \"histogram2dcontour\": [{\"colorbar\": {\"outlinewidth\": 0, \"ticks\": \"\"}, \"colorscale\": [[0.0, \"#0d0887\"], [0.1111111111111111, \"#46039f\"], [0.2222222222222222, \"#7201a8\"], [0.3333333333333333, \"#9c179e\"], [0.4444444444444444, \"#bd3786\"], [0.5555555555555556, \"#d8576b\"], [0.6666666666666666, \"#ed7953\"], [0.7777777777777778, \"#fb9f3a\"], [0.8888888888888888, \"#fdca26\"], [1.0, \"#f0f921\"]], \"type\": \"histogram2dcontour\"}], \"mesh3d\": [{\"colorbar\": {\"outlinewidth\": 0, \"ticks\": \"\"}, \"type\": \"mesh3d\"}], \"parcoords\": [{\"line\": {\"colorbar\": {\"outlinewidth\": 0, \"ticks\": \"\"}}, \"type\": \"parcoords\"}], \"pie\": [{\"automargin\": true, \"type\": \"pie\"}], \"scatter\": [{\"marker\": {\"colorbar\": {\"outlinewidth\": 0, \"ticks\": \"\"}}, \"type\": \"scatter\"}], \"scatter3d\": [{\"line\": {\"colorbar\": {\"outlinewidth\": 0, \"ticks\": \"\"}}, \"marker\": {\"colorbar\": {\"outlinewidth\": 0, \"ticks\": \"\"}}, \"type\": \"scatter3d\"}], \"scattercarpet\": [{\"marker\": {\"colorbar\": {\"outlinewidth\": 0, \"ticks\": \"\"}}, \"type\": \"scattercarpet\"}], \"scattergeo\": [{\"marker\": {\"colorbar\": {\"outlinewidth\": 0, \"ticks\": \"\"}}, \"type\": \"scattergeo\"}], \"scattergl\": [{\"marker\": {\"colorbar\": {\"outlinewidth\": 0, \"ticks\": \"\"}}, \"type\": \"scattergl\"}], \"scattermapbox\": [{\"marker\": {\"colorbar\": {\"outlinewidth\": 0, \"ticks\": \"\"}}, \"type\": \"scattermapbox\"}], \"scatterpolar\": [{\"marker\": {\"colorbar\": {\"outlinewidth\": 0, \"ticks\": \"\"}}, \"type\": \"scatterpolar\"}], \"scatterpolargl\": [{\"marker\": {\"colorbar\": {\"outlinewidth\": 0, \"ticks\": \"\"}}, \"type\": \"scatterpolargl\"}], \"scatterternary\": [{\"marker\": {\"colorbar\": {\"outlinewidth\": 0, \"ticks\": \"\"}}, \"type\": \"scatterternary\"}], \"surface\": [{\"colorbar\": {\"outlinewidth\": 0, \"ticks\": \"\"}, \"colorscale\": [[0.0, \"#0d0887\"], [0.1111111111111111, \"#46039f\"], [0.2222222222222222, \"#7201a8\"], [0.3333333333333333, \"#9c179e\"], [0.4444444444444444, \"#bd3786\"], [0.5555555555555556, \"#d8576b\"], [0.6666666666666666, \"#ed7953\"], [0.7777777777777778, \"#fb9f3a\"], [0.8888888888888888, \"#fdca26\"], [1.0, \"#f0f921\"]], \"type\": \"surface\"}], \"table\": [{\"cells\": {\"fill\": {\"color\": \"#EBF0F8\"}, \"line\": {\"color\": \"white\"}}, \"header\": {\"fill\": {\"color\": \"#C8D4E3\"}, \"line\": {\"color\": \"white\"}}, \"type\": \"table\"}]}, \"layout\": {\"annotationdefaults\": {\"arrowcolor\": \"#2a3f5f\", \"arrowhead\": 0, \"arrowwidth\": 1}, \"autotypenumbers\": \"strict\", \"coloraxis\": {\"colorbar\": {\"outlinewidth\": 0, \"ticks\": \"\"}}, \"colorscale\": {\"diverging\": [[0, \"#8e0152\"], [0.1, \"#c51b7d\"], [0.2, \"#de77ae\"], [0.3, \"#f1b6da\"], [0.4, \"#fde0ef\"], [0.5, \"#f7f7f7\"], [0.6, \"#e6f5d0\"], [0.7, \"#b8e186\"], [0.8, \"#7fbc41\"], [0.9, \"#4d9221\"], [1, \"#276419\"]], \"sequential\": [[0.0, \"#0d0887\"], [0.1111111111111111, \"#46039f\"], [0.2222222222222222, \"#7201a8\"], [0.3333333333333333, \"#9c179e\"], [0.4444444444444444, \"#bd3786\"], [0.5555555555555556, \"#d8576b\"], [0.6666666666666666, \"#ed7953\"], [0.7777777777777778, \"#fb9f3a\"], [0.8888888888888888, \"#fdca26\"], [1.0, \"#f0f921\"]], \"sequentialminus\": [[0.0, \"#0d0887\"], [0.1111111111111111, \"#46039f\"], [0.2222222222222222, \"#7201a8\"], [0.3333333333333333, \"#9c179e\"], [0.4444444444444444, \"#bd3786\"], [0.5555555555555556, \"#d8576b\"], [0.6666666666666666, \"#ed7953\"], [0.7777777777777778, \"#fb9f3a\"], [0.8888888888888888, \"#fdca26\"], [1.0, \"#f0f921\"]]}, \"colorway\": [\"#636efa\", \"#EF553B\", \"#00cc96\", \"#ab63fa\", \"#FFA15A\", \"#19d3f3\", \"#FF6692\", \"#B6E880\", \"#FF97FF\", \"#FECB52\"], \"font\": {\"color\": \"#2a3f5f\"}, \"geo\": {\"bgcolor\": \"white\", \"lakecolor\": \"white\", \"landcolor\": \"#E5ECF6\", \"showlakes\": true, \"showland\": true, \"subunitcolor\": \"white\"}, \"hoverlabel\": {\"align\": \"left\"}, \"hovermode\": \"closest\", \"mapbox\": {\"style\": \"light\"}, \"paper_bgcolor\": \"white\", \"plot_bgcolor\": \"#E5ECF6\", \"polar\": {\"angularaxis\": {\"gridcolor\": \"white\", \"linecolor\": \"white\", \"ticks\": \"\"}, \"bgcolor\": \"#E5ECF6\", \"radialaxis\": {\"gridcolor\": \"white\", \"linecolor\": \"white\", \"ticks\": \"\"}}, \"scene\": {\"xaxis\": {\"backgroundcolor\": \"#E5ECF6\", \"gridcolor\": \"white\", \"gridwidth\": 2, \"linecolor\": \"white\", \"showbackground\": true, \"ticks\": \"\", \"zerolinecolor\": \"white\"}, \"yaxis\": {\"backgroundcolor\": \"#E5ECF6\", \"gridcolor\": \"white\", \"gridwidth\": 2, \"linecolor\": \"white\", \"showbackground\": true, \"ticks\": \"\", \"zerolinecolor\": \"white\"}, \"zaxis\": {\"backgroundcolor\": \"#E5ECF6\", \"gridcolor\": \"white\", \"gridwidth\": 2, \"linecolor\": \"white\", \"showbackground\": true, \"ticks\": \"\", \"zerolinecolor\": \"white\"}}, \"shapedefaults\": {\"line\": {\"color\": \"#2a3f5f\"}}, \"ternary\": {\"aaxis\": {\"gridcolor\": \"white\", \"linecolor\": \"white\", \"ticks\": \"\"}, \"baxis\": {\"gridcolor\": \"white\", \"linecolor\": \"white\", \"ticks\": \"\"}, \"bgcolor\": \"#E5ECF6\", \"caxis\": {\"gridcolor\": \"white\", \"linecolor\": \"white\", \"ticks\": \"\"}}, \"title\": {\"x\": 0.05}, \"xaxis\": {\"automargin\": true, \"gridcolor\": \"white\", \"linecolor\": \"white\", \"ticks\": \"\", \"title\": {\"standoff\": 15}, \"zerolinecolor\": \"white\", \"zerolinewidth\": 2}, \"yaxis\": {\"automargin\": true, \"gridcolor\": \"white\", \"linecolor\": \"white\", \"ticks\": \"\", \"title\": {\"standoff\": 15}, \"zerolinecolor\": \"white\", \"zerolinewidth\": 2}}}, \"width\": 1000},                        {\"responsive\": true}                    ).then(function(){\n                            \nvar gd = document.getElementById('535dcf49-4493-4261-881a-4370dffab335');\nvar x = new MutationObserver(function (mutations, observer) {{\n        var display = window.getComputedStyle(gd).display;\n        if (!display || display === 'none') {{\n            console.log([gd, 'removed!']);\n            Plotly.purge(gd);\n            observer.disconnect();\n        }}\n}});\n\n// Listen for the removal of the full notebook cells\nvar notebookContainer = gd.closest('#notebook-container');\nif (notebookContainer) {{\n    x.observe(notebookContainer, {childList: true});\n}}\n\n// Listen for the clearing of the current output cell\nvar outputEl = gd.closest('.output');\nif (outputEl) {{\n    x.observe(outputEl, {childList: true});\n}}\n\n                        })                };                });            </script>        </div>"
     },
     "metadata": {}
    }
   ],
   "source": [
    "trace_input = go.Scatter(\n",
    "                    x = three_dim[count:,0], \n",
    "                    y = three_dim[count:,1],  \n",
    "                    #z = three_dim[count:,2],\n",
    "                    text = words[count:],\n",
    "                    name = 'input words',\n",
    "                    textposition = \"top center\",\n",
    "                    textfont_size = 20,\n",
    "                    mode = 'markers+text',\n",
    "                    marker = {\n",
    "                        'size': 10,\n",
    "                        'opacity': 1,\n",
    "                        'color': 'black'\n",
    "                    }\n",
    "                    )\n",
    "\n",
    "    # 对于2D，不是使用go.Scatter3d，我们需要用go.Scatter并删除变量z。另外，不要使用变量three_dim，而是使用前面声明的变量(例如two_dim)\n",
    "\n",
    "data.append(trace_input)\n",
    "layout = go.Layout(\n",
    "        margin = {'l': 0, 'r': 0, 'b': 0, 't': 0},\n",
    "        showlegend=True,\n",
    "        legend=dict(\n",
    "        x=1,\n",
    "        y=0.5,\n",
    "        font=dict(\n",
    "            family=\"Courier New\",\n",
    "            size=25,\n",
    "            color=\"black\"\n",
    "        )),\n",
    "        font = dict(\n",
    "            family = \" Courier New \",\n",
    "            size = 15),\n",
    "        autosize = False,\n",
    "        width = 1000,\n",
    "        height = 1000\n",
    "        )\n",
    "\n",
    "plot_figure = go.Figure(data = data, layout = layout)\n",
    "plot_figure.show()"
   ]
  },
  {
   "cell_type": "code",
   "execution_count": 25,
   "metadata": {},
   "outputs": [
    {
     "output_type": "display_data",
     "data": {
      "application/vnd.plotly.v1+json": {
       "config": {
        "plotlyServerURL": "https://plot.ly"
       },
       "data": [
        {
         "marker": {
          "color": 2,
          "opacity": 0.8,
          "size": 10
         },
         "mode": "markers+text",
         "name": "name0",
         "text": [
          "0",
          "1",
          "2",
          "3",
          "4"
         ],
         "textfont": {
          "size": 20
         },
         "textposition": "top center",
         "type": "scatter",
         "x": [
          0.00006791064515709877,
          0.00007932740118121728,
          0.00007727741467533633,
          0.00007099303184077144,
          0.00007135049236239865
         ],
         "y": [
          0.00011110333434771746,
          0.00010696781828301027,
          0.00012258693459443748,
          0.00010814715642482042,
          0.00011504918802529573
         ]
        },
        {
         "marker": {
          "color": 2,
          "opacity": 0.8,
          "size": 10
         },
         "mode": "markers+text",
         "name": "name1",
         "text": [
          "5",
          "6",
          "7",
          "8",
          "9"
         ],
         "textfont": {
          "size": 20
         },
         "textposition": "top center",
         "type": "scatter",
         "x": [
          0.00007384971831925213,
          0.00008789105049800128,
          0.00007725760224275291,
          0.00007750298391329125,
          0.0000773020728956908
         ],
         "y": [
          0.00010647338058333844,
          0.00010364463378209621,
          0.00010743175516836345,
          0.00011153183731948957,
          0.00009727763244882226
         ]
        },
        {
         "marker": {
          "color": 2,
          "opacity": 0.8,
          "size": 10
         },
         "mode": "markers+text",
         "name": "name2",
         "text": [
          "10",
          "11",
          "12",
          "13",
          "14"
         ],
         "textfont": {
          "size": 20
         },
         "textposition": "top center",
         "type": "scatter",
         "x": [
          0.000054148476920090616,
          0.0000790286430856213,
          0.00006901799497427419,
          0.00008510089537594467,
          0.00007640675903530791
         ],
         "y": [
          0.00010518146154936403,
          0.00011137885303469375,
          0.00011874363553943112,
          0.00017468024452682585,
          0.00011431521124904975
         ]
        },
        {
         "marker": {
          "color": 2,
          "opacity": 0.8,
          "size": 10
         },
         "mode": "markers+text",
         "name": "name3",
         "text": [
          "15",
          "16",
          "17",
          "18",
          "19"
         ],
         "textfont": {
          "size": 20
         },
         "textposition": "top center",
         "type": "scatter",
         "x": [
          0.00007625205762451515,
          0.00008301858906634152,
          0.00015547372458968312,
          0.00007591953180963174,
          0.00006065647176001221
         ],
         "y": [
          0.000109591317595914,
          0.00013024093641433865,
          0.00005894588684896007,
          0.00011226738570258021,
          0.0001416677114320919
         ]
        },
        {
         "marker": {
          "color": 2,
          "opacity": 0.8,
          "size": 10
         },
         "mode": "markers+text",
         "name": "name4",
         "text": [
          "20",
          "21",
          "22",
          "23",
          "24"
         ],
         "textfont": {
          "size": 20
         },
         "textposition": "top center",
         "type": "scatter",
         "x": [
          0.00006584232323803008,
          0.0000780837144702673,
          0.00008779126073932275,
          0.000075705953349825,
          0.00007573342008981854
         ],
         "y": [
          0.00010825195931829512,
          0.00011608160275500268,
          0.00011465836723800749,
          0.00011063920828746632,
          0.00011583257582969964
         ]
        },
        {
         "marker": {
          "color": 2,
          "opacity": 0.8,
          "size": 10
         },
         "mode": "markers+text",
         "name": "name5",
         "text": [
          "25",
          "26",
          "27",
          "28",
          "29"
         ],
         "textfont": {
          "size": 20
         },
         "textposition": "top center",
         "type": "scatter",
         "x": [
          0.00008139933925122023,
          0.00007722103327978402,
          0.00007490845018764958,
          0.00006408068293239921,
          0.00006923270120751113
         ],
         "y": [
          0.00011466816067695618,
          0.00010790382657432929,
          0.00011193088721483946,
          0.0001138711377279833,
          0.00011744249786715955
         ]
        },
        {
         "marker": {
          "color": 2,
          "opacity": 0.8,
          "size": 10
         },
         "mode": "markers+text",
         "name": "name6",
         "text": [
          "30",
          "31",
          "32",
          "33",
          "34"
         ],
         "textfont": {
          "size": 20
         },
         "textposition": "top center",
         "type": "scatter",
         "x": [
          0.00008282721682917327,
          0.00008801779767964035,
          0.00007794060365995392,
          0.00007380837632808834,
          0.00009072190005099401
         ],
         "y": [
          0.00011176030966453254,
          0.00010815861605806276,
          0.00011836014891741797,
          0.00011753033322747797,
          0.00010630054021021351
         ]
        },
        {
         "marker": {
          "color": 2,
          "opacity": 0.8,
          "size": 10
         },
         "mode": "markers+text",
         "name": "name7",
         "text": [
          "35",
          "36",
          "37",
          "38",
          "39"
         ],
         "textfont": {
          "size": 20
         },
         "textposition": "top center",
         "type": "scatter",
         "x": [
          0.00008284777140943334,
          0.00007083961099851876,
          0.00008089094626484439,
          0.00008563303708797321,
          0.00007892848225310445
         ],
         "y": [
          0.00012033190432703122,
          0.00012347825395409018,
          0.00011894396448042244,
          0.00011242191249039024,
          0.0001261608413187787
         ]
        },
        {
         "marker": {
          "color": 2,
          "opacity": 0.8,
          "size": 10
         },
         "mode": "markers+text",
         "name": "name8",
         "text": [
          "40",
          "41",
          "42",
          "43",
          "44"
         ],
         "textfont": {
          "size": 20
         },
         "textposition": "top center",
         "type": "scatter",
         "x": [
          0.00008104185690172017,
          0.0000875262267072685,
          0.00006895227124914527,
          0.00007254385127453133,
          0.00007802714389981702
         ],
         "y": [
          0.00011529031326062977,
          0.00010991175076924264,
          0.00010097870108438656,
          0.00011719117901520804,
          0.000112870657176245
         ]
        },
        {
         "marker": {
          "color": 2,
          "opacity": 0.8,
          "size": 10
         },
         "mode": "markers+text",
         "name": "name9",
         "text": [
          "45",
          "46",
          "47",
          "48",
          "49"
         ],
         "textfont": {
          "size": 20
         },
         "textposition": "top center",
         "type": "scatter",
         "x": [
          0.00007674107473576441,
          0.00007542302046203986,
          0.0000963444181252271,
          0.00007657142850803211,
          0.00008603092283010483
         ],
         "y": [
          0.00010771176312118769,
          0.00011141579307150096,
          0.00006898943684063852,
          0.00012221767974551767,
          0.0001235741947311908
         ]
        },
        {
         "marker": {
          "color": "black",
          "opacity": 1,
          "size": 10
         },
         "mode": "markers+text",
         "name": "input words",
         "text": [
          "50",
          "51",
          "52",
          "53",
          "54",
          "55",
          "56",
          "57",
          "58",
          "59",
          "60",
          "61",
          "62",
          "63",
          "64",
          "65",
          "66",
          "67",
          "68",
          "69",
          "70",
          "71",
          "72",
          "73",
          "74",
          "75",
          "76",
          "77",
          "78",
          "79",
          "80",
          "81",
          "82",
          "83",
          "84",
          "85",
          "86",
          "87",
          "88",
          "89",
          "90",
          "91",
          "92",
          "93",
          "94",
          "95",
          "96",
          "97",
          "98",
          "99",
          "100",
          "101",
          "102",
          "103",
          "104",
          "105",
          "106",
          "107",
          "108",
          "109",
          "110",
          "111",
          "112",
          "113",
          "114",
          "115",
          "116",
          "117",
          "118",
          "119",
          "120",
          "121",
          "122",
          "123",
          "124",
          "125",
          "126",
          "127",
          "128",
          "129",
          "130",
          "131",
          "132",
          "133",
          "134",
          "135",
          "136",
          "137",
          "138",
          "139",
          "140",
          "141",
          "142",
          "143",
          "144",
          "145",
          "146",
          "147",
          "148",
          "149",
          "150",
          "151",
          "152",
          "153",
          "154",
          "155",
          "156",
          "157",
          "158",
          "159",
          "160",
          "161",
          "162",
          "163",
          "164",
          "165",
          "166",
          "167",
          "168",
          "169",
          "170",
          "171",
          "172",
          "173",
          "174",
          "175",
          "176",
          "177",
          "178",
          "179",
          "180",
          "181",
          "182",
          "183",
          "184",
          "185",
          "186",
          "187",
          "188",
          "189",
          "190",
          "191",
          "192",
          "193",
          "194",
          "195",
          "196",
          "197",
          "198",
          "199",
          "200",
          "201",
          "202",
          "203",
          "204",
          "205",
          "206",
          "207",
          "208",
          "209",
          "210",
          "211",
          "212",
          "213",
          "214",
          "215",
          "216",
          "217",
          "218",
          "219",
          "220",
          "221",
          "222",
          "223",
          "224",
          "225",
          "226",
          "227",
          "228",
          "229",
          "230",
          "231",
          "232",
          "233",
          "234",
          "235",
          "236",
          "237",
          "238",
          "239",
          "240",
          "241",
          "242",
          "243",
          "244",
          "245",
          "246",
          "247",
          "248",
          "249",
          "250",
          "251",
          "252",
          "253",
          "254",
          "255",
          "256",
          "257",
          "258",
          "259",
          "260",
          "261",
          "262",
          "263",
          "264",
          "265",
          "266",
          "267",
          "268",
          "269",
          "270",
          "271",
          "272",
          "273",
          "274",
          "275",
          "276",
          "277",
          "278",
          "279",
          "280",
          "281",
          "282",
          "283",
          "284",
          "285",
          "286",
          "287",
          "288",
          "289",
          "290",
          "291",
          "292",
          "293",
          "294",
          "295",
          "296",
          "297",
          "298",
          "299"
         ],
         "textfont": {
          "size": 20
         },
         "textposition": "top center",
         "type": "scatter",
         "x": [
          0.00007599037780892104,
          -0.00008949675248004496,
          0.00007795156125212088,
          0.00008088488539215177,
          0.0000679832519381307,
          0.000068006178480573,
          0.00007971531886141747,
          0.00006404596206266433,
          0.000072567279858049,
          0.00007735478720860556,
          0.00007867342355893925,
          0.00007838064630050212,
          0.00008265518408734351,
          0.00008075431105680764,
          0.00007596604700665921,
          0.0000773063802625984,
          0.00007758371066302061,
          0.00008698822784936056,
          0.00006610202399315313,
          0.00007633765926584601,
          0.00007229181937873363,
          0.00007948072016006336,
          0.00007838133751647547,
          0.00007072572770994157,
          0.00007387206278508529,
          0.00008605282346252352,
          0.00008218058064812794,
          0.00007056874892441556,
          0.00007262695726240054,
          0.00008283744682557881,
          0.0000757628949941136,
          0.00007395388092845678,
          0.00007268660556292161,
          0.00008651020471006632,
          0.00007733560778433457,
          0.00008030467142816633,
          0.00007629797619301826,
          0.00007249787449836731,
          0.00008045112190302461,
          0.00008012132457224652,
          0.00008885642455425113,
          0.00008947285823523998,
          0.00005612344102701172,
          -0.03134327754378319,
          0.00008267417433671653,
          0.00007848635141272098,
          0.00008211621752707288,
          0.00007095840555848554,
          0.00006986798689467832,
          0.00010284753079758957,
          0.00008232185791712254,
          0.00007382899639196694,
          0.00007559242658317089,
          0.000021257241314742714,
          -0.00003296065915492363,
          0.00006706624844809994,
          0.00006954347190912813,
          0.00008534204971510917,
          0.00006644357927143574,
          0.00007575255585834384,
          0.00007800785533618182,
          0.0000778287067078054,
          0.00007543942774645984,
          0.00007004642975516617,
          0.0000788876714068465,
          0.00008375754987355322,
          0.00008042545960051939,
          0.00007860066398279741,
          0.00011545125744305551,
          0.0000742558331694454,
          0.00007452734280377626,
          0.00006714220944559202,
          0.00011366776016075164,
          0.00007853896386222914,
          0.00007683240983169526,
          0.00007716139953117818,
          0.00007397351146209985,
          0.00009431638318346813,
          0.00007410555554088205,
          0.00007591611938551068,
          0.00009806969319470227,
          0.00038611370837315917,
          0.00008087302558124065,
          0.00007751478551654145,
          0.00007782551983837038,
          0.00007299816206796095,
          -0.0003410425561014563,
          0.00007889288099249825,
          0.00007351300882874057,
          0.00008282745693577453,
          0.00006978668534429744,
          0.00007302575249923393,
          0.00007240341801661998,
          0.00008104785956675187,
          0.00008882088877726346,
          0.00007125388219719753,
          0.00006129879329819232,
          0.0000748112506698817,
          0.00007720074063399807,
          0.0000751348925405182,
          0.0000782763963798061,
          0.00008023862756090239,
          0.00007560338417533785,
          0.00008573992818128318,
          0.00007451251440215856,
          0.0000766040466260165,
          0.00007384628406725824,
          0.00008058491221163422,
          0.00008796473412076011,
          0.00007480933709302917,
          0.000038651254726573825,
          0.00007666583405807614,
          0.00007917409675428644,
          0.00007115040352800861,
          0.00007252606883412227,
          0.02650231495499611,
          0.00006574533472303301,
          0.00006736403156537563,
          0.00008316819730680436,
          0.00007207762246252969,
          0.00007021581404842436,
          0.00009140920883510262,
          0.00008144131425069645,
          0.00006860026041977108,
          0.0000737837835913524,
          0.00006657224002992734,
          0.00007565430860267952,
          0.00007444348011631519,
          0.00007933724555186927,
          0.00007302249287022278,
          0.00007423892384395003,
          0.0000768306344980374,
          0.00007212303171399981,
          0.00007774935511406511,
          0.00007934837776701897,
          0.00007629446918144822,
          0.00006891825614729896,
          0.00007783061300870031,
          0.00007967626152094454,
          0.00007255154196172953,
          0.00009278582001570612,
          0.00008551026985514909,
          0.00007559226651210338,
          0.00008073122444329783,
          0.00007638530223630369,
          0.00007239925616886467,
          0.00008069069008342922,
          0.00007317880226764828,
          0.00007496609032386914,
          0.0000697080758982338,
          0.00007744936738163233,
          0.000060254624258959666,
          0.0000869604991748929,
          0.00007542820821981877,
          0.0000744289718568325,
          0.0000797963875811547,
          0.00005998626147629693,
          0.00008016110950848088,
          0.00007627448940183967,
          0.0000778462053858675,
          0.00005721812340198085,
          0.00007665264274692163,
          0.00009095609857467934,
          0.00007650336192455143,
          0.00006780157127650455,
          0.000050236609240528196,
          0.00008937874372350052,
          0.00007935055327834561,
          0.00007741521403659135,
          0.00006459157157223672,
          0.00007855481817387044,
          0.00007055139576550573,
          0.00008648920629639179,
          0.000050043909141095355,
          0.00008174146933015436,
          0.0000815094681456685,
          0.00007866294617997482,
          0.0004218337999191135,
          0.00007718720007687807,
          0.00007349075167439878,
          0.00008857296779751778,
          0.00007271701178979129,
          0.00007946561527205631,
          0.00007359824667219073,
          0.00008361507207155228,
          0.00008915939542930573,
          0.00006414800009224564,
          0.00017937266966328025,
          0.0000730687243049033,
          0.0000711536267772317,
          0.0326082743704319,
          0.00008395153417950496,
          0.00007265958265634254,
          0.00007478768384316936,
          0.00008309303666464984,
          0.0001351959799649194,
          0.00008042006811592728,
          0.0000709068335709162,
          0.00006737301009707153,
          0.00009179988410323858,
          0.00008184323814930394,
          0.00007348565122811124,
          0.00007977479981491342,
          0.00007843704952392727,
          0.00007930505671538413,
          0.00007739643478998914,
          0.0000723803968867287,
          0.00008533053915016353,
          0.00007100795482983813,
          0.00007441355410264805,
          0.00007259596895892173,
          0.00008207752398448065,
          0.00007685855962336063,
          0.00007145319978008047,
          0.00007692095823585987,
          0.00007879027543822303,
          0.00009935045090969652,
          0.00008591016376158223,
          0.00007400652975775301,
          0.00007993144390638918,
          0.00006876039697090164,
          0.00007676809764234349,
          0.00007407214434351772,
          0.00007748805364826694,
          0.044433027505874634,
          0.00007068517879815772,
          0.00007595243368996307,
          0.00007269498019013554,
          0.00007924962847027928,
          0.000016055590094765648,
          0.00006609977572225034,
          0.00007506090332753956,
          0.00008406724373344332,
          0.0000739412716939114,
          0.00007663082215003669,
          0.00006971627590246499,
          0.00011134895612485707,
          0.00007617032679263502,
          0.0000780369300628081,
          0.00007687431934755296,
          0.00007835122960386798,
          0.00007931449363240972,
          0.00008048870950005949,
          0.0000937581789912656,
          0.0000720960451872088,
          0.00007680863927816972,
          0.00002316972313565202,
          0.00008694242569617927,
          0.0000799807530711405,
          0.00008067999442573637,
          0.00008143619197653607,
          0.00008372193406103179,
          -0.05571378022432327,
          0.00007073771121213213,
          0.00007688241748837754,
          0.00007460114284185693,
          0.00007443573122145608,
          0.0000855000180308707,
          0.00007090696453815326,
          0.0000727824226487428,
          0.00437286589294672,
          0.00007671148341614753,
          0.00008695056021679193,
          0.00007682260911678895,
          0.00008825804980006069,
          0.00020804467203561217,
          0.00009089295781450346,
          0.00007061273936415091,
          0.00008411363523919135,
          0.0000745864599593915,
          0.00007781216845614836,
          0.0000811410864116624,
          0.00008031130710151047,
          0.006954557728022337,
          0.00007811011892044917,
          0.00007308101339731365,
          0.00007174340134952217,
          0.0000694458867656067,
          0.00007091287261573598,
          0.00007326169725274667,
          0.00007467355317203328,
          0.00007325399201363325,
          0.00008007654832908884,
          0.00007741371518932283,
          0.00007993577310116962,
          0.000059206871810602024,
          0.00007858515891712159,
          0.00007375276618404314,
          0.00008038865053094923,
          0.00008008724398678169,
          0.00007246415771078318,
          0.00005895446156500839,
          0.00006592175486730412,
          0.000074974843300879,
          0.00009626963583286852,
          0.00007467815885320306,
          0.00007566103158751503,
          0.00006175510497996584,
          0.00008190686639863998,
          0.00006859579298179597,
          0.00007129238656489179,
          0.0000592175820202101,
          0.00007058946357574314,
          0.00007213811477413401,
          0.00006936975114513189,
          0.00008671053365105763,
          0.000058222300140187144,
          0.00007623745477758348,
          0.00008027264993870631,
          0.00007633772474946454,
          0.00007211093907244503,
          0.00007747080962872133,
          0.00008057126979110762,
          0.00007746049232082441,
          0.00007721316796960309,
          0.000087537664512638,
          0.00008164922473952174,
          0.00008110037015285343,
          0.00006561980990227312,
          0.00007138768705772236,
          0.00008242700278060511,
          0.00006686743290629238,
          -0.000011305597581667826,
          0.0000848272829898633,
          0.00007475793245248497,
          0.00007508198905270547,
          0.00007391740655293688,
          0.00008043601701501757,
          0.00009896649135043845,
          0.00006685839616693556,
          0.0000705109050613828,
          0.0000746589939808473,
          0.00007224439468700439,
          0.00006863624730613083,
          0.0000757957313908264,
          0.00008024933049455285,
          0.00008922822598833591,
          0.00007789981464156881,
          0.00007589597953483462,
          0.00008296069427160546,
          0.00008554407395422459,
          0.00007284557068487629,
          0.00006990546535234898,
          0.00006855971150798723,
          0.00008353683369932696,
          0.00008298308966914192,
          0.00008087723836069927,
          0.00006582360219908878,
          0.00007609963358845562,
          0.00008680960308993235,
          0.00007018609903752804,
          0.00007685471064178273,
          0.00007508380804210901,
          0.00009511761163594201,
          0.0000721074829925783,
          0.00007874244329286739,
          0.0000742585034458898,
          0.0000679416480124928,
          0.00006960115570109338,
          0.00007779677980579436,
          0.0000647051929263398,
          0.00008133979281410575,
          0.00007579279190395027,
          0.00007180350803537294,
          0.00006796584784751758,
          0.012763834558427334,
          0.00007201336120488122,
          0.00007843472121749073,
          0.00010344188194721937,
          0.00006799041148042306,
          0.00007850721158320084,
          0.0000702704128343612,
          0.00007553004252258688,
          0.0000721170799806714,
          0.0000773982610553503,
          0.00007664373697480187,
          0.00007983580871950835,
          0.00007915639434941113,
          -0.00023147524916566908,
          0.00009599555050954223,
          0.00007041176286293194,
          0.00007456373714376241,
          0.00006665111141046509,
          0.00006565178773598745,
          0.00008170586806954816,
          0.00006954829586902633,
          0.00008742525096749887,
          0.0000801367568783462,
          0.00006859461427666247,
          0.0000801338319433853,
          0.00007523658132413402,
          0.00007858963363105431,
          0.00007678705151192844,
          0.00007598476076964289,
          0.0000259900298260618,
          0.00006469414074672386,
          0.000076223150244914,
          0.00007703841401962563,
          0.00007063944212859496,
          0.00008285454532597214,
          0.00007507605914724991,
          0.00007657420792384073,
          0.0000762156123528257,
          0.00007432640268234536,
          0.00007536457997048274,
          0.00003402761649340391,
          0.00007377374276984483,
          0.00007979481597431004,
          0.0000738763774279505,
          0.00008380127837881446,
          0.00007986032869666815,
          0.00007751068915240467,
          0.000002995417617057683,
          0.0000679584700264968,
          0.00004916573379887268,
          0.00006180191121529788,
          0.00007594194175908342,
          0.00008499590330757201,
          0.00009982714254874736,
          0.00007999805529834703,
          0.00007789338997099549,
          0.00007197247032308951,
          0.00008014601189643145,
          0.00006488233339041471,
          0.00007185310096247122,
          0.00008276473090518266,
          0.00007755884143989533,
          0.00007885497325332835,
          0.0000681662349961698,
          0.0000750174731365405,
          0.00007713323429925367,
          0.0000715697678970173,
          0.00007995456689968705,
          0.00007363231270574033,
          0.0000784011062933132,
          0.00007492845907108858,
          0.00007572438335046172,
          0.00007776459824526682,
          0.00008704607171239331,
          0.00007290474604815245,
          0.00007447206735378131,
          0.00007557797653134912,
          0.00008890056051313877,
          0.00004094313771929592,
          0.00007476680912077427,
          0.00007319868018385023,
          0.00007896750321378931,
          0.00008200130832847208,
          0.00007687857578275725,
          0.0000753287022234872,
          0.00006832517101429403,
          0.00009934409172274172,
          0.00008495084330206737,
          -0.00002303185647178907,
          0.00007931297295726836,
          0.00007500901847379282,
          0.00007481081411242485,
          0.00007266532338690013,
          0.00006748030136805028,
          0.00017719846800900996,
          0.0000737067312002182,
          0.00008917929517338052,
          0.00007701456343056634,
          0.00006861538713565096,
          0.00007142016693251207,
          0.00007955831824801862,
          0.00014569533232133836,
          0.00007307468331418931,
          0.00007499328057747334,
          0.0000932398033910431,
          0.00006890352960908785,
          0.00008146053733071312,
          0.00007255138189066201,
          0.00006846466567367315,
          0.00006568160461029038,
          0.00007708434714004397,
          0.0000725496793165803,
          0.00007401357288472354,
          0.00007470204582205042,
          0.0000779646506998688,
          0.00007633075438207015,
          0.00009274654439650476,
          0.00008250580867752433,
          0.00008001719106687233,
          0.00007131962047424167,
          0.00007386554352706298,
          0.0000790290578152053,
          0.00008062533015618101,
          0.00008617246930953115,
          0.0000817515974631533,
          0.00006449766078731045,
          0.016977136954665184,
          -0.012783786281943321,
          0.00008030693425098434,
          0.00007126887794584036,
          0.00008800685463938862,
          0.0000863666573422961,
          0.00007999822264537215,
          0.00007389582606265321,
          0.00007102208473952487,
          0.00005663817501044832,
          0.0000696767820045352,
          0.00007939176430227235,
          0.00007044114317977801,
          0.00006245636905077845,
          0.0000964379942161031,
          0.00006947494694031775,
          0.00007115232438081875,
          0.00007612910849275067,
          0.00007078514317981899,
          0.00006433861562982202,
          0.00007858072058297694,
          0.00006535572902066633,
          0.00007257928518811241,
          0.00007805218046996742,
          0.00008093324140645564,
          0.00007908954285085201,
          0.0000823476366349496,
          0.00007845587242627516,
          0.00007270985224749893,
          0.00008426038402831182,
          0.00007349078805418685,
          0.00007329398795263842,
          0.00006732592009939253,
          0.00007610630564158782,
          0.00006863327871542424,
          0.0000850210853968747,
          0.00009179360495181754,
          0.00007266111060744151,
          0.00007054233719827607,
          0.00007427980017382652,
          0.00007035117596387863,
          0.00008363917731912807,
          0.00007523885869886726,
          0.00007238830585265532,
          0.00008179646829375997,
          0.00021949544316157699,
          0.00007097553316270933,
          0.00007501491199946031,
          0.0001166951478808187,
          0.00007270254718605429,
          0.00007533441385021433,
          0.00007041110075078905,
          0.00006518383452203125,
          0.00007759682921459898,
          0.00007837639714125544,
          0.000075960808317177,
          0.00007441479829140007,
          0.00007140496745705605,
          0.00008670496754348278,
          0.00007715145329711959,
          0.00007506172551074997,
          0.00012784496357198805,
          0.00007344080950133502,
          0.00008959437400335446,
          0.00008000991510925815,
          0.00008313908620039001,
          0.00007978193752933294,
          0.00008754296140978113,
          0.0000874432225828059,
          0.00007375441055046394,
          0.00007336109410971403,
          0.00008249012898886576,
          0.00008042882836889476,
          0.00008176244591595605,
          0.00007722504960838705,
          0.00006866607145639136,
          0.00005710616824217141,
          0.00007750371150905266,
          0.00008481932309223339,
          0.00007696069224039093,
          0.00006734674389008433,
          0.00007881709461798891,
          0.0000767036181059666,
          0.00007885754166636616,
          0.00008064337453106418,
          0.00007604428537888452,
          0.00006305243005044758,
          0.00008638483996037394,
          0.00007600532262586057,
          0.00007699619163759053,
          0.0000807305914349854,
          0.00007374729466391727,
          0.00008946401794673875,
          0.00005098693509353325,
          0.00008557507680961862,
          0.00007840383477741852,
          0.00008441587851848453,
          0.00010158099030377343,
          0.00007143788388930261,
          0.00007868142711231485,
          0.00007670506602153182,
          0.00008827659621601924,
          0.00007772802928229794,
          0.0024796000216156244,
          0.00007606153667438775,
          0.00007624821591889486,
          0.00008406078995903954,
          0.00007978426583576947,
          0.00007556258060503751,
          0.0000784642033977434,
          0.00007657208334421739,
          0.000051043214625678957,
          0.00007617238588863984,
          0.00009644498641137034,
          0.00008334364247275516,
          0.00007812924013705924,
          0.00007447368261637166,
          0.00008511379564879462,
          0.00008048082236200571,
          0.00007271610229508951,
          0.00007189482857938856,
          0.00007546758570242673,
          0.00007447881216648966,
          0.00007644914148841053,
          0.0000774720247136429,
          0.00007383950287476182,
          0.00007035801536403596,
          0.00007855935109546408,
          0.00008207612700061873,
          0.00007554644253104925,
          0.00006933039549039677,
          0.00008045318827498704,
          0.00007759378058835864,
          0.00007353230466833338,
          0.00007113376341294497,
          0.00006936417048564181,
          0.00021657344768755138,
          0.00011968628678005189,
          0.0000822655638330616,
          0.00008657843864057213,
          0.00011912320042029023,
          0.00007357227150350809,
          0.00008943963621277362,
          0.00007288102642633021,
          0.00007364242628682405,
          0.00007354649278568104,
          0.00007825370266800746,
          0.00008268196688732132,
          0.00007601839024573565,
          0.0000675741393934004,
          0.0000675885530654341,
          0.00008221891039283946,
          0.00007718190317973495,
          0.00007956483750604093,
          0.00007526558329118416,
          0.0000627026820438914,
          0.00006542268965858966,
          0.00008389945287490264,
          0.00007724811439402401,
          0.00007819172606104985,
          0.00007749659562250599,
          0.00006894186662975699,
          0.00006941317406017333,
          0.00007859650941099972,
          0.00005180464359000325,
          0.00008309831900987774,
          0.0000568685973121319,
          0.00007625205034855753,
          -0.11231034994125366,
          0.00007390324753941968,
          0.00007243462459882721,
          0.00006741871766280383,
          0.00007315066613955423,
          0.00008192579844035208,
          0.011460886336863041,
          0.00008215068373829126,
          0.00007599673699587584,
          0.00008365570829482749,
          0.00005808158311992884,
          0.00007971201557666063,
          0.00007723696762695909,
          0.00008682061161380261,
          -0.0035098548978567123,
          0.00007649708277313039,
          0.00007795761484885588,
          0.00007250968337757513,
          0.00005743482688558288,
          0.00007959076901897788,
          0.00009706330456538126,
          0.00007773069955874234,
          0.00008466486178804189,
          0.0000661347366985865,
          0.00009107567893806845,
          0.00004887023169430904,
          0.0000747093727113679,
          0.00007436133455485106,
          0.00007757901039440185,
          0.00007490075950045139,
          0.00006140844925539568,
          0.00007666369492653757,
          0.00007863590872148052,
          0.00007677912071812898,
          0.00007525590626755729,
          0.00007758272113278508,
          0.00008186740888049826,
          0.0000826396862976253,
          0.00007818912854418159,
          0.00006464397301897407,
          0.00005982366928947158,
          0.00007365562487393618,
          0.00007072830339893699,
          -0.02023881860077381,
          0.0000745875877328217,
          0.00007186717994045466,
          0.000013963417586637661,
          0.00007818637095624581,
          0.000005938718913967023,
          0.00019376055570319295,
          0.00008190138032659888,
          0.0003344195429235697,
          0.00007916546746855602,
          0.00008783426164882258,
          0.00007721288420725614,
          0.0000735996727598831,
          0.0000774063664721325,
          0.00007999745139386505,
          0.00007157785148592666,
          0.00007176565122790635,
          0.00007584002014482394,
          0.0000846838956931606,
          0.00006464227772084996,
          0.00007083464879542589,
          0.00007759407162666321,
          0.00008814199100015685,
          0.0000745962533983402,
          0.00006481904711108655,
          0.00007891702261986211,
          0.0000731922045815736,
          0.00007885984814492986,
          0.00006885214679641649,
          0.00007065749377943575,
          0.00007737008127151057,
          0.00007537147757830098,
          0.00007315559196285903,
          0.00007371328683802858,
          0.00008620902372058481,
          0.00006518240115838125,
          0.00007900991477072239,
          0.00007778182771289721,
          0.00006695587944705039,
          0.00008435203199042007,
          0.00007228294271044433,
          0.00007070766150718555,
          0.00007291248039109632,
          0.00008434131450485438,
          0.00008157424599630758,
          0.00007166356226662174,
          0.00008125630847644061,
          0.00009253954340238124,
          0.00007831476250430569,
          0.00007023492798907682,
          0.00007718727283645421,
          0.00007268095214385539,
          0.00007545531843788922,
          0.00007569567969767377,
          0.00008444542618235573,
          0.00010749449575087056,
          0.00008501193224219605,
          0.0000775488224462606,
          0.00007449155964422971
         ],
         "y": [
          0.00010292850492987782,
          0.00011673995322780684,
          0.00011663835903163999,
          0.00011431743769207969,
          0.00012086096830898896,
          0.00011585332686081529,
          0.00010747188207460567,
          0.0001107067582779564,
          0.00011449376324890181,
          0.00011052711488446221,
          0.00011858849029522389,
          0.0001074285974027589,
          0.00011580127466004342,
          0.00011207594070583582,
          0.00011251693649683148,
          0.00011182902380824089,
          0.0001051679573720321,
          0.0001156981525127776,
          0.00012055502156727016,
          0.0001203266583615914,
          0.00010882137576118112,
          0.000104877857665997,
          0.00011279259342700243,
          0.00011844819528050721,
          0.000111018045572564,
          0.00009968148515326902,
          0.00011709537648130208,
          0.00011167806951561943,
          0.00012313519255258143,
          0.0001110778030124493,
          0.00011343659571139142,
          0.00012008361954940483,
          0.00010717589611886069,
          0.00010492391447769478,
          0.00011568320769583806,
          0.00011073498899349943,
          0.0001210152477142401,
          0.00011405118857510388,
          0.00011139521666336805,
          0.00010865522199310362,
          0.00011014740448445082,
          0.00012086033530067652,
          0.00011805767280748114,
          0.00232207914814353,
          0.00010297469270881265,
          0.00012716931814793497,
          0.00013262841093819588,
          0.00010800093878060579,
          0.00011371813889127225,
          0.00037173053715378046,
          0.00010962825763272122,
          -0.00001856360540841706,
          0.00011989033373538405,
          0.00012453951057977974,
          0.00018052819359581918,
          0.00011599843855947256,
          0.00010918089537881315,
          0.0001272612134926021,
          0.00011177016131114215,
          0.00011260371684329584,
          0.00011261447798460722,
          0.00009809382754610851,
          0.0001158847298938781,
          0.00011245814675930887,
          0.00011743435607058927,
          0.00015757331857457757,
          0.00012081376917194575,
          0.00011619491124292836,
          0.00009410247002961114,
          0.00011421826638979837,
          0.00011200833978364244,
          0.00012057425919920206,
          0.00011491014447528869,
          0.00011819192877737805,
          0.00010598942026263103,
          0.00011130653729196638,
          0.00012010472710244358,
          0.00009760056855157018,
          0.00012089904339518398,
          0.00010627699521137401,
          0.0001006165039143525,
          -0.0000434288231190294,
          0.00010862918134080246,
          0.00011320567864459008,
          0.00010712859511841089,
          0.00011946450831601396,
          0.00013200686953496188,
          0.00011570715287234634,
          0.00010524528624955565,
          0.00010901152563747019,
          0.00011069308675359935,
          0.00010384873166913167,
          0.0001123211914091371,
          0.00011113850632682443,
          0.00007846567314118147,
          0.0001079788344213739,
          0.00011656626884359866,
          0.00011584354797378182,
          0.00011757486208807677,
          0.00011450185411376879,
          0.00011447370343375951,
          0.00011316545715089887,
          0.0001038816844811663,
          0.0001150218813563697,
          0.00011351561988703907,
          0.00010777245188364759,
          0.00011542771972017363,
          0.00010874492727452889,
          0.00010627655137795955,
          0.00011919646203750744,
          0.00011626038030954078,
          0.0001311638770857826,
          0.00011023653496522456,
          0.00010761745943455026,
          0.00009710027370601892,
          -0.039842914789915085,
          0.00012376987433526665,
          0.00011717802408384159,
          0.00010550014121690765,
          0.00010560706141404808,
          -0.00011932905908906832,
          0.00008374314347747713,
          0.00011039591481676325,
          0.00011243882909184322,
          0.000106016181234736,
          0.0001121802706620656,
          0.0001100676236092113,
          0.00007431727135553956,
          0.00011909416934940964,
          0.00011451786122051999,
          0.00011667525541270152,
          0.0001174704812001437,
          0.00010899948392761871,
          0.00011648345389403403,
          0.00011930742766708136,
          0.00012005065946141258,
          0.00011597134289331734,
          0.00010286514589097351,
          0.00010887055395869538,
          0.00011380121577531099,
          0.00010012892016675323,
          0.00012351009354460984,
          0.00011273457494098693,
          0.00010941547225229442,
          0.00011782092042267323,
          0.00011576159886317328,
          0.00012044588947901502,
          0.00011684390483424067,
          0.00011283093772362918,
          0.00011004262341884896,
          0.00011822846136055887,
          0.00011949273175559938,
          0.00011386127880541608,
          0.0001100483859772794,
          0.0001231016212841496,
          0.00011129965423606336,
          0.00011645442282315344,
          0.00011383593664504588,
          0.00010823615593835711,
          0.00011066545266658068,
          0.00011546991299837828,
          0.00011236144200665876,
          0.00011115233064629138,
          0.00011743389040930197,
          0.0001327051577391103,
          0.0001085261901607737,
          0.00009814377699512988,
          0.00010696456592995673,
          0.00011036684009013698,
          0.00010960923827951774,
          0.00011000721860909835,
          0.00012055193656124175,
          0.00010457408643560484,
          0.00011215417180210352,
          0.00011872872710227966,
          0.00011017506039934233,
          0.00010777007264550775,
          -0.0011520800180733204,
          0.00011897563672391698,
          0.00011086605809396133,
          0.00011225138587178662,
          0.0001136887221946381,
          0.00011423994146753103,
          0.0001158359955297783,
          0.00012058606080245227,
          0.00010507462138775736,
          0.00012298166984692216,
          0.00005866603896720335,
          0.00011332950816722587,
          0.00011114964581793174,
          0.04269484430551529,
          0.00011510389595059678,
          0.00011524325236678123,
          0.0001068995043169707,
          0.00010777352144941688,
          0.00011040471872547641,
          0.00011786157119786367,
          0.00010378858132753521,
          0.0001120925007853657,
          0.00012228103878442198,
          0.00011646198981907219,
          0.00011532290955074131,
          0.00011497820378281176,
          0.00011646442726487294,
          0.00010891946294577792,
          0.00011038887896575034,
          0.00011633725807769224,
          0.00010972104064421728,
          0.0001118621148634702,
          0.00011545650340849534,
          0.0001180523177026771,
          0.00011238908336963505,
          0.00012194577720947564,
          0.00011632265523076057,
          0.0001156794314738363,
          0.00011250295938225463,
          0.00011121592251583934,
          0.0001145715286838822,
          0.00011484693823149428,
          0.00011874552728841081,
          0.00011747331882361323,
          0.00011112319043604657,
          0.00011956824891967699,
          0.00011699274909915403,
          -0.02258274145424366,
          0.00011037306830985472,
          0.00012517267896328121,
          0.00011112393985968083,
          0.00011098835966549814,
          0.0001092038000933826,
          0.00011962596181547269,
          0.00011789436393883079,
          0.00011787093535531312,
          0.00011449443263700232,
          0.00011222853936487809,
          0.00012659809726756066,
          0.00038932941970415413,
          0.00011626876948866993,
          0.00010953041783068329,
          0.00011584055027924478,
          0.00012050065561197698,
          0.0001081802329281345,
          0.00011658204311970621,
          0.00010672990174498409,
          0.00010975002078339458,
          0.00012000380957033485,
          -0.002324149012565613,
          0.00011369746789569035,
          0.00010925358947133645,
          0.00011860902304761112,
          0.00010733382805483416,
          0.0001145263304351829,
          -0.023186253383755684,
          0.00011938944226130843,
          0.0001088477874873206,
          0.00010999345977324992,
          0.00012161056656623259,
          0.00014034376363269985,
          0.00011674600682454184,
          0.00010582464165054262,
          -0.0019765023607760668,
          0.00011357737093931064,
          0.0001369054225506261,
          0.00011779225314967334,
          0.00007809535600244999,
          0.00009719898662297055,
          0.0001154599740402773,
          0.00012203821097500622,
          0.00008950226765591651,
          0.00011012259346898645,
          0.00011172159429406747,
          0.00011416255438234657,
          0.00011790593998739496,
          -0.0004406777152325958,
          0.00011276661098236218,
          0.00012124744534958154,
          0.00010872501297853887,
          0.00011021181126125157,
          0.0001242944854311645,
          0.00010918706539086998,
          0.00011621112935245037,
          0.00010891263809753582,
          0.00011144141899421811,
          0.00011467259901110083,
          0.00011925074068130925,
          0.00007586822903249413,
          0.00010581156675470993,
          0.0001085221374523826,
          0.00017265777569264174,
          0.00010775704140542075,
          0.0001177402155008167,
          0.00010994408512488008,
          0.00011970461491728202,
          0.00011513348727021366,
          0.00010223945719189942,
          0.00010679660044843331,
          0.00010213493078481406,
          0.0001130962700699456,
          0.0001078216009773314,
          0.00011304250074317679,
          0.0001161477412097156,
          0.00011974752851529047,
          0.00010970341099891812,
          0.00011510954209370539,
          0.00012346722360234708,
          0.00011120762792415917,
          0.00011967904720222577,
          0.00011668626393657178,
          0.00011693621490849182,
          0.00011714769061654806,
          0.00011975917732343078,
          0.00012087744107702747,
          0.00011439153604442254,
          0.00011418884241720662,
          0.0001138087100116536,
          0.0000994571455521509,
          0.00011768614058382809,
          0.0001265177270397544,
          0.00012508411600720137,
          0.00010900411871261895,
          0.00011835496843559667,
          0.00011243572225794196,
          -0.00004721751975012012,
          0.0001251586654689163,
          0.00010852418199647218,
          0.00012469822831917554,
          0.00011375810572644696,
          0.0001106604904634878,
          0.00004366186840343289,
          0.00012254893954377621,
          0.0001142836845247075,
          0.00011643963807728142,
          0.0001202022613142617,
          0.00011253371485508978,
          0.00011781489592976868,
          0.00011661900498438627,
          0.00011956023809034377,
          0.00011746725795092061,
          0.00011682634067256004,
          0.0001161945765488781,
          0.0000983116333372891,
          0.00012061704182997346,
          0.00011555807577678934,
          0.0001105118717532605,
          0.00011644150072243065,
          0.00008647801587358117,
          0.00010687106259865686,
          0.00012770477042067796,
          0.00010924071102635935,
          0.00011294044088572264,
          0.00010837600711965933,
          0.00010633355850586668,
          0.00010739473509602249,
          0.00005199638690100983,
          0.00011331994755892083,
          0.00011306982923997566,
          0.00011771940626204014,
          0.00011019138764822856,
          0.00010929492418654263,
          0.00011221790919080377,
          0.00011042343976441771,
          0.00011856743367388844,
          0.00010980397928506136,
          0.00010798826406244189,
          0.00011845006520161405,
          0.0372302420437336,
          0.00011893288319697604,
          0.00011229960364289582,
          0.0003002726589329541,
          0.00011616269330261275,
          0.00011718569294316694,
          0.00011257045844104141,
          0.00011855339835165069,
          0.00011004992120433599,
          0.00011280878243269399,
          0.00011751044075936079,
          0.00012019664427498356,
          0.00010979496437357739,
          0.000314195902319625,
          0.00012192738358862698,
          0.00011146313772769645,
          0.00010919327178271487,
          0.00011869380250573158,
          0.00010959243809338659,
          0.0001100454101106152,
          0.00012163996143499389,
          0.00011453792831161991,
          0.00011438065121183172,
          0.00011977850954281166,
          0.00011577898112591356,
          0.0001132304169004783,
          0.00011474652274046093,
          0.0001014735535136424,
          0.00011789805284934118,
          0.000134240894112736,
          0.00012030712969135493,
          0.00011539454135345295,
          0.00011544199514901266,
          0.00010486471001058817,
          0.0001104690381907858,
          0.00011488359450595453,
          0.00010404187923995778,
          0.00010412067058496177,
          0.00010841408948181197,
          0.00010614224447635934,
          0.00012991984840482473,
          0.00011582473962334916,
          0.00011285708023933694,
          0.0001197751407744363,
          0.00010638829553499818,
          0.00011361403448972851,
          0.00010883728100452572,
          0.00012643536319956183,
          0.00010906115494435653,
          0.0001140149324783124,
          0.00011871472088387236,
          0.0001056543187587522,
          0.00012283571413718164,
          0.000050664817536016926,
          0.00011598232958931476,
          0.00011671479296637699,
          0.00010548486898187548,
          0.00010839064634637907,
          0.00013846172078046948,
          0.00011776680184993893,
          0.00011508644092828035,
          0.00011420393275329843,
          0.00011216318671358749,
          0.00011424924014136195,
          0.00011375527537893504,
          0.00010914949234575033,
          0.00011050982720917091,
          0.00011379379429854453,
          0.00011590585199883208,
          0.00012075142149114981,
          0.00010004085197579116,
          0.00011104824079666287,
          0.00012500330922193825,
          0.00012148792302468792,
          0.00011263763008173555,
          0.00011459110100986436,
          0.00011577901750570163,
          0.00010913854202954099,
          0.00014194413961376995,
          0.0001126796705648303,
          0.0000841714208945632,
          0.00011809233546955511,
          0.00011869804438902065,
          0.00011383141827536747,
          0.00010748664499260485,
          0.0001136645587394014,
          0.00010104238026542589,
          0.0001131021708715707,
          0.00012808154860977083,
          0.00009902558667818084,
          0.00011158541747136042,
          0.00011447211727499962,
          0.00010740783181972802,
          0.00006173532165121287,
          0.00009342673001810908,
          0.00011775890743592754,
          0.00007177137740654871,
          0.00011027607251890004,
          0.00011645850463537499,
          0.00010892860882449895,
          0.0001085078765754588,
          -0.00016886586672626436,
          0.00011909838212886825,
          0.00011952340719290078,
          0.00004315610567573458,
          0.00011482728586997837,
          0.00011978234397247434,
          0.00011355562310200185,
          0.00011744388029910624,
          0.00011449753219494596,
          0.00011094937508460134,
          0.00011778270709328353,
          0.00011104786244686693,
          0.00010614505299599841,
          0.00011482418631203473,
          0.00011368577543180436,
          0.0001013784931274131,
          0.00010497110633878037,
          0.00012015722313662991,
          0.00011616504343692213,
          0.00012068240903317928,
          0.00012581777991726995,
          0.00011032914335373789,
          0.00011704157805070281,
          0.0001110116791096516,
          0.00012076388520654291,
          -0.025809548795223236,
          -0.02637232281267643,
          0.00011867597640957683,
          0.0001363383635180071,
          0.00010690653289202601,
          0.00011350829299772158,
          0.00009825881716096774,
          0.00011750838893931359,
          0.00011353075387887657,
          0.00012322768452577293,
          0.00012040809087920934,
          0.00010890788689721376,
          0.00011048439046135172,
          0.00011524151341291144,
          0.00003587644096114673,
          0.00012221347424201667,
          0.0001119237276725471,
          0.00011614411050686613,
          0.00011848926078528166,
          0.00009493627294432372,
          0.00010840930190170184,
          0.0001100282315746881,
          0.00012182042701169848,
          0.00011620137956924736,
          0.0001150158277596347,
          0.0001133463520091027,
          0.00011514582729432732,
          0.00011386111873434857,
          0.00011040408571716398,
          0.00011602104495977983,
          0.00010871949780266732,
          0.0001176836813101545,
          0.0001199466860271059,
          0.00011932472989428788,
          0.00011051144974771887,
          0.0001034542074194178,
          0.00009043818863574415,
          0.00010086211113957688,
          0.00011342503421474248,
          0.000113490859803278,
          0.00011009587615262717,
          0.0001070400103344582,
          0.00010821437172126025,
          0.00011661396274575964,
          0.00011466882278909907,
          -0.00011934120993828401,
          0.00011294654541416094,
          0.00009138358291238546,
          0.0001898348709801212,
          0.00011108063335996121,
          0.00011863815598189831,
          0.00011500847176648676,
          0.00011575956887099892,
          0.00010837390436790884,
          0.00010063234367407858,
          0.00011958202958339825,
          0.00011904091661563143,
          0.00011153840023325756,
          0.00013470671547111124,
          0.00011915082723135129,
          0.00011586321488721296,
          0.00011337125033605844,
          0.00011209281365154311,
          0.00010630566976033151,
          0.00012002820585621521,
          0.0001055445391102694,
          0.00011370392894605175,
          0.00011269776587141678,
          0.0000992401473922655,
          0.00011304687359370291,
          0.00011159563291585073,
          0.00010987142741214484,
          0.00012185971718281507,
          0.00011856026685563847,
          0.00009058980504050851,
          0.00010806300269905478,
          0.00012460476136766374,
          0.00010913542791968212,
          0.00011670999083435163,
          0.0001006238890113309,
          0.00011423275282140821,
          0.00012370133481454104,
          0.00009113668784266338,
          0.00012278123176656663,
          0.00011099505354650319,
          0.00011655326670734212,
          0.0001253963855560869,
          0.00010704741725930944,
          0.00011753787839552388,
          0.00011057656956836581,
          0.00011325059313094243,
          0.00011728307435987517,
          0.00010632267367327586,
          0.00011601504957070574,
          0.00010703452426241711,
          0.00011442032700870186,
          0.00011332245776429772,
          -0.000027205291189602576,
          0.00010627342271618545,
          0.00012083294132025912,
          0.00011504519352456555,
          0.00010599487723084167,
          0.0001075338150258176,
          0.027580875903367996,
          0.00011905282008228824,
          0.00011531363998074085,
          0.0001207559325848706,
          0.00011882885155500844,
          0.00010984730033669621,
          0.00012326228898018599,
          0.00011604154133237898,
          0.00011224197805859149,
          0.00010508811828913167,
          0.0001485944667365402,
          0.00011126435128971934,
          0.00010011767881223932,
          0.0001173428536276333,
          0.00011757962056435645,
          0.0001248690823558718,
          0.00010147061402676627,
          0.00011333666770951822,
          0.00011342881771270186,
          0.00011911047477042302,
          0.00011530031770234928,
          0.00010845946962945163,
          0.00010727820335887372,
          0.00011658317089313641,
          0.00011166831973241642,
          0.0001125153066823259,
          0.00011892251495737582,
          0.00009878670243779197,
          0.00008137435361277312,
          0.00011878267832798883,
          0.00010733967792475596,
          0.00011033827468054369,
          0.00011486470611998811,
          0.00006686028063995764,
          0.0002048430615104735,
          0.00010691178613342345,
          0.0001083529568859376,
          0.00009696561028249562,
          0.00010895725426962599,
          0.00011347393592586741,
          0.00010674264922272414,
          0.0001200615952257067,
          0.0001074406027328223,
          0.00012057227286277339,
          0.00011118034308310598,
          0.00011451486352598295,
          0.00011158439156133682,
          0.00010688178736018017,
          0.00011380585783626884,
          0.00011658838047878817,
          0.00010829472739715129,
          0.00012162468919996172,
          0.00011058160453103483,
          0.00012432786752469838,
          0.00011189399810973555,
          0.00011606496263993904,
          0.00011801290384028107,
          0.00011443790572229773,
          0.00011840569641208276,
          0.00011763077054638416,
          0.00011337779142195359,
          0.000119607757369522,
          0.00011460367386462167,
          0.00012353599595371634,
          0.00011701785842888057,
          -0.04747142642736435,
          0.00011764703231165186,
          0.0001186870940728113,
          0.00011568582704057917,
          0.00010629063763190061,
          0.00012029318895656615,
          -0.040122099220752716,
          0.00011099899711553007,
          0.00011416531924623996,
          0.0001163912020274438,
          0.00011390040162950754,
          0.00010341246525058523,
          0.00011227206414332613,
          0.00011825325054815039,
          0.001037311740219593,
          0.00012173059076303616,
          0.00011382306547602639,
          0.00011558527330635116,
          0.00012562957999762148,
          0.00010510213178349659,
          0.00009992602281272411,
          0.00011999881826341152,
          0.00010622080299071968,
          0.00010936235776171088,
          0.00014309983816929162,
          0.00011378974886611104,
          0.00011920699034817517,
          0.00012313679326325655,
          0.00011801309301517904,
          0.0001055594184435904,
          0.00011925961007364094,
          0.00011884277046192437,
          0.00011594963143579662,
          0.00011919026292162016,
          0.00011398103379178792,
          0.00009077414142666385,
          0.00011479193199193105,
          0.00011192175588803366,
          0.00011011327296728268,
          0.00011609029024839401,
          0.00011027166328858584,
          0.00009755598148331046,
          0.00011734324652934447,
          0.012876822613179684,
          0.00011537834507180378,
          0.00011400848597986624,
          0.000150922205648385,
          0.00011919078679056838,
          0.00015572152915410697,
          0.00009897392737912014,
          0.000111296700197272,
          -0.00021976449352223426,
          0.00011514974175952375,
          0.00010779777949210256,
          0.00011230801464989781,
          0.00011517841630848125,
          0.00011162744340253994,
          0.00011604884639382362,
          0.00012120743485866114,
          0.00010563146497588605,
          0.00012079810403520241,
          0.00010474317241460085,
          0.00012646881805267185,
          0.000105408595118206,
          0.00011659150186460465,
          0.00010688113979995251,
          0.00009724665142130107,
          0.00011369871936039999,
          0.00011005898704752326,
          0.00011750225530704483,
          0.00010668880713637918,
          0.00011669163359329104,
          0.00010957303311442956,
          0.00010874530562432483,
          0.00012152318231528625,
          0.0001173075579572469,
          0.00011614349205046892,
          0.0001050004138960503,
          0.00012161515041952953,
          0.0001109721779357642,
          0.00011903513222932816,
          0.00011485930008348078,
          0.00011600378638831899,
          0.00010571275925030932,
          0.000102622238046024,
          0.00011022543185390532,
          0.00011828607239294797,
          0.0001064683310687542,
          0.0001168006201623939,
          0.00011139816342620179,
          0.00006664873944828287,
          0.0001194519063574262,
          0.00012060530571034178,
          0.00011105381418019533,
          0.00010816324356710538,
          0.00012002828589174896,
          0.00011742603237507865,
          0.0001180890467367135,
          0.00011682043987093493,
          0.00010876788292080164,
          0.00010985483095282689,
          0.00011225630441913381
         ]
        }
       ],
       "layout": {
        "autosize": false,
        "font": {
         "family": " Courier New ",
         "size": 15
        },
        "height": 1000,
        "legend": {
         "font": {
          "color": "black",
          "family": "Courier New",
          "size": 25
         },
         "x": 1,
         "y": 0.5
        },
        "margin": {
         "b": 0,
         "l": 0,
         "r": 0,
         "t": 0
        },
        "showlegend": true,
        "template": {
         "data": {
          "bar": [
           {
            "error_x": {
             "color": "#2a3f5f"
            },
            "error_y": {
             "color": "#2a3f5f"
            },
            "marker": {
             "line": {
              "color": "#E5ECF6",
              "width": 0.5
             }
            },
            "type": "bar"
           }
          ],
          "barpolar": [
           {
            "marker": {
             "line": {
              "color": "#E5ECF6",
              "width": 0.5
             }
            },
            "type": "barpolar"
           }
          ],
          "carpet": [
           {
            "aaxis": {
             "endlinecolor": "#2a3f5f",
             "gridcolor": "white",
             "linecolor": "white",
             "minorgridcolor": "white",
             "startlinecolor": "#2a3f5f"
            },
            "baxis": {
             "endlinecolor": "#2a3f5f",
             "gridcolor": "white",
             "linecolor": "white",
             "minorgridcolor": "white",
             "startlinecolor": "#2a3f5f"
            },
            "type": "carpet"
           }
          ],
          "choropleth": [
           {
            "colorbar": {
             "outlinewidth": 0,
             "ticks": ""
            },
            "type": "choropleth"
           }
          ],
          "contour": [
           {
            "colorbar": {
             "outlinewidth": 0,
             "ticks": ""
            },
            "colorscale": [
             [
              0,
              "#0d0887"
             ],
             [
              0.1111111111111111,
              "#46039f"
             ],
             [
              0.2222222222222222,
              "#7201a8"
             ],
             [
              0.3333333333333333,
              "#9c179e"
             ],
             [
              0.4444444444444444,
              "#bd3786"
             ],
             [
              0.5555555555555556,
              "#d8576b"
             ],
             [
              0.6666666666666666,
              "#ed7953"
             ],
             [
              0.7777777777777778,
              "#fb9f3a"
             ],
             [
              0.8888888888888888,
              "#fdca26"
             ],
             [
              1,
              "#f0f921"
             ]
            ],
            "type": "contour"
           }
          ],
          "contourcarpet": [
           {
            "colorbar": {
             "outlinewidth": 0,
             "ticks": ""
            },
            "type": "contourcarpet"
           }
          ],
          "heatmap": [
           {
            "colorbar": {
             "outlinewidth": 0,
             "ticks": ""
            },
            "colorscale": [
             [
              0,
              "#0d0887"
             ],
             [
              0.1111111111111111,
              "#46039f"
             ],
             [
              0.2222222222222222,
              "#7201a8"
             ],
             [
              0.3333333333333333,
              "#9c179e"
             ],
             [
              0.4444444444444444,
              "#bd3786"
             ],
             [
              0.5555555555555556,
              "#d8576b"
             ],
             [
              0.6666666666666666,
              "#ed7953"
             ],
             [
              0.7777777777777778,
              "#fb9f3a"
             ],
             [
              0.8888888888888888,
              "#fdca26"
             ],
             [
              1,
              "#f0f921"
             ]
            ],
            "type": "heatmap"
           }
          ],
          "heatmapgl": [
           {
            "colorbar": {
             "outlinewidth": 0,
             "ticks": ""
            },
            "colorscale": [
             [
              0,
              "#0d0887"
             ],
             [
              0.1111111111111111,
              "#46039f"
             ],
             [
              0.2222222222222222,
              "#7201a8"
             ],
             [
              0.3333333333333333,
              "#9c179e"
             ],
             [
              0.4444444444444444,
              "#bd3786"
             ],
             [
              0.5555555555555556,
              "#d8576b"
             ],
             [
              0.6666666666666666,
              "#ed7953"
             ],
             [
              0.7777777777777778,
              "#fb9f3a"
             ],
             [
              0.8888888888888888,
              "#fdca26"
             ],
             [
              1,
              "#f0f921"
             ]
            ],
            "type": "heatmapgl"
           }
          ],
          "histogram": [
           {
            "marker": {
             "colorbar": {
              "outlinewidth": 0,
              "ticks": ""
             }
            },
            "type": "histogram"
           }
          ],
          "histogram2d": [
           {
            "colorbar": {
             "outlinewidth": 0,
             "ticks": ""
            },
            "colorscale": [
             [
              0,
              "#0d0887"
             ],
             [
              0.1111111111111111,
              "#46039f"
             ],
             [
              0.2222222222222222,
              "#7201a8"
             ],
             [
              0.3333333333333333,
              "#9c179e"
             ],
             [
              0.4444444444444444,
              "#bd3786"
             ],
             [
              0.5555555555555556,
              "#d8576b"
             ],
             [
              0.6666666666666666,
              "#ed7953"
             ],
             [
              0.7777777777777778,
              "#fb9f3a"
             ],
             [
              0.8888888888888888,
              "#fdca26"
             ],
             [
              1,
              "#f0f921"
             ]
            ],
            "type": "histogram2d"
           }
          ],
          "histogram2dcontour": [
           {
            "colorbar": {
             "outlinewidth": 0,
             "ticks": ""
            },
            "colorscale": [
             [
              0,
              "#0d0887"
             ],
             [
              0.1111111111111111,
              "#46039f"
             ],
             [
              0.2222222222222222,
              "#7201a8"
             ],
             [
              0.3333333333333333,
              "#9c179e"
             ],
             [
              0.4444444444444444,
              "#bd3786"
             ],
             [
              0.5555555555555556,
              "#d8576b"
             ],
             [
              0.6666666666666666,
              "#ed7953"
             ],
             [
              0.7777777777777778,
              "#fb9f3a"
             ],
             [
              0.8888888888888888,
              "#fdca26"
             ],
             [
              1,
              "#f0f921"
             ]
            ],
            "type": "histogram2dcontour"
           }
          ],
          "mesh3d": [
           {
            "colorbar": {
             "outlinewidth": 0,
             "ticks": ""
            },
            "type": "mesh3d"
           }
          ],
          "parcoords": [
           {
            "line": {
             "colorbar": {
              "outlinewidth": 0,
              "ticks": ""
             }
            },
            "type": "parcoords"
           }
          ],
          "pie": [
           {
            "automargin": true,
            "type": "pie"
           }
          ],
          "scatter": [
           {
            "marker": {
             "colorbar": {
              "outlinewidth": 0,
              "ticks": ""
             }
            },
            "type": "scatter"
           }
          ],
          "scatter3d": [
           {
            "line": {
             "colorbar": {
              "outlinewidth": 0,
              "ticks": ""
             }
            },
            "marker": {
             "colorbar": {
              "outlinewidth": 0,
              "ticks": ""
             }
            },
            "type": "scatter3d"
           }
          ],
          "scattercarpet": [
           {
            "marker": {
             "colorbar": {
              "outlinewidth": 0,
              "ticks": ""
             }
            },
            "type": "scattercarpet"
           }
          ],
          "scattergeo": [
           {
            "marker": {
             "colorbar": {
              "outlinewidth": 0,
              "ticks": ""
             }
            },
            "type": "scattergeo"
           }
          ],
          "scattergl": [
           {
            "marker": {
             "colorbar": {
              "outlinewidth": 0,
              "ticks": ""
             }
            },
            "type": "scattergl"
           }
          ],
          "scattermapbox": [
           {
            "marker": {
             "colorbar": {
              "outlinewidth": 0,
              "ticks": ""
             }
            },
            "type": "scattermapbox"
           }
          ],
          "scatterpolar": [
           {
            "marker": {
             "colorbar": {
              "outlinewidth": 0,
              "ticks": ""
             }
            },
            "type": "scatterpolar"
           }
          ],
          "scatterpolargl": [
           {
            "marker": {
             "colorbar": {
              "outlinewidth": 0,
              "ticks": ""
             }
            },
            "type": "scatterpolargl"
           }
          ],
          "scatterternary": [
           {
            "marker": {
             "colorbar": {
              "outlinewidth": 0,
              "ticks": ""
             }
            },
            "type": "scatterternary"
           }
          ],
          "surface": [
           {
            "colorbar": {
             "outlinewidth": 0,
             "ticks": ""
            },
            "colorscale": [
             [
              0,
              "#0d0887"
             ],
             [
              0.1111111111111111,
              "#46039f"
             ],
             [
              0.2222222222222222,
              "#7201a8"
             ],
             [
              0.3333333333333333,
              "#9c179e"
             ],
             [
              0.4444444444444444,
              "#bd3786"
             ],
             [
              0.5555555555555556,
              "#d8576b"
             ],
             [
              0.6666666666666666,
              "#ed7953"
             ],
             [
              0.7777777777777778,
              "#fb9f3a"
             ],
             [
              0.8888888888888888,
              "#fdca26"
             ],
             [
              1,
              "#f0f921"
             ]
            ],
            "type": "surface"
           }
          ],
          "table": [
           {
            "cells": {
             "fill": {
              "color": "#EBF0F8"
             },
             "line": {
              "color": "white"
             }
            },
            "header": {
             "fill": {
              "color": "#C8D4E3"
             },
             "line": {
              "color": "white"
             }
            },
            "type": "table"
           }
          ]
         },
         "layout": {
          "annotationdefaults": {
           "arrowcolor": "#2a3f5f",
           "arrowhead": 0,
           "arrowwidth": 1
          },
          "autotypenumbers": "strict",
          "coloraxis": {
           "colorbar": {
            "outlinewidth": 0,
            "ticks": ""
           }
          },
          "colorscale": {
           "diverging": [
            [
             0,
             "#8e0152"
            ],
            [
             0.1,
             "#c51b7d"
            ],
            [
             0.2,
             "#de77ae"
            ],
            [
             0.3,
             "#f1b6da"
            ],
            [
             0.4,
             "#fde0ef"
            ],
            [
             0.5,
             "#f7f7f7"
            ],
            [
             0.6,
             "#e6f5d0"
            ],
            [
             0.7,
             "#b8e186"
            ],
            [
             0.8,
             "#7fbc41"
            ],
            [
             0.9,
             "#4d9221"
            ],
            [
             1,
             "#276419"
            ]
           ],
           "sequential": [
            [
             0,
             "#0d0887"
            ],
            [
             0.1111111111111111,
             "#46039f"
            ],
            [
             0.2222222222222222,
             "#7201a8"
            ],
            [
             0.3333333333333333,
             "#9c179e"
            ],
            [
             0.4444444444444444,
             "#bd3786"
            ],
            [
             0.5555555555555556,
             "#d8576b"
            ],
            [
             0.6666666666666666,
             "#ed7953"
            ],
            [
             0.7777777777777778,
             "#fb9f3a"
            ],
            [
             0.8888888888888888,
             "#fdca26"
            ],
            [
             1,
             "#f0f921"
            ]
           ],
           "sequentialminus": [
            [
             0,
             "#0d0887"
            ],
            [
             0.1111111111111111,
             "#46039f"
            ],
            [
             0.2222222222222222,
             "#7201a8"
            ],
            [
             0.3333333333333333,
             "#9c179e"
            ],
            [
             0.4444444444444444,
             "#bd3786"
            ],
            [
             0.5555555555555556,
             "#d8576b"
            ],
            [
             0.6666666666666666,
             "#ed7953"
            ],
            [
             0.7777777777777778,
             "#fb9f3a"
            ],
            [
             0.8888888888888888,
             "#fdca26"
            ],
            [
             1,
             "#f0f921"
            ]
           ]
          },
          "colorway": [
           "#636efa",
           "#EF553B",
           "#00cc96",
           "#ab63fa",
           "#FFA15A",
           "#19d3f3",
           "#FF6692",
           "#B6E880",
           "#FF97FF",
           "#FECB52"
          ],
          "font": {
           "color": "#2a3f5f"
          },
          "geo": {
           "bgcolor": "white",
           "lakecolor": "white",
           "landcolor": "#E5ECF6",
           "showlakes": true,
           "showland": true,
           "subunitcolor": "white"
          },
          "hoverlabel": {
           "align": "left"
          },
          "hovermode": "closest",
          "mapbox": {
           "style": "light"
          },
          "paper_bgcolor": "white",
          "plot_bgcolor": "#E5ECF6",
          "polar": {
           "angularaxis": {
            "gridcolor": "white",
            "linecolor": "white",
            "ticks": ""
           },
           "bgcolor": "#E5ECF6",
           "radialaxis": {
            "gridcolor": "white",
            "linecolor": "white",
            "ticks": ""
           }
          },
          "scene": {
           "xaxis": {
            "backgroundcolor": "#E5ECF6",
            "gridcolor": "white",
            "gridwidth": 2,
            "linecolor": "white",
            "showbackground": true,
            "ticks": "",
            "zerolinecolor": "white"
           },
           "yaxis": {
            "backgroundcolor": "#E5ECF6",
            "gridcolor": "white",
            "gridwidth": 2,
            "linecolor": "white",
            "showbackground": true,
            "ticks": "",
            "zerolinecolor": "white"
           },
           "zaxis": {
            "backgroundcolor": "#E5ECF6",
            "gridcolor": "white",
            "gridwidth": 2,
            "linecolor": "white",
            "showbackground": true,
            "ticks": "",
            "zerolinecolor": "white"
           }
          },
          "shapedefaults": {
           "line": {
            "color": "#2a3f5f"
           }
          },
          "ternary": {
           "aaxis": {
            "gridcolor": "white",
            "linecolor": "white",
            "ticks": ""
           },
           "baxis": {
            "gridcolor": "white",
            "linecolor": "white",
            "ticks": ""
           },
           "bgcolor": "#E5ECF6",
           "caxis": {
            "gridcolor": "white",
            "linecolor": "white",
            "ticks": ""
           }
          },
          "title": {
           "x": 0.05
          },
          "xaxis": {
           "automargin": true,
           "gridcolor": "white",
           "linecolor": "white",
           "ticks": "",
           "title": {
            "standoff": 15
           },
           "zerolinecolor": "white",
           "zerolinewidth": 2
          },
          "yaxis": {
           "automargin": true,
           "gridcolor": "white",
           "linecolor": "white",
           "ticks": "",
           "title": {
            "standoff": 15
           },
           "zerolinecolor": "white",
           "zerolinewidth": 2
          }
         }
        },
        "width": 1000
       }
      },
      "text/html": "<div>                            <div id=\"f8767fd1-c9e0-4d72-91af-93a02f974a59\" class=\"plotly-graph-div\" style=\"height:1000px; width:1000px;\"></div>            <script type=\"text/javascript\">                require([\"plotly\"], function(Plotly) {                    window.PLOTLYENV=window.PLOTLYENV || {};                                    if (document.getElementById(\"f8767fd1-c9e0-4d72-91af-93a02f974a59\")) {                    Plotly.newPlot(                        \"f8767fd1-c9e0-4d72-91af-93a02f974a59\",                        [{\"marker\": {\"color\": 2, \"opacity\": 0.8, \"size\": 10}, \"mode\": \"markers+text\", \"name\": \"name0\", \"text\": [\"0\", \"1\", \"2\", \"3\", \"4\"], \"textfont\": {\"size\": 20}, \"textposition\": \"top center\", \"type\": \"scatter\", \"x\": [6.791064515709877e-05, 7.932740118121728e-05, 7.727741467533633e-05, 7.099303184077144e-05, 7.135049236239865e-05], \"y\": [0.00011110333434771746, 0.00010696781828301027, 0.00012258693459443748, 0.00010814715642482042, 0.00011504918802529573]}, {\"marker\": {\"color\": 2, \"opacity\": 0.8, \"size\": 10}, \"mode\": \"markers+text\", \"name\": \"name1\", \"text\": [\"5\", \"6\", \"7\", \"8\", \"9\"], \"textfont\": {\"size\": 20}, \"textposition\": \"top center\", \"type\": \"scatter\", \"x\": [7.384971831925213e-05, 8.789105049800128e-05, 7.725760224275291e-05, 7.750298391329125e-05, 7.73020728956908e-05], \"y\": [0.00010647338058333844, 0.00010364463378209621, 0.00010743175516836345, 0.00011153183731948957, 9.727763244882226e-05]}, {\"marker\": {\"color\": 2, \"opacity\": 0.8, \"size\": 10}, \"mode\": \"markers+text\", \"name\": \"name2\", \"text\": [\"10\", \"11\", \"12\", \"13\", \"14\"], \"textfont\": {\"size\": 20}, \"textposition\": \"top center\", \"type\": \"scatter\", \"x\": [5.4148476920090616e-05, 7.90286430856213e-05, 6.901799497427419e-05, 8.510089537594467e-05, 7.640675903530791e-05], \"y\": [0.00010518146154936403, 0.00011137885303469375, 0.00011874363553943112, 0.00017468024452682585, 0.00011431521124904975]}, {\"marker\": {\"color\": 2, \"opacity\": 0.8, \"size\": 10}, \"mode\": \"markers+text\", \"name\": \"name3\", \"text\": [\"15\", \"16\", \"17\", \"18\", \"19\"], \"textfont\": {\"size\": 20}, \"textposition\": \"top center\", \"type\": \"scatter\", \"x\": [7.625205762451515e-05, 8.301858906634152e-05, 0.00015547372458968312, 7.591953180963174e-05, 6.065647176001221e-05], \"y\": [0.000109591317595914, 0.00013024093641433865, 5.894588684896007e-05, 0.00011226738570258021, 0.0001416677114320919]}, {\"marker\": {\"color\": 2, \"opacity\": 0.8, \"size\": 10}, \"mode\": \"markers+text\", \"name\": \"name4\", \"text\": [\"20\", \"21\", \"22\", \"23\", \"24\"], \"textfont\": {\"size\": 20}, \"textposition\": \"top center\", \"type\": \"scatter\", \"x\": [6.584232323803008e-05, 7.80837144702673e-05, 8.779126073932275e-05, 7.5705953349825e-05, 7.573342008981854e-05], \"y\": [0.00010825195931829512, 0.00011608160275500268, 0.00011465836723800749, 0.00011063920828746632, 0.00011583257582969964]}, {\"marker\": {\"color\": 2, \"opacity\": 0.8, \"size\": 10}, \"mode\": \"markers+text\", \"name\": \"name5\", \"text\": [\"25\", \"26\", \"27\", \"28\", \"29\"], \"textfont\": {\"size\": 20}, \"textposition\": \"top center\", \"type\": \"scatter\", \"x\": [8.139933925122023e-05, 7.722103327978402e-05, 7.490845018764958e-05, 6.408068293239921e-05, 6.923270120751113e-05], \"y\": [0.00011466816067695618, 0.00010790382657432929, 0.00011193088721483946, 0.0001138711377279833, 0.00011744249786715955]}, {\"marker\": {\"color\": 2, \"opacity\": 0.8, \"size\": 10}, \"mode\": \"markers+text\", \"name\": \"name6\", \"text\": [\"30\", \"31\", \"32\", \"33\", \"34\"], \"textfont\": {\"size\": 20}, \"textposition\": \"top center\", \"type\": \"scatter\", \"x\": [8.282721682917327e-05, 8.801779767964035e-05, 7.794060365995392e-05, 7.380837632808834e-05, 9.072190005099401e-05], \"y\": [0.00011176030966453254, 0.00010815861605806276, 0.00011836014891741797, 0.00011753033322747797, 0.00010630054021021351]}, {\"marker\": {\"color\": 2, \"opacity\": 0.8, \"size\": 10}, \"mode\": \"markers+text\", \"name\": \"name7\", \"text\": [\"35\", \"36\", \"37\", \"38\", \"39\"], \"textfont\": {\"size\": 20}, \"textposition\": \"top center\", \"type\": \"scatter\", \"x\": [8.284777140943334e-05, 7.083961099851876e-05, 8.089094626484439e-05, 8.563303708797321e-05, 7.892848225310445e-05], \"y\": [0.00012033190432703122, 0.00012347825395409018, 0.00011894396448042244, 0.00011242191249039024, 0.0001261608413187787]}, {\"marker\": {\"color\": 2, \"opacity\": 0.8, \"size\": 10}, \"mode\": \"markers+text\", \"name\": \"name8\", \"text\": [\"40\", \"41\", \"42\", \"43\", \"44\"], \"textfont\": {\"size\": 20}, \"textposition\": \"top center\", \"type\": \"scatter\", \"x\": [8.104185690172017e-05, 8.75262267072685e-05, 6.895227124914527e-05, 7.254385127453133e-05, 7.802714389981702e-05], \"y\": [0.00011529031326062977, 0.00010991175076924264, 0.00010097870108438656, 0.00011719117901520804, 0.000112870657176245]}, {\"marker\": {\"color\": 2, \"opacity\": 0.8, \"size\": 10}, \"mode\": \"markers+text\", \"name\": \"name9\", \"text\": [\"45\", \"46\", \"47\", \"48\", \"49\"], \"textfont\": {\"size\": 20}, \"textposition\": \"top center\", \"type\": \"scatter\", \"x\": [7.674107473576441e-05, 7.542302046203986e-05, 9.63444181252271e-05, 7.657142850803211e-05, 8.603092283010483e-05], \"y\": [0.00010771176312118769, 0.00011141579307150096, 6.898943684063852e-05, 0.00012221767974551767, 0.0001235741947311908]}, {\"marker\": {\"color\": \"black\", \"opacity\": 1, \"size\": 10}, \"mode\": \"markers+text\", \"name\": \"input words\", \"text\": [\"50\", \"51\", \"52\", \"53\", \"54\", \"55\", \"56\", \"57\", \"58\", \"59\", \"60\", \"61\", \"62\", \"63\", \"64\", \"65\", \"66\", \"67\", \"68\", \"69\", \"70\", \"71\", \"72\", \"73\", \"74\", \"75\", \"76\", \"77\", \"78\", \"79\", \"80\", \"81\", \"82\", \"83\", \"84\", \"85\", \"86\", \"87\", \"88\", \"89\", \"90\", \"91\", \"92\", \"93\", \"94\", \"95\", \"96\", \"97\", \"98\", \"99\", \"100\", \"101\", \"102\", \"103\", \"104\", \"105\", \"106\", \"107\", \"108\", \"109\", \"110\", \"111\", \"112\", \"113\", \"114\", \"115\", \"116\", \"117\", \"118\", \"119\", \"120\", \"121\", \"122\", \"123\", \"124\", \"125\", \"126\", \"127\", \"128\", \"129\", \"130\", \"131\", \"132\", \"133\", \"134\", \"135\", \"136\", \"137\", \"138\", \"139\", \"140\", \"141\", \"142\", \"143\", \"144\", \"145\", \"146\", \"147\", \"148\", \"149\", \"150\", \"151\", \"152\", \"153\", \"154\", \"155\", \"156\", \"157\", \"158\", \"159\", \"160\", \"161\", \"162\", \"163\", \"164\", \"165\", \"166\", \"167\", \"168\", \"169\", \"170\", \"171\", \"172\", \"173\", \"174\", \"175\", \"176\", \"177\", \"178\", \"179\", \"180\", \"181\", \"182\", \"183\", \"184\", \"185\", \"186\", \"187\", \"188\", \"189\", \"190\", \"191\", \"192\", \"193\", \"194\", \"195\", \"196\", \"197\", \"198\", \"199\", \"200\", \"201\", \"202\", \"203\", \"204\", \"205\", \"206\", \"207\", \"208\", \"209\", \"210\", \"211\", \"212\", \"213\", \"214\", \"215\", \"216\", \"217\", \"218\", \"219\", \"220\", \"221\", \"222\", \"223\", \"224\", \"225\", \"226\", \"227\", \"228\", \"229\", \"230\", \"231\", \"232\", \"233\", \"234\", \"235\", \"236\", \"237\", \"238\", \"239\", \"240\", \"241\", \"242\", \"243\", \"244\", \"245\", \"246\", \"247\", \"248\", \"249\", \"250\", \"251\", \"252\", \"253\", \"254\", \"255\", \"256\", \"257\", \"258\", \"259\", \"260\", \"261\", \"262\", \"263\", \"264\", \"265\", \"266\", \"267\", \"268\", \"269\", \"270\", \"271\", \"272\", \"273\", \"274\", \"275\", \"276\", \"277\", \"278\", \"279\", \"280\", \"281\", \"282\", \"283\", \"284\", \"285\", \"286\", \"287\", \"288\", \"289\", \"290\", \"291\", \"292\", \"293\", \"294\", \"295\", \"296\", \"297\", \"298\", \"299\"], \"textfont\": {\"size\": 20}, \"textposition\": \"top center\", \"type\": \"scatter\", \"x\": [7.599037780892104e-05, -8.949675248004496e-05, 7.795156125212088e-05, 8.088488539215177e-05, 6.79832519381307e-05, 6.8006178480573e-05, 7.971531886141747e-05, 6.404596206266433e-05, 7.2567279858049e-05, 7.735478720860556e-05, 7.867342355893925e-05, 7.838064630050212e-05, 8.265518408734351e-05, 8.075431105680764e-05, 7.596604700665921e-05, 7.73063802625984e-05, 7.758371066302061e-05, 8.698822784936056e-05, 6.610202399315313e-05, 7.633765926584601e-05, 7.229181937873363e-05, 7.948072016006336e-05, 7.838133751647547e-05, 7.072572770994157e-05, 7.387206278508529e-05, 8.605282346252352e-05, 8.218058064812794e-05, 7.056874892441556e-05, 7.262695726240054e-05, 8.283744682557881e-05, 7.57628949941136e-05, 7.395388092845678e-05, 7.268660556292161e-05, 8.651020471006632e-05, 7.733560778433457e-05, 8.030467142816633e-05, 7.629797619301826e-05, 7.249787449836731e-05, 8.045112190302461e-05, 8.012132457224652e-05, 8.885642455425113e-05, 8.947285823523998e-05, 5.612344102701172e-05, -0.03134327754378319, 8.267417433671653e-05, 7.848635141272098e-05, 8.211621752707288e-05, 7.095840555848554e-05, 6.986798689467832e-05, 0.00010284753079758957, 8.232185791712254e-05, 7.382899639196694e-05, 7.559242658317089e-05, 2.1257241314742714e-05, -3.296065915492363e-05, 6.706624844809994e-05, 6.954347190912813e-05, 8.534204971510917e-05, 6.644357927143574e-05, 7.575255585834384e-05, 7.800785533618182e-05, 7.78287067078054e-05, 7.543942774645984e-05, 7.004642975516617e-05, 7.88876714068465e-05, 8.375754987355322e-05, 8.042545960051939e-05, 7.860066398279741e-05, 0.00011545125744305551, 7.42558331694454e-05, 7.452734280377626e-05, 6.714220944559202e-05, 0.00011366776016075164, 7.853896386222914e-05, 7.683240983169526e-05, 7.716139953117818e-05, 7.397351146209985e-05, 9.431638318346813e-05, 7.410555554088205e-05, 7.591611938551068e-05, 9.806969319470227e-05, 0.00038611370837315917, 8.087302558124065e-05, 7.751478551654145e-05, 7.782551983837038e-05, 7.299816206796095e-05, -0.0003410425561014563, 7.889288099249825e-05, 7.351300882874057e-05, 8.282745693577453e-05, 6.978668534429744e-05, 7.302575249923393e-05, 7.240341801661998e-05, 8.104785956675187e-05, 8.882088877726346e-05, 7.125388219719753e-05, 6.129879329819232e-05, 7.48112506698817e-05, 7.720074063399807e-05, 7.51348925405182e-05, 7.82763963798061e-05, 8.023862756090239e-05, 7.560338417533785e-05, 8.573992818128318e-05, 7.451251440215856e-05, 7.66040466260165e-05, 7.384628406725824e-05, 8.058491221163422e-05, 8.796473412076011e-05, 7.480933709302917e-05, 3.8651254726573825e-05, 7.666583405807614e-05, 7.917409675428644e-05, 7.115040352800861e-05, 7.252606883412227e-05, 0.02650231495499611, 6.574533472303301e-05, 6.736403156537563e-05, 8.316819730680436e-05, 7.207762246252969e-05, 7.021581404842436e-05, 9.140920883510262e-05, 8.144131425069645e-05, 6.860026041977108e-05, 7.37837835913524e-05, 6.657224002992734e-05, 7.565430860267952e-05, 7.444348011631519e-05, 7.933724555186927e-05, 7.302249287022278e-05, 7.423892384395003e-05, 7.68306344980374e-05, 7.212303171399981e-05, 7.774935511406511e-05, 7.934837776701897e-05, 7.629446918144822e-05, 6.891825614729896e-05, 7.783061300870031e-05, 7.967626152094454e-05, 7.255154196172953e-05, 9.278582001570612e-05, 8.551026985514909e-05, 7.559226651210338e-05, 8.073122444329783e-05, 7.638530223630369e-05, 7.239925616886467e-05, 8.069069008342922e-05, 7.317880226764828e-05, 7.496609032386914e-05, 6.97080758982338e-05, 7.744936738163233e-05, 6.0254624258959666e-05, 8.69604991748929e-05, 7.542820821981877e-05, 7.44289718568325e-05, 7.97963875811547e-05, 5.998626147629693e-05, 8.016110950848088e-05, 7.627448940183967e-05, 7.78462053858675e-05, 5.721812340198085e-05, 7.665264274692163e-05, 9.095609857467934e-05, 7.650336192455143e-05, 6.780157127650455e-05, 5.0236609240528196e-05, 8.937874372350052e-05, 7.935055327834561e-05, 7.741521403659135e-05, 6.459157157223672e-05, 7.855481817387044e-05, 7.055139576550573e-05, 8.648920629639179e-05, 5.0043909141095355e-05, 8.174146933015436e-05, 8.15094681456685e-05, 7.866294617997482e-05, 0.0004218337999191135, 7.718720007687807e-05, 7.349075167439878e-05, 8.857296779751778e-05, 7.271701178979129e-05, 7.946561527205631e-05, 7.359824667219073e-05, 8.361507207155228e-05, 8.915939542930573e-05, 6.414800009224564e-05, 0.00017937266966328025, 7.30687243049033e-05, 7.11536267772317e-05, 0.0326082743704319, 8.395153417950496e-05, 7.265958265634254e-05, 7.478768384316936e-05, 8.309303666464984e-05, 0.0001351959799649194, 8.042006811592728e-05, 7.09068335709162e-05, 6.737301009707153e-05, 9.179988410323858e-05, 8.184323814930394e-05, 7.348565122811124e-05, 7.977479981491342e-05, 7.843704952392727e-05, 7.930505671538413e-05, 7.739643478998914e-05, 7.23803968867287e-05, 8.533053915016353e-05, 7.100795482983813e-05, 7.441355410264805e-05, 7.259596895892173e-05, 8.207752398448065e-05, 7.685855962336063e-05, 7.145319978008047e-05, 7.692095823585987e-05, 7.879027543822303e-05, 9.935045090969652e-05, 8.591016376158223e-05, 7.400652975775301e-05, 7.993144390638918e-05, 6.876039697090164e-05, 7.676809764234349e-05, 7.407214434351772e-05, 7.748805364826694e-05, 0.044433027505874634, 7.068517879815772e-05, 7.595243368996307e-05, 7.269498019013554e-05, 7.924962847027928e-05, 1.6055590094765648e-05, 6.609977572225034e-05, 7.506090332753956e-05, 8.406724373344332e-05, 7.39412716939114e-05, 7.663082215003669e-05, 6.971627590246499e-05, 0.00011134895612485707, 7.617032679263502e-05, 7.80369300628081e-05, 7.687431934755296e-05, 7.835122960386798e-05, 7.931449363240972e-05, 8.048870950005949e-05, 9.37581789912656e-05, 7.20960451872088e-05, 7.680863927816972e-05, 2.316972313565202e-05, 8.694242569617927e-05, 7.99807530711405e-05, 8.067999442573637e-05, 8.143619197653607e-05, 8.372193406103179e-05, -0.05571378022432327, 7.073771121213213e-05, 7.688241748837754e-05, 7.460114284185693e-05, 7.443573122145608e-05, 8.55000180308707e-05, 7.090696453815326e-05, 7.27824226487428e-05, 0.00437286589294672, 7.671148341614753e-05, 8.695056021679193e-05, 7.682260911678895e-05, 8.825804980006069e-05, 0.00020804467203561217, 9.089295781450346e-05, 7.061273936415091e-05, 8.411363523919135e-05, 7.45864599593915e-05, 7.781216845614836e-05, 8.11410864116624e-05, 8.031130710151047e-05, 0.006954557728022337, 7.811011892044917e-05, 7.308101339731365e-05, 7.174340134952217e-05, 6.94458867656067e-05, 7.091287261573598e-05, 7.326169725274667e-05, 7.467355317203328e-05, 7.325399201363325e-05, 8.007654832908884e-05, 7.741371518932283e-05, 7.993577310116962e-05, 5.9206871810602024e-05, 7.858515891712159e-05, 7.375276618404314e-05, 8.038865053094923e-05, 8.008724398678169e-05, 7.246415771078318e-05, 5.895446156500839e-05, 6.592175486730412e-05, 7.4974843300879e-05, 9.626963583286852e-05, 7.467815885320306e-05, 7.566103158751503e-05, 6.175510497996584e-05, 8.190686639863998e-05, 6.859579298179597e-05, 7.129238656489179e-05, 5.92175820202101e-05, 7.058946357574314e-05, 7.213811477413401e-05, 6.936975114513189e-05, 8.671053365105763e-05, 5.8222300140187144e-05, 7.623745477758348e-05, 8.027264993870631e-05, 7.633772474946454e-05, 7.211093907244503e-05, 7.747080962872133e-05, 8.057126979110762e-05, 7.746049232082441e-05, 7.721316796960309e-05, 8.7537664512638e-05, 8.164922473952174e-05, 8.110037015285343e-05, 6.561980990227312e-05, 7.138768705772236e-05, 8.242700278060511e-05, 6.686743290629238e-05, -1.1305597581667826e-05, 8.48272829898633e-05, 7.475793245248497e-05, 7.508198905270547e-05, 7.391740655293688e-05, 8.043601701501757e-05, 9.896649135043845e-05, 6.685839616693556e-05, 7.05109050613828e-05, 7.46589939808473e-05, 7.224439468700439e-05, 6.863624730613083e-05, 7.57957313908264e-05, 8.024933049455285e-05, 8.922822598833591e-05, 7.789981464156881e-05, 7.589597953483462e-05, 8.296069427160546e-05, 8.554407395422459e-05, 7.284557068487629e-05, 6.990546535234898e-05, 6.855971150798723e-05, 8.353683369932696e-05, 8.298308966914192e-05, 8.087723836069927e-05, 6.582360219908878e-05, 7.609963358845562e-05, 8.680960308993235e-05, 7.018609903752804e-05, 7.685471064178273e-05, 7.508380804210901e-05, 9.511761163594201e-05, 7.21074829925783e-05, 7.874244329286739e-05, 7.42585034458898e-05, 6.79416480124928e-05, 6.960115570109338e-05, 7.779677980579436e-05, 6.47051929263398e-05, 8.133979281410575e-05, 7.579279190395027e-05, 7.180350803537294e-05, 6.796584784751758e-05, 0.012763834558427334, 7.201336120488122e-05, 7.843472121749073e-05, 0.00010344188194721937, 6.799041148042306e-05, 7.850721158320084e-05, 7.02704128343612e-05, 7.553004252258688e-05, 7.21170799806714e-05, 7.73982610553503e-05, 7.664373697480187e-05, 7.983580871950835e-05, 7.915639434941113e-05, -0.00023147524916566908, 9.599555050954223e-05, 7.041176286293194e-05, 7.456373714376241e-05, 6.665111141046509e-05, 6.565178773598745e-05, 8.170586806954816e-05, 6.954829586902633e-05, 8.742525096749887e-05, 8.01367568783462e-05, 6.859461427666247e-05, 8.01338319433853e-05, 7.523658132413402e-05, 7.858963363105431e-05, 7.678705151192844e-05, 7.598476076964289e-05, 2.59900298260618e-05, 6.469414074672386e-05, 7.6223150244914e-05, 7.703841401962563e-05, 7.063944212859496e-05, 8.285454532597214e-05, 7.507605914724991e-05, 7.657420792384073e-05, 7.62156123528257e-05, 7.432640268234536e-05, 7.536457997048274e-05, 3.402761649340391e-05, 7.377374276984483e-05, 7.979481597431004e-05, 7.38763774279505e-05, 8.380127837881446e-05, 7.986032869666815e-05, 7.751068915240467e-05, 2.995417617057683e-06, 6.79584700264968e-05, 4.916573379887268e-05, 6.180191121529788e-05, 7.594194175908342e-05, 8.499590330757201e-05, 9.982714254874736e-05, 7.999805529834703e-05, 7.789338997099549e-05, 7.197247032308951e-05, 8.014601189643145e-05, 6.488233339041471e-05, 7.185310096247122e-05, 8.276473090518266e-05, 7.755884143989533e-05, 7.885497325332835e-05, 6.81662349961698e-05, 7.50174731365405e-05, 7.713323429925367e-05, 7.15697678970173e-05, 7.995456689968705e-05, 7.363231270574033e-05, 7.84011062933132e-05, 7.492845907108858e-05, 7.572438335046172e-05, 7.776459824526682e-05, 8.704607171239331e-05, 7.290474604815245e-05, 7.447206735378131e-05, 7.557797653134912e-05, 8.890056051313877e-05, 4.094313771929592e-05, 7.476680912077427e-05, 7.319868018385023e-05, 7.896750321378931e-05, 8.200130832847208e-05, 7.687857578275725e-05, 7.53287022234872e-05, 6.832517101429403e-05, 9.934409172274172e-05, 8.495084330206737e-05, -2.303185647178907e-05, 7.931297295726836e-05, 7.500901847379282e-05, 7.481081411242485e-05, 7.266532338690013e-05, 6.748030136805028e-05, 0.00017719846800900996, 7.37067312002182e-05, 8.917929517338052e-05, 7.701456343056634e-05, 6.861538713565096e-05, 7.142016693251207e-05, 7.955831824801862e-05, 0.00014569533232133836, 7.307468331418931e-05, 7.499328057747334e-05, 9.32398033910431e-05, 6.890352960908785e-05, 8.146053733071312e-05, 7.255138189066201e-05, 6.846466567367315e-05, 6.568160461029038e-05, 7.708434714004397e-05, 7.25496793165803e-05, 7.401357288472354e-05, 7.470204582205042e-05, 7.79646506998688e-05, 7.633075438207015e-05, 9.274654439650476e-05, 8.250580867752433e-05, 8.001719106687233e-05, 7.131962047424167e-05, 7.386554352706298e-05, 7.90290578152053e-05, 8.062533015618101e-05, 8.617246930953115e-05, 8.17515974631533e-05, 6.449766078731045e-05, 0.016977136954665184, -0.012783786281943321, 8.030693425098434e-05, 7.126887794584036e-05, 8.800685463938862e-05, 8.63666573422961e-05, 7.999822264537215e-05, 7.389582606265321e-05, 7.102208473952487e-05, 5.663817501044832e-05, 6.96767820045352e-05, 7.939176430227235e-05, 7.044114317977801e-05, 6.245636905077845e-05, 9.64379942161031e-05, 6.947494694031775e-05, 7.115232438081875e-05, 7.612910849275067e-05, 7.078514317981899e-05, 6.433861562982202e-05, 7.858072058297694e-05, 6.535572902066633e-05, 7.257928518811241e-05, 7.805218046996742e-05, 8.093324140645564e-05, 7.908954285085201e-05, 8.23476366349496e-05, 7.845587242627516e-05, 7.270985224749893e-05, 8.426038402831182e-05, 7.349078805418685e-05, 7.329398795263842e-05, 6.732592009939253e-05, 7.610630564158782e-05, 6.863327871542424e-05, 8.50210853968747e-05, 9.179360495181754e-05, 7.266111060744151e-05, 7.054233719827607e-05, 7.427980017382652e-05, 7.035117596387863e-05, 8.363917731912807e-05, 7.523885869886726e-05, 7.238830585265532e-05, 8.179646829375997e-05, 0.00021949544316157699, 7.097553316270933e-05, 7.501491199946031e-05, 0.0001166951478808187, 7.270254718605429e-05, 7.533441385021433e-05, 7.041110075078905e-05, 6.518383452203125e-05, 7.759682921459898e-05, 7.837639714125544e-05, 7.5960808317177e-05, 7.441479829140007e-05, 7.140496745705605e-05, 8.670496754348278e-05, 7.715145329711959e-05, 7.506172551074997e-05, 0.00012784496357198805, 7.344080950133502e-05, 8.959437400335446e-05, 8.000991510925815e-05, 8.313908620039001e-05, 7.978193752933294e-05, 8.754296140978113e-05, 8.74432225828059e-05, 7.375441055046394e-05, 7.336109410971403e-05, 8.249012898886576e-05, 8.042882836889476e-05, 8.176244591595605e-05, 7.722504960838705e-05, 6.866607145639136e-05, 5.710616824217141e-05, 7.750371150905266e-05, 8.481932309223339e-05, 7.696069224039093e-05, 6.734674389008433e-05, 7.881709461798891e-05, 7.67036181059666e-05, 7.885754166636616e-05, 8.064337453106418e-05, 7.604428537888452e-05, 6.305243005044758e-05, 8.638483996037394e-05, 7.600532262586057e-05, 7.699619163759053e-05, 8.07305914349854e-05, 7.374729466391727e-05, 8.946401794673875e-05, 5.098693509353325e-05, 8.557507680961862e-05, 7.840383477741852e-05, 8.441587851848453e-05, 0.00010158099030377343, 7.143788388930261e-05, 7.868142711231485e-05, 7.670506602153182e-05, 8.827659621601924e-05, 7.772802928229794e-05, 0.0024796000216156244, 7.606153667438775e-05, 7.624821591889486e-05, 8.406078995903954e-05, 7.978426583576947e-05, 7.556258060503751e-05, 7.84642033977434e-05, 7.657208334421739e-05, 5.1043214625678957e-05, 7.617238588863984e-05, 9.644498641137034e-05, 8.334364247275516e-05, 7.812924013705924e-05, 7.447368261637166e-05, 8.511379564879462e-05, 8.048082236200571e-05, 7.271610229508951e-05, 7.189482857938856e-05, 7.546758570242673e-05, 7.447881216648966e-05, 7.644914148841053e-05, 7.74720247136429e-05, 7.383950287476182e-05, 7.035801536403596e-05, 7.855935109546408e-05, 8.207612700061873e-05, 7.554644253104925e-05, 6.933039549039677e-05, 8.045318827498704e-05, 7.759378058835864e-05, 7.353230466833338e-05, 7.113376341294497e-05, 6.936417048564181e-05, 0.00021657344768755138, 0.00011968628678005189, 8.22655638330616e-05, 8.657843864057213e-05, 0.00011912320042029023, 7.357227150350809e-05, 8.943963621277362e-05, 7.288102642633021e-05, 7.364242628682405e-05, 7.354649278568104e-05, 7.825370266800746e-05, 8.268196688732132e-05, 7.601839024573565e-05, 6.75741393934004e-05, 6.75885530654341e-05, 8.221891039283946e-05, 7.718190317973495e-05, 7.956483750604093e-05, 7.526558329118416e-05, 6.27026820438914e-05, 6.542268965858966e-05, 8.389945287490264e-05, 7.724811439402401e-05, 7.819172606104985e-05, 7.749659562250599e-05, 6.894186662975699e-05, 6.941317406017333e-05, 7.859650941099972e-05, 5.180464359000325e-05, 8.309831900987774e-05, 5.68685973121319e-05, 7.625205034855753e-05, -0.11231034994125366, 7.390324753941968e-05, 7.243462459882721e-05, 6.741871766280383e-05, 7.315066613955423e-05, 8.192579844035208e-05, 0.011460886336863041, 8.215068373829126e-05, 7.599673699587584e-05, 8.365570829482749e-05, 5.808158311992884e-05, 7.971201557666063e-05, 7.723696762695909e-05, 8.682061161380261e-05, -0.0035098548978567123, 7.649708277313039e-05, 7.795761484885588e-05, 7.250968337757513e-05, 5.743482688558288e-05, 7.959076901897788e-05, 9.706330456538126e-05, 7.773069955874234e-05, 8.466486178804189e-05, 6.61347366985865e-05, 9.107567893806845e-05, 4.887023169430904e-05, 7.47093727113679e-05, 7.436133455485106e-05, 7.757901039440185e-05, 7.490075950045139e-05, 6.140844925539568e-05, 7.666369492653757e-05, 7.863590872148052e-05, 7.677912071812898e-05, 7.525590626755729e-05, 7.758272113278508e-05, 8.186740888049826e-05, 8.26396862976253e-05, 7.818912854418159e-05, 6.464397301897407e-05, 5.982366928947158e-05, 7.365562487393618e-05, 7.072830339893699e-05, -0.02023881860077381, 7.45875877328217e-05, 7.186717994045466e-05, 1.3963417586637661e-05, 7.818637095624581e-05, 5.938718913967023e-06, 0.00019376055570319295, 8.190138032659888e-05, 0.0003344195429235697, 7.916546746855602e-05, 8.783426164882258e-05, 7.721288420725614e-05, 7.35996727598831e-05, 7.74063664721325e-05, 7.999745139386505e-05, 7.157785148592666e-05, 7.176565122790635e-05, 7.584002014482394e-05, 8.46838956931606e-05, 6.464227772084996e-05, 7.083464879542589e-05, 7.759407162666321e-05, 8.814199100015685e-05, 7.45962533983402e-05, 6.481904711108655e-05, 7.891702261986211e-05, 7.31922045815736e-05, 7.885984814492986e-05, 6.885214679641649e-05, 7.065749377943575e-05, 7.737008127151057e-05, 7.537147757830098e-05, 7.315559196285903e-05, 7.371328683802858e-05, 8.620902372058481e-05, 6.518240115838125e-05, 7.900991477072239e-05, 7.778182771289721e-05, 6.695587944705039e-05, 8.435203199042007e-05, 7.228294271044433e-05, 7.070766150718555e-05, 7.291248039109632e-05, 8.434131450485438e-05, 8.157424599630758e-05, 7.166356226662174e-05, 8.125630847644061e-05, 9.253954340238124e-05, 7.831476250430569e-05, 7.023492798907682e-05, 7.718727283645421e-05, 7.268095214385539e-05, 7.545531843788922e-05, 7.569567969767377e-05, 8.444542618235573e-05, 0.00010749449575087056, 8.501193224219605e-05, 7.75488224462606e-05, 7.449155964422971e-05], \"y\": [0.00010292850492987782, 0.00011673995322780684, 0.00011663835903163999, 0.00011431743769207969, 0.00012086096830898896, 0.00011585332686081529, 0.00010747188207460567, 0.0001107067582779564, 0.00011449376324890181, 0.00011052711488446221, 0.00011858849029522389, 0.0001074285974027589, 0.00011580127466004342, 0.00011207594070583582, 0.00011251693649683148, 0.00011182902380824089, 0.0001051679573720321, 0.0001156981525127776, 0.00012055502156727016, 0.0001203266583615914, 0.00010882137576118112, 0.000104877857665997, 0.00011279259342700243, 0.00011844819528050721, 0.000111018045572564, 9.968148515326902e-05, 0.00011709537648130208, 0.00011167806951561943, 0.00012313519255258143, 0.0001110778030124493, 0.00011343659571139142, 0.00012008361954940483, 0.00010717589611886069, 0.00010492391447769478, 0.00011568320769583806, 0.00011073498899349943, 0.0001210152477142401, 0.00011405118857510388, 0.00011139521666336805, 0.00010865522199310362, 0.00011014740448445082, 0.00012086033530067652, 0.00011805767280748114, 0.00232207914814353, 0.00010297469270881265, 0.00012716931814793497, 0.00013262841093819588, 0.00010800093878060579, 0.00011371813889127225, 0.00037173053715378046, 0.00010962825763272122, -1.856360540841706e-05, 0.00011989033373538405, 0.00012453951057977974, 0.00018052819359581918, 0.00011599843855947256, 0.00010918089537881315, 0.0001272612134926021, 0.00011177016131114215, 0.00011260371684329584, 0.00011261447798460722, 9.809382754610851e-05, 0.0001158847298938781, 0.00011245814675930887, 0.00011743435607058927, 0.00015757331857457757, 0.00012081376917194575, 0.00011619491124292836, 9.410247002961114e-05, 0.00011421826638979837, 0.00011200833978364244, 0.00012057425919920206, 0.00011491014447528869, 0.00011819192877737805, 0.00010598942026263103, 0.00011130653729196638, 0.00012010472710244358, 9.760056855157018e-05, 0.00012089904339518398, 0.00010627699521137401, 0.0001006165039143525, -4.34288231190294e-05, 0.00010862918134080246, 0.00011320567864459008, 0.00010712859511841089, 0.00011946450831601396, 0.00013200686953496188, 0.00011570715287234634, 0.00010524528624955565, 0.00010901152563747019, 0.00011069308675359935, 0.00010384873166913167, 0.0001123211914091371, 0.00011113850632682443, 7.846567314118147e-05, 0.0001079788344213739, 0.00011656626884359866, 0.00011584354797378182, 0.00011757486208807677, 0.00011450185411376879, 0.00011447370343375951, 0.00011316545715089887, 0.0001038816844811663, 0.0001150218813563697, 0.00011351561988703907, 0.00010777245188364759, 0.00011542771972017363, 0.00010874492727452889, 0.00010627655137795955, 0.00011919646203750744, 0.00011626038030954078, 0.0001311638770857826, 0.00011023653496522456, 0.00010761745943455026, 9.710027370601892e-05, -0.039842914789915085, 0.00012376987433526665, 0.00011717802408384159, 0.00010550014121690765, 0.00010560706141404808, -0.00011932905908906832, 8.374314347747713e-05, 0.00011039591481676325, 0.00011243882909184322, 0.000106016181234736, 0.0001121802706620656, 0.0001100676236092113, 7.431727135553956e-05, 0.00011909416934940964, 0.00011451786122051999, 0.00011667525541270152, 0.0001174704812001437, 0.00010899948392761871, 0.00011648345389403403, 0.00011930742766708136, 0.00012005065946141258, 0.00011597134289331734, 0.00010286514589097351, 0.00010887055395869538, 0.00011380121577531099, 0.00010012892016675323, 0.00012351009354460984, 0.00011273457494098693, 0.00010941547225229442, 0.00011782092042267323, 0.00011576159886317328, 0.00012044588947901502, 0.00011684390483424067, 0.00011283093772362918, 0.00011004262341884896, 0.00011822846136055887, 0.00011949273175559938, 0.00011386127880541608, 0.0001100483859772794, 0.0001231016212841496, 0.00011129965423606336, 0.00011645442282315344, 0.00011383593664504588, 0.00010823615593835711, 0.00011066545266658068, 0.00011546991299837828, 0.00011236144200665876, 0.00011115233064629138, 0.00011743389040930197, 0.0001327051577391103, 0.0001085261901607737, 9.814377699512988e-05, 0.00010696456592995673, 0.00011036684009013698, 0.00010960923827951774, 0.00011000721860909835, 0.00012055193656124175, 0.00010457408643560484, 0.00011215417180210352, 0.00011872872710227966, 0.00011017506039934233, 0.00010777007264550775, -0.0011520800180733204, 0.00011897563672391698, 0.00011086605809396133, 0.00011225138587178662, 0.0001136887221946381, 0.00011423994146753103, 0.0001158359955297783, 0.00012058606080245227, 0.00010507462138775736, 0.00012298166984692216, 5.866603896720335e-05, 0.00011332950816722587, 0.00011114964581793174, 0.04269484430551529, 0.00011510389595059678, 0.00011524325236678123, 0.0001068995043169707, 0.00010777352144941688, 0.00011040471872547641, 0.00011786157119786367, 0.00010378858132753521, 0.0001120925007853657, 0.00012228103878442198, 0.00011646198981907219, 0.00011532290955074131, 0.00011497820378281176, 0.00011646442726487294, 0.00010891946294577792, 0.00011038887896575034, 0.00011633725807769224, 0.00010972104064421728, 0.0001118621148634702, 0.00011545650340849534, 0.0001180523177026771, 0.00011238908336963505, 0.00012194577720947564, 0.00011632265523076057, 0.0001156794314738363, 0.00011250295938225463, 0.00011121592251583934, 0.0001145715286838822, 0.00011484693823149428, 0.00011874552728841081, 0.00011747331882361323, 0.00011112319043604657, 0.00011956824891967699, 0.00011699274909915403, -0.02258274145424366, 0.00011037306830985472, 0.00012517267896328121, 0.00011112393985968083, 0.00011098835966549814, 0.0001092038000933826, 0.00011962596181547269, 0.00011789436393883079, 0.00011787093535531312, 0.00011449443263700232, 0.00011222853936487809, 0.00012659809726756066, 0.00038932941970415413, 0.00011626876948866993, 0.00010953041783068329, 0.00011584055027924478, 0.00012050065561197698, 0.0001081802329281345, 0.00011658204311970621, 0.00010672990174498409, 0.00010975002078339458, 0.00012000380957033485, -0.002324149012565613, 0.00011369746789569035, 0.00010925358947133645, 0.00011860902304761112, 0.00010733382805483416, 0.0001145263304351829, -0.023186253383755684, 0.00011938944226130843, 0.0001088477874873206, 0.00010999345977324992, 0.00012161056656623259, 0.00014034376363269985, 0.00011674600682454184, 0.00010582464165054262, -0.0019765023607760668, 0.00011357737093931064, 0.0001369054225506261, 0.00011779225314967334, 7.809535600244999e-05, 9.719898662297055e-05, 0.0001154599740402773, 0.00012203821097500622, 8.950226765591651e-05, 0.00011012259346898645, 0.00011172159429406747, 0.00011416255438234657, 0.00011790593998739496, -0.0004406777152325958, 0.00011276661098236218, 0.00012124744534958154, 0.00010872501297853887, 0.00011021181126125157, 0.0001242944854311645, 0.00010918706539086998, 0.00011621112935245037, 0.00010891263809753582, 0.00011144141899421811, 0.00011467259901110083, 0.00011925074068130925, 7.586822903249413e-05, 0.00010581156675470993, 0.0001085221374523826, 0.00017265777569264174, 0.00010775704140542075, 0.0001177402155008167, 0.00010994408512488008, 0.00011970461491728202, 0.00011513348727021366, 0.00010223945719189942, 0.00010679660044843331, 0.00010213493078481406, 0.0001130962700699456, 0.0001078216009773314, 0.00011304250074317679, 0.0001161477412097156, 0.00011974752851529047, 0.00010970341099891812, 0.00011510954209370539, 0.00012346722360234708, 0.00011120762792415917, 0.00011967904720222577, 0.00011668626393657178, 0.00011693621490849182, 0.00011714769061654806, 0.00011975917732343078, 0.00012087744107702747, 0.00011439153604442254, 0.00011418884241720662, 0.0001138087100116536, 9.94571455521509e-05, 0.00011768614058382809, 0.0001265177270397544, 0.00012508411600720137, 0.00010900411871261895, 0.00011835496843559667, 0.00011243572225794196, -4.721751975012012e-05, 0.0001251586654689163, 0.00010852418199647218, 0.00012469822831917554, 0.00011375810572644696, 0.0001106604904634878, 4.366186840343289e-05, 0.00012254893954377621, 0.0001142836845247075, 0.00011643963807728142, 0.0001202022613142617, 0.00011253371485508978, 0.00011781489592976868, 0.00011661900498438627, 0.00011956023809034377, 0.00011746725795092061, 0.00011682634067256004, 0.0001161945765488781, 9.83116333372891e-05, 0.00012061704182997346, 0.00011555807577678934, 0.0001105118717532605, 0.00011644150072243065, 8.647801587358117e-05, 0.00010687106259865686, 0.00012770477042067796, 0.00010924071102635935, 0.00011294044088572264, 0.00010837600711965933, 0.00010633355850586668, 0.00010739473509602249, 5.199638690100983e-05, 0.00011331994755892083, 0.00011306982923997566, 0.00011771940626204014, 0.00011019138764822856, 0.00010929492418654263, 0.00011221790919080377, 0.00011042343976441771, 0.00011856743367388844, 0.00010980397928506136, 0.00010798826406244189, 0.00011845006520161405, 0.0372302420437336, 0.00011893288319697604, 0.00011229960364289582, 0.0003002726589329541, 0.00011616269330261275, 0.00011718569294316694, 0.00011257045844104141, 0.00011855339835165069, 0.00011004992120433599, 0.00011280878243269399, 0.00011751044075936079, 0.00012019664427498356, 0.00010979496437357739, 0.000314195902319625, 0.00012192738358862698, 0.00011146313772769645, 0.00010919327178271487, 0.00011869380250573158, 0.00010959243809338659, 0.0001100454101106152, 0.00012163996143499389, 0.00011453792831161991, 0.00011438065121183172, 0.00011977850954281166, 0.00011577898112591356, 0.0001132304169004783, 0.00011474652274046093, 0.0001014735535136424, 0.00011789805284934118, 0.000134240894112736, 0.00012030712969135493, 0.00011539454135345295, 0.00011544199514901266, 0.00010486471001058817, 0.0001104690381907858, 0.00011488359450595453, 0.00010404187923995778, 0.00010412067058496177, 0.00010841408948181197, 0.00010614224447635934, 0.00012991984840482473, 0.00011582473962334916, 0.00011285708023933694, 0.0001197751407744363, 0.00010638829553499818, 0.00011361403448972851, 0.00010883728100452572, 0.00012643536319956183, 0.00010906115494435653, 0.0001140149324783124, 0.00011871472088387236, 0.0001056543187587522, 0.00012283571413718164, 5.0664817536016926e-05, 0.00011598232958931476, 0.00011671479296637699, 0.00010548486898187548, 0.00010839064634637907, 0.00013846172078046948, 0.00011776680184993893, 0.00011508644092828035, 0.00011420393275329843, 0.00011216318671358749, 0.00011424924014136195, 0.00011375527537893504, 0.00010914949234575033, 0.00011050982720917091, 0.00011379379429854453, 0.00011590585199883208, 0.00012075142149114981, 0.00010004085197579116, 0.00011104824079666287, 0.00012500330922193825, 0.00012148792302468792, 0.00011263763008173555, 0.00011459110100986436, 0.00011577901750570163, 0.00010913854202954099, 0.00014194413961376995, 0.0001126796705648303, 8.41714208945632e-05, 0.00011809233546955511, 0.00011869804438902065, 0.00011383141827536747, 0.00010748664499260485, 0.0001136645587394014, 0.00010104238026542589, 0.0001131021708715707, 0.00012808154860977083, 9.902558667818084e-05, 0.00011158541747136042, 0.00011447211727499962, 0.00010740783181972802, 6.173532165121287e-05, 9.342673001810908e-05, 0.00011775890743592754, 7.177137740654871e-05, 0.00011027607251890004, 0.00011645850463537499, 0.00010892860882449895, 0.0001085078765754588, -0.00016886586672626436, 0.00011909838212886825, 0.00011952340719290078, 4.315610567573458e-05, 0.00011482728586997837, 0.00011978234397247434, 0.00011355562310200185, 0.00011744388029910624, 0.00011449753219494596, 0.00011094937508460134, 0.00011778270709328353, 0.00011104786244686693, 0.00010614505299599841, 0.00011482418631203473, 0.00011368577543180436, 0.0001013784931274131, 0.00010497110633878037, 0.00012015722313662991, 0.00011616504343692213, 0.00012068240903317928, 0.00012581777991726995, 0.00011032914335373789, 0.00011704157805070281, 0.0001110116791096516, 0.00012076388520654291, -0.025809548795223236, -0.02637232281267643, 0.00011867597640957683, 0.0001363383635180071, 0.00010690653289202601, 0.00011350829299772158, 9.825881716096774e-05, 0.00011750838893931359, 0.00011353075387887657, 0.00012322768452577293, 0.00012040809087920934, 0.00010890788689721376, 0.00011048439046135172, 0.00011524151341291144, 3.587644096114673e-05, 0.00012221347424201667, 0.0001119237276725471, 0.00011614411050686613, 0.00011848926078528166, 9.493627294432372e-05, 0.00010840930190170184, 0.0001100282315746881, 0.00012182042701169848, 0.00011620137956924736, 0.0001150158277596347, 0.0001133463520091027, 0.00011514582729432732, 0.00011386111873434857, 0.00011040408571716398, 0.00011602104495977983, 0.00010871949780266732, 0.0001176836813101545, 0.0001199466860271059, 0.00011932472989428788, 0.00011051144974771887, 0.0001034542074194178, 9.043818863574415e-05, 0.00010086211113957688, 0.00011342503421474248, 0.000113490859803278, 0.00011009587615262717, 0.0001070400103344582, 0.00010821437172126025, 0.00011661396274575964, 0.00011466882278909907, -0.00011934120993828401, 0.00011294654541416094, 9.138358291238546e-05, 0.0001898348709801212, 0.00011108063335996121, 0.00011863815598189831, 0.00011500847176648676, 0.00011575956887099892, 0.00010837390436790884, 0.00010063234367407858, 0.00011958202958339825, 0.00011904091661563143, 0.00011153840023325756, 0.00013470671547111124, 0.00011915082723135129, 0.00011586321488721296, 0.00011337125033605844, 0.00011209281365154311, 0.00010630566976033151, 0.00012002820585621521, 0.0001055445391102694, 0.00011370392894605175, 0.00011269776587141678, 9.92401473922655e-05, 0.00011304687359370291, 0.00011159563291585073, 0.00010987142741214484, 0.00012185971718281507, 0.00011856026685563847, 9.058980504050851e-05, 0.00010806300269905478, 0.00012460476136766374, 0.00010913542791968212, 0.00011670999083435163, 0.0001006238890113309, 0.00011423275282140821, 0.00012370133481454104, 9.113668784266338e-05, 0.00012278123176656663, 0.00011099505354650319, 0.00011655326670734212, 0.0001253963855560869, 0.00010704741725930944, 0.00011753787839552388, 0.00011057656956836581, 0.00011325059313094243, 0.00011728307435987517, 0.00010632267367327586, 0.00011601504957070574, 0.00010703452426241711, 0.00011442032700870186, 0.00011332245776429772, -2.7205291189602576e-05, 0.00010627342271618545, 0.00012083294132025912, 0.00011504519352456555, 0.00010599487723084167, 0.0001075338150258176, 0.027580875903367996, 0.00011905282008228824, 0.00011531363998074085, 0.0001207559325848706, 0.00011882885155500844, 0.00010984730033669621, 0.00012326228898018599, 0.00011604154133237898, 0.00011224197805859149, 0.00010508811828913167, 0.0001485944667365402, 0.00011126435128971934, 0.00010011767881223932, 0.0001173428536276333, 0.00011757962056435645, 0.0001248690823558718, 0.00010147061402676627, 0.00011333666770951822, 0.00011342881771270186, 0.00011911047477042302, 0.00011530031770234928, 0.00010845946962945163, 0.00010727820335887372, 0.00011658317089313641, 0.00011166831973241642, 0.0001125153066823259, 0.00011892251495737582, 9.878670243779197e-05, 8.137435361277312e-05, 0.00011878267832798883, 0.00010733967792475596, 0.00011033827468054369, 0.00011486470611998811, 6.686028063995764e-05, 0.0002048430615104735, 0.00010691178613342345, 0.0001083529568859376, 9.696561028249562e-05, 0.00010895725426962599, 0.00011347393592586741, 0.00010674264922272414, 0.0001200615952257067, 0.0001074406027328223, 0.00012057227286277339, 0.00011118034308310598, 0.00011451486352598295, 0.00011158439156133682, 0.00010688178736018017, 0.00011380585783626884, 0.00011658838047878817, 0.00010829472739715129, 0.00012162468919996172, 0.00011058160453103483, 0.00012432786752469838, 0.00011189399810973555, 0.00011606496263993904, 0.00011801290384028107, 0.00011443790572229773, 0.00011840569641208276, 0.00011763077054638416, 0.00011337779142195359, 0.000119607757369522, 0.00011460367386462167, 0.00012353599595371634, 0.00011701785842888057, -0.04747142642736435, 0.00011764703231165186, 0.0001186870940728113, 0.00011568582704057917, 0.00010629063763190061, 0.00012029318895656615, -0.040122099220752716, 0.00011099899711553007, 0.00011416531924623996, 0.0001163912020274438, 0.00011390040162950754, 0.00010341246525058523, 0.00011227206414332613, 0.00011825325054815039, 0.001037311740219593, 0.00012173059076303616, 0.00011382306547602639, 0.00011558527330635116, 0.00012562957999762148, 0.00010510213178349659, 9.992602281272411e-05, 0.00011999881826341152, 0.00010622080299071968, 0.00010936235776171088, 0.00014309983816929162, 0.00011378974886611104, 0.00011920699034817517, 0.00012313679326325655, 0.00011801309301517904, 0.0001055594184435904, 0.00011925961007364094, 0.00011884277046192437, 0.00011594963143579662, 0.00011919026292162016, 0.00011398103379178792, 9.077414142666385e-05, 0.00011479193199193105, 0.00011192175588803366, 0.00011011327296728268, 0.00011609029024839401, 0.00011027166328858584, 9.755598148331046e-05, 0.00011734324652934447, 0.012876822613179684, 0.00011537834507180378, 0.00011400848597986624, 0.000150922205648385, 0.00011919078679056838, 0.00015572152915410697, 9.897392737912014e-05, 0.000111296700197272, -0.00021976449352223426, 0.00011514974175952375, 0.00010779777949210256, 0.00011230801464989781, 0.00011517841630848125, 0.00011162744340253994, 0.00011604884639382362, 0.00012120743485866114, 0.00010563146497588605, 0.00012079810403520241, 0.00010474317241460085, 0.00012646881805267185, 0.000105408595118206, 0.00011659150186460465, 0.00010688113979995251, 9.724665142130107e-05, 0.00011369871936039999, 0.00011005898704752326, 0.00011750225530704483, 0.00010668880713637918, 0.00011669163359329104, 0.00010957303311442956, 0.00010874530562432483, 0.00012152318231528625, 0.0001173075579572469, 0.00011614349205046892, 0.0001050004138960503, 0.00012161515041952953, 0.0001109721779357642, 0.00011903513222932816, 0.00011485930008348078, 0.00011600378638831899, 0.00010571275925030932, 0.000102622238046024, 0.00011022543185390532, 0.00011828607239294797, 0.0001064683310687542, 0.0001168006201623939, 0.00011139816342620179, 6.664873944828287e-05, 0.0001194519063574262, 0.00012060530571034178, 0.00011105381418019533, 0.00010816324356710538, 0.00012002828589174896, 0.00011742603237507865, 0.0001180890467367135, 0.00011682043987093493, 0.00010876788292080164, 0.00010985483095282689, 0.00011225630441913381]}],                        {\"autosize\": false, \"font\": {\"family\": \" Courier New \", \"size\": 15}, \"height\": 1000, \"legend\": {\"font\": {\"color\": \"black\", \"family\": \"Courier New\", \"size\": 25}, \"x\": 1, \"y\": 0.5}, \"margin\": {\"b\": 0, \"l\": 0, \"r\": 0, \"t\": 0}, \"showlegend\": true, \"template\": {\"data\": {\"bar\": [{\"error_x\": {\"color\": \"#2a3f5f\"}, \"error_y\": {\"color\": \"#2a3f5f\"}, \"marker\": {\"line\": {\"color\": \"#E5ECF6\", \"width\": 0.5}}, \"type\": \"bar\"}], \"barpolar\": [{\"marker\": {\"line\": {\"color\": \"#E5ECF6\", \"width\": 0.5}}, \"type\": \"barpolar\"}], \"carpet\": [{\"aaxis\": {\"endlinecolor\": \"#2a3f5f\", \"gridcolor\": \"white\", \"linecolor\": \"white\", \"minorgridcolor\": \"white\", \"startlinecolor\": \"#2a3f5f\"}, \"baxis\": {\"endlinecolor\": \"#2a3f5f\", \"gridcolor\": \"white\", \"linecolor\": \"white\", \"minorgridcolor\": \"white\", \"startlinecolor\": \"#2a3f5f\"}, \"type\": \"carpet\"}], \"choropleth\": [{\"colorbar\": {\"outlinewidth\": 0, \"ticks\": \"\"}, \"type\": \"choropleth\"}], \"contour\": [{\"colorbar\": {\"outlinewidth\": 0, \"ticks\": \"\"}, \"colorscale\": [[0.0, \"#0d0887\"], [0.1111111111111111, \"#46039f\"], [0.2222222222222222, \"#7201a8\"], [0.3333333333333333, \"#9c179e\"], [0.4444444444444444, \"#bd3786\"], [0.5555555555555556, \"#d8576b\"], [0.6666666666666666, \"#ed7953\"], [0.7777777777777778, \"#fb9f3a\"], [0.8888888888888888, \"#fdca26\"], [1.0, \"#f0f921\"]], \"type\": \"contour\"}], \"contourcarpet\": [{\"colorbar\": {\"outlinewidth\": 0, \"ticks\": \"\"}, \"type\": \"contourcarpet\"}], \"heatmap\": [{\"colorbar\": {\"outlinewidth\": 0, \"ticks\": \"\"}, \"colorscale\": [[0.0, \"#0d0887\"], [0.1111111111111111, \"#46039f\"], [0.2222222222222222, \"#7201a8\"], [0.3333333333333333, \"#9c179e\"], [0.4444444444444444, \"#bd3786\"], [0.5555555555555556, \"#d8576b\"], [0.6666666666666666, \"#ed7953\"], [0.7777777777777778, \"#fb9f3a\"], [0.8888888888888888, \"#fdca26\"], [1.0, \"#f0f921\"]], \"type\": \"heatmap\"}], \"heatmapgl\": [{\"colorbar\": {\"outlinewidth\": 0, \"ticks\": \"\"}, \"colorscale\": [[0.0, \"#0d0887\"], [0.1111111111111111, \"#46039f\"], [0.2222222222222222, \"#7201a8\"], [0.3333333333333333, \"#9c179e\"], [0.4444444444444444, \"#bd3786\"], [0.5555555555555556, \"#d8576b\"], [0.6666666666666666, \"#ed7953\"], [0.7777777777777778, \"#fb9f3a\"], [0.8888888888888888, \"#fdca26\"], [1.0, \"#f0f921\"]], \"type\": \"heatmapgl\"}], \"histogram\": [{\"marker\": {\"colorbar\": {\"outlinewidth\": 0, \"ticks\": \"\"}}, \"type\": \"histogram\"}], \"histogram2d\": [{\"colorbar\": {\"outlinewidth\": 0, \"ticks\": \"\"}, \"colorscale\": [[0.0, \"#0d0887\"], [0.1111111111111111, \"#46039f\"], [0.2222222222222222, \"#7201a8\"], [0.3333333333333333, \"#9c179e\"], [0.4444444444444444, \"#bd3786\"], [0.5555555555555556, \"#d8576b\"], [0.6666666666666666, \"#ed7953\"], [0.7777777777777778, \"#fb9f3a\"], [0.8888888888888888, \"#fdca26\"], [1.0, \"#f0f921\"]], \"type\": \"histogram2d\"}], \"histogram2dcontour\": [{\"colorbar\": {\"outlinewidth\": 0, \"ticks\": \"\"}, \"colorscale\": [[0.0, \"#0d0887\"], [0.1111111111111111, \"#46039f\"], [0.2222222222222222, \"#7201a8\"], [0.3333333333333333, \"#9c179e\"], [0.4444444444444444, \"#bd3786\"], [0.5555555555555556, \"#d8576b\"], [0.6666666666666666, \"#ed7953\"], [0.7777777777777778, \"#fb9f3a\"], [0.8888888888888888, \"#fdca26\"], [1.0, \"#f0f921\"]], \"type\": \"histogram2dcontour\"}], \"mesh3d\": [{\"colorbar\": {\"outlinewidth\": 0, \"ticks\": \"\"}, \"type\": \"mesh3d\"}], \"parcoords\": [{\"line\": {\"colorbar\": {\"outlinewidth\": 0, \"ticks\": \"\"}}, \"type\": \"parcoords\"}], \"pie\": [{\"automargin\": true, \"type\": \"pie\"}], \"scatter\": [{\"marker\": {\"colorbar\": {\"outlinewidth\": 0, \"ticks\": \"\"}}, \"type\": \"scatter\"}], \"scatter3d\": [{\"line\": {\"colorbar\": {\"outlinewidth\": 0, \"ticks\": \"\"}}, \"marker\": {\"colorbar\": {\"outlinewidth\": 0, \"ticks\": \"\"}}, \"type\": \"scatter3d\"}], \"scattercarpet\": [{\"marker\": {\"colorbar\": {\"outlinewidth\": 0, \"ticks\": \"\"}}, \"type\": \"scattercarpet\"}], \"scattergeo\": [{\"marker\": {\"colorbar\": {\"outlinewidth\": 0, \"ticks\": \"\"}}, \"type\": \"scattergeo\"}], \"scattergl\": [{\"marker\": {\"colorbar\": {\"outlinewidth\": 0, \"ticks\": \"\"}}, \"type\": \"scattergl\"}], \"scattermapbox\": [{\"marker\": {\"colorbar\": {\"outlinewidth\": 0, \"ticks\": \"\"}}, \"type\": \"scattermapbox\"}], \"scatterpolar\": [{\"marker\": {\"colorbar\": {\"outlinewidth\": 0, \"ticks\": \"\"}}, \"type\": \"scatterpolar\"}], \"scatterpolargl\": [{\"marker\": {\"colorbar\": {\"outlinewidth\": 0, \"ticks\": \"\"}}, \"type\": \"scatterpolargl\"}], \"scatterternary\": [{\"marker\": {\"colorbar\": {\"outlinewidth\": 0, \"ticks\": \"\"}}, \"type\": \"scatterternary\"}], \"surface\": [{\"colorbar\": {\"outlinewidth\": 0, \"ticks\": \"\"}, \"colorscale\": [[0.0, \"#0d0887\"], [0.1111111111111111, \"#46039f\"], [0.2222222222222222, \"#7201a8\"], [0.3333333333333333, \"#9c179e\"], [0.4444444444444444, \"#bd3786\"], [0.5555555555555556, \"#d8576b\"], [0.6666666666666666, \"#ed7953\"], [0.7777777777777778, \"#fb9f3a\"], [0.8888888888888888, \"#fdca26\"], [1.0, \"#f0f921\"]], \"type\": \"surface\"}], \"table\": [{\"cells\": {\"fill\": {\"color\": \"#EBF0F8\"}, \"line\": {\"color\": \"white\"}}, \"header\": {\"fill\": {\"color\": \"#C8D4E3\"}, \"line\": {\"color\": \"white\"}}, \"type\": \"table\"}]}, \"layout\": {\"annotationdefaults\": {\"arrowcolor\": \"#2a3f5f\", \"arrowhead\": 0, \"arrowwidth\": 1}, \"autotypenumbers\": \"strict\", \"coloraxis\": {\"colorbar\": {\"outlinewidth\": 0, \"ticks\": \"\"}}, \"colorscale\": {\"diverging\": [[0, \"#8e0152\"], [0.1, \"#c51b7d\"], [0.2, \"#de77ae\"], [0.3, \"#f1b6da\"], [0.4, \"#fde0ef\"], [0.5, \"#f7f7f7\"], [0.6, \"#e6f5d0\"], [0.7, \"#b8e186\"], [0.8, \"#7fbc41\"], [0.9, \"#4d9221\"], [1, \"#276419\"]], \"sequential\": [[0.0, \"#0d0887\"], [0.1111111111111111, \"#46039f\"], [0.2222222222222222, \"#7201a8\"], [0.3333333333333333, \"#9c179e\"], [0.4444444444444444, \"#bd3786\"], [0.5555555555555556, \"#d8576b\"], [0.6666666666666666, \"#ed7953\"], [0.7777777777777778, \"#fb9f3a\"], [0.8888888888888888, \"#fdca26\"], [1.0, \"#f0f921\"]], \"sequentialminus\": [[0.0, \"#0d0887\"], [0.1111111111111111, \"#46039f\"], [0.2222222222222222, \"#7201a8\"], [0.3333333333333333, \"#9c179e\"], [0.4444444444444444, \"#bd3786\"], [0.5555555555555556, \"#d8576b\"], [0.6666666666666666, \"#ed7953\"], [0.7777777777777778, \"#fb9f3a\"], [0.8888888888888888, \"#fdca26\"], [1.0, \"#f0f921\"]]}, \"colorway\": [\"#636efa\", \"#EF553B\", \"#00cc96\", \"#ab63fa\", \"#FFA15A\", \"#19d3f3\", \"#FF6692\", \"#B6E880\", \"#FF97FF\", \"#FECB52\"], \"font\": {\"color\": \"#2a3f5f\"}, \"geo\": {\"bgcolor\": \"white\", \"lakecolor\": \"white\", \"landcolor\": \"#E5ECF6\", \"showlakes\": true, \"showland\": true, \"subunitcolor\": \"white\"}, \"hoverlabel\": {\"align\": \"left\"}, \"hovermode\": \"closest\", \"mapbox\": {\"style\": \"light\"}, \"paper_bgcolor\": \"white\", \"plot_bgcolor\": \"#E5ECF6\", \"polar\": {\"angularaxis\": {\"gridcolor\": \"white\", \"linecolor\": \"white\", \"ticks\": \"\"}, \"bgcolor\": \"#E5ECF6\", \"radialaxis\": {\"gridcolor\": \"white\", \"linecolor\": \"white\", \"ticks\": \"\"}}, \"scene\": {\"xaxis\": {\"backgroundcolor\": \"#E5ECF6\", \"gridcolor\": \"white\", \"gridwidth\": 2, \"linecolor\": \"white\", \"showbackground\": true, \"ticks\": \"\", \"zerolinecolor\": \"white\"}, \"yaxis\": {\"backgroundcolor\": \"#E5ECF6\", \"gridcolor\": \"white\", \"gridwidth\": 2, \"linecolor\": \"white\", \"showbackground\": true, \"ticks\": \"\", \"zerolinecolor\": \"white\"}, \"zaxis\": {\"backgroundcolor\": \"#E5ECF6\", \"gridcolor\": \"white\", \"gridwidth\": 2, \"linecolor\": \"white\", \"showbackground\": true, \"ticks\": \"\", \"zerolinecolor\": \"white\"}}, \"shapedefaults\": {\"line\": {\"color\": \"#2a3f5f\"}}, \"ternary\": {\"aaxis\": {\"gridcolor\": \"white\", \"linecolor\": \"white\", \"ticks\": \"\"}, \"baxis\": {\"gridcolor\": \"white\", \"linecolor\": \"white\", \"ticks\": \"\"}, \"bgcolor\": \"#E5ECF6\", \"caxis\": {\"gridcolor\": \"white\", \"linecolor\": \"white\", \"ticks\": \"\"}}, \"title\": {\"x\": 0.05}, \"xaxis\": {\"automargin\": true, \"gridcolor\": \"white\", \"linecolor\": \"white\", \"ticks\": \"\", \"title\": {\"standoff\": 15}, \"zerolinecolor\": \"white\", \"zerolinewidth\": 2}, \"yaxis\": {\"automargin\": true, \"gridcolor\": \"white\", \"linecolor\": \"white\", \"ticks\": \"\", \"title\": {\"standoff\": 15}, \"zerolinecolor\": \"white\", \"zerolinewidth\": 2}}}, \"width\": 1000},                        {\"responsive\": true}                    ).then(function(){\n                            \nvar gd = document.getElementById('f8767fd1-c9e0-4d72-91af-93a02f974a59');\nvar x = new MutationObserver(function (mutations, observer) {{\n        var display = window.getComputedStyle(gd).display;\n        if (!display || display === 'none') {{\n            console.log([gd, 'removed!']);\n            Plotly.purge(gd);\n            observer.disconnect();\n        }}\n}});\n\n// Listen for the removal of the full notebook cells\nvar notebookContainer = gd.closest('#notebook-container');\nif (notebookContainer) {{\n    x.observe(notebookContainer, {childList: true});\n}}\n\n// Listen for the clearing of the current output cell\nvar outputEl = gd.closest('.output');\nif (outputEl) {{\n    x.observe(outputEl, {childList: true});\n}}\n\n                        })                };                });            </script>        </div>"
     },
     "metadata": {}
    }
   ],
   "source": [
    "   layout = go.Layout(\n",
    "        margin = {'l': 0, 'r': 0, 'b': 0, 't': 0},\n",
    "        showlegend=True,\n",
    "        legend=dict(\n",
    "        x=1,\n",
    "        y=0.5,\n",
    "        font=dict(\n",
    "            family=\"Courier New\",\n",
    "            size=25,\n",
    "            color=\"black\"\n",
    "        )),\n",
    "        font = dict(\n",
    "            family = \" Courier New \",\n",
    "            size = 15),\n",
    "        autosize = False,\n",
    "        width = 1000,\n",
    "        height = 1000\n",
    "        )\n",
    "\n",
    "\n",
    "plot_figure = go.Figure(data = data, layout = layout)\n",
    "plot_figure.show()"
   ]
  },
  {
   "cell_type": "code",
   "execution_count": 18,
   "metadata": {},
   "outputs": [
    {
     "output_type": "display_data",
     "data": {
      "text/plain": "<Figure size 864x576 with 0 Axes>"
     },
     "metadata": {}
    }
   ],
   "source": [
    "\n",
    "imgname = 'extra/' + '3d' + '.png'\n",
    "plt.savefig(imgname,bbox_inches = 'tight')"
   ]
  },
  {
   "cell_type": "code",
   "execution_count": null,
   "metadata": {},
   "outputs": [],
   "source": []
  }
 ]
}